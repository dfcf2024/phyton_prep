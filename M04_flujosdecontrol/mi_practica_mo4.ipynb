{
 "cells": [
  {
   "cell_type": "code",
   "execution_count": 2,
   "metadata": {},
   "outputs": [
    {
     "name": "stdout",
     "output_type": "stream",
     "text": [
      "a y b son iguales\n"
     ]
    }
   ],
   "source": [
    "#ejercicio con if, elif, else\n",
    "\n",
    "\n",
    "a=70\n",
    "b=70\n",
    "if a<b:\n",
    "    print(\"a es menor que b\")\n",
    "elif a>b:\n",
    "    print(\"a es mayor que b\")\n",
    "else:\n",
    "    print(\"a y b son iguales\")    "
   ]
  },
  {
   "cell_type": "code",
   "execution_count": 5,
   "metadata": {},
   "outputs": [
    {
     "name": "stdout",
     "output_type": "stream",
     "text": [
      "A PARTIR DE AHORA SOY MAYOR DE EDAD\n"
     ]
    }
   ],
   "source": [
    "#ejercicio con if, elif, else\n",
    "\n",
    "\n",
    "EDAD=18\n",
    "\n",
    "if EDAD>18:\n",
    "    print(\"SOY MAYOR DE EDAD\")\n",
    "elif EDAD<18:\n",
    "    print(\"SOY MENOR DE EDAD\")\n",
    "else:\n",
    "    print(\"A PARTIR DE AHORA SOY MAYOR DE EDAD\")"
   ]
  },
  {
   "cell_type": "code",
   "execution_count": 12,
   "metadata": {},
   "outputs": [
    {
     "name": "stdout",
     "output_type": "stream",
     "text": [
      "soy menor que 10 y como estoy primerop me voy a ejecutar primero\n"
     ]
    }
   ],
   "source": [
    "#ejercicio con if, elif y else\n",
    "\n",
    "\n",
    "num=6\n",
    "if num>10:\n",
    "    print(\"soy mayor\")\n",
    "elif num<10:\n",
    "    print(\"soy menor que 10 y como estoy primerop me voy a ejecutar primero\")\n",
    "elif num<7:\n",
    "    print(\"soy tambien menor\")\n",
    "else:\n",
    "    print(\"soyigual\")\n",
    "\n",
    "\n"
   ]
  },
  {
   "cell_type": "code",
   "execution_count": 26,
   "metadata": {},
   "outputs": [
    {
     "name": "stdout",
     "output_type": "stream",
     "text": [
      "2\n",
      "3\n",
      "4\n",
      "5\n",
      "6\n"
     ]
    }
   ],
   "source": [
    "#ejercicio con for in\n",
    "numeros=[1,2,3,4,5]\n",
    "for num in numeros:\n",
    "    nuevo_num=num+1\n",
    "    print(nuevo_num)\n",
    "    \n"
   ]
  },
  {
   "cell_type": "code",
   "execution_count": 13,
   "metadata": {},
   "outputs": [
    {
     "name": "stdout",
     "output_type": "stream",
     "text": [
      "p\n",
      "se encontro la h\n"
     ]
    }
   ],
   "source": [
    "#ejercicios con for in con break y if\n",
    "\n",
    "cadena=\"phyton\"\n",
    "for letra in cadena:\n",
    "    if letra==\"h\":\n",
    "        print(\"se encontro la h\")\n",
    "        break\n",
    "    print(letra)"
   ]
  },
  {
   "cell_type": "code",
   "execution_count": 47,
   "metadata": {},
   "outputs": [
    {
     "name": "stdout",
     "output_type": "stream",
     "text": [
      "4\n",
      "3\n",
      "2\n",
      "1\n",
      "0\n",
      "fin del bucle\n"
     ]
    }
   ],
   "source": [
    "#ejercicio con while, if y break (pare)\n",
    "\n",
    "x=5             #itera desde 5\n",
    "while True:     #mientras iteras\n",
    "    x-=1         #condicion 1. disminuye en 1 en cada iteracion\n",
    "    print(x)        #condicion2. imprime cada iteracion\n",
    "    if x==0: break       #condicion3. cuando la iteracion se encuentre con 0 entonces\n",
    "print(\"fin del bucle\")\n"
   ]
  },
  {
   "cell_type": "code",
   "execution_count": 14,
   "metadata": {},
   "outputs": [
    {
     "name": "stdout",
     "output_type": "stream",
     "text": [
      "y\n",
      "t\n",
      "h\n",
      "o\n",
      "n\n"
     ]
    }
   ],
   "source": [
    "#ejercicio con for in y if y continue\n",
    "\n",
    "cadena=\"python\"\n",
    "for letra in cadena:\n",
    "    if letra==\"p\":\n",
    "        continue\n",
    "    print(letra)\n",
    "\n",
    "\n",
    "\n",
    "\n"
   ]
  },
  {
   "cell_type": "code",
   "execution_count": 15,
   "metadata": {},
   "outputs": [
    {
     "name": "stdout",
     "output_type": "stream",
     "text": [
      "p\n"
     ]
    }
   ],
   "source": [
    "cadena=\"python\"\n",
    "for letra in cadena:\n",
    "    if letra==\"p\":\n",
    "        print(letra)\n",
    "    break"
   ]
  },
  {
   "cell_type": "code",
   "execution_count": 60,
   "metadata": {},
   "outputs": [
    {
     "name": "stdout",
     "output_type": "stream",
     "text": [
      "-2 es menor que 0\n"
     ]
    }
   ],
   "source": [
    "#TALLER FINAL MODULO 4\n",
    "\n",
    "#PUNTO 1.\n",
    "X=-2\n",
    "if X>0: print(X , \"es mayor que cero\")\n",
    "elif X<0: print (X, \"es menor que 0\")\n",
    "else: print (X, \"soy igual a cero\")"
   ]
  },
  {
   "cell_type": "markdown",
   "metadata": {},
   "source": [
    "#PUNTO 2\n",
    "\n",
    "x="
   ]
  },
  {
   "cell_type": "code",
   "execution_count": 2,
   "metadata": {},
   "outputs": [
    {
     "name": "stdout",
     "output_type": "stream",
     "text": [
      "1 es impar\n",
      "2 es par\n",
      "3 es impar\n",
      "4 es par\n",
      "5 es impar\n",
      "6 es par\n",
      "7 es impar\n",
      "8 es par\n",
      "9 es impar\n",
      "10 es par\n",
      "11 es impar\n",
      "12 es par\n",
      "13 es impar\n",
      "14 es par\n",
      "15 es impar\n",
      "16 es par\n",
      "17 es impar\n",
      "18 es par\n",
      "19 es impar\n",
      "20 es par\n"
     ]
    }
   ],
   "source": [
    "#PUNTO 3\n",
    "\n",
    "for numero in range(1,21):\n",
    "    if numero %2==0: print(numero, \"es par\")\n",
    "    elif print(numero,\"es impar\"):\n",
    "        break"
   ]
  },
  {
   "cell_type": "code",
   "execution_count": 17,
   "metadata": {},
   "outputs": [
    {
     "name": "stdout",
     "output_type": "stream",
     "text": [
      "1 es impar\n",
      "2 es par\n",
      "3 es impar\n",
      "4 es par\n",
      "5 es impar\n",
      "6 es par\n",
      "7 es impar\n",
      "8 es par\n",
      "9 es impar\n",
      "10 es par\n",
      "11 es impar\n",
      "12 es par\n",
      "13 es impar\n",
      "14 es par\n",
      "15 es impar\n",
      "16 es par\n",
      "17 es impar\n",
      "18 es par\n",
      "19 es impar\n",
      "20 es par\n"
     ]
    }
   ],
   "source": [
    "#PUNTO 3\n",
    "\n",
    "for numero in range(1,21):\n",
    "    if numero %2==0: print(numero, \"es par\")\n",
    "    else: print(numero,\"es impar\")              "
   ]
  },
  {
   "cell_type": "code",
   "execution_count": 68,
   "metadata": {},
   "outputs": [
    {
     "name": "stdout",
     "output_type": "stream",
     "text": [
      "el cubo de 0 es 0\n",
      "el cubo de 1 es 1\n",
      "el cubo de 2 es 8\n",
      "el cubo de 3 es 27\n",
      "el cubo de 4 es 64\n",
      "el cubo de 5 es 125\n"
     ]
    }
   ],
   "source": [
    "#punto 4\n",
    "for iteracion in range(6):\n",
    "    x=iteracion**3\n",
    "    print(\"el cubo de\", iteracion, \"es\" , x )\n",
    "\n"
   ]
  },
  {
   "cell_type": "code",
   "execution_count": 135,
   "metadata": {},
   "outputs": [
    {
     "name": "stdout",
     "output_type": "stream",
     "text": [
      "el cubo de 0 es 0\n",
      "el cubo de 1 es 1\n",
      "el cubo de 2 es 8\n",
      "el cubo de 3 es 27\n",
      "el cubo de 4 es 64\n",
      "el cubo de 5 es 125\n"
     ]
    }
   ],
   "source": [
    "#punto 4 profesor\n",
    "for i in range(6):\n",
    "    print(\"el cubo de\", str(i), \"es\", str (i**3 ))"
   ]
  },
  {
   "cell_type": "code",
   "execution_count": 2,
   "metadata": {},
   "outputs": [
    {
     "name": "stdout",
     "output_type": "stream",
     "text": [
      "1 iteracion\n",
      "2 iteracion\n",
      "3 iteracion\n",
      "4 iteracion\n",
      "5 iteracion\n",
      "6 iteracion\n",
      "7 iteracion\n",
      "8 iteracion\n",
      "9 iteracion\n"
     ]
    }
   ],
   "source": [
    "#punto 5\n",
    "variable=9\n",
    "for variable in range(variable):\n",
    "    print(variable+1,\"iteracion\")"
   ]
  },
  {
   "cell_type": "markdown",
   "metadata": {},
   "source": [
    "6) Utilizar un ciclo while para realizar el factorial de un número guardado en una variable, sólo si la variable contiene un número entero mayor a 0"
   ]
  },
  {
   "cell_type": "code",
   "execution_count": 12,
   "metadata": {},
   "outputs": [
    {
     "name": "stdout",
     "output_type": "stream",
     "text": [
      "el factorial de 5 ES 120\n"
     ]
    }
   ],
   "source": [
    "#punto 6---mi respuesta\n",
    "\n",
    "from math import factorial\n",
    "resultado=1\n",
    "X=5\n",
    "for i in range(1,X+1):\n",
    "    resultado*= i\n",
    "print (\"el factorial de\" , str(X),\"ES\", resultado)\n",
    "#print (resultado)\n",
    "\n",
    "\n",
    "\n"
   ]
  },
  {
   "cell_type": "code",
   "execution_count": 4,
   "metadata": {},
   "outputs": [
    {
     "name": "stdout",
     "output_type": "stream",
     "text": [
      "El factorial es 24\n"
     ]
    }
   ],
   "source": [
    "#punto 6-respuesta profe\n",
    "\n",
    "n = 4\n",
    "if (type(n) == int):\n",
    "    if (n > 0):\n",
    "        factorial = n\n",
    "        while (n > 2):\n",
    "            n = n - 1\n",
    "            factorial = factorial * n\n",
    "        print('El factorial es', factorial)\n",
    "    else:\n",
    "        print('La variable no es mayor a cero')\n",
    "else:\n",
    "    print('La variable no es un entero')"
   ]
  },
  {
   "cell_type": "code",
   "execution_count": 13,
   "metadata": {},
   "outputs": [
    {
     "name": "stdout",
     "output_type": "stream",
     "text": [
      "Tengo 25 años.\n"
     ]
    }
   ],
   "source": [
    "edad = 25\n",
    "mensaje = \"Tengo \" + str(edad) + \" años.\"\n",
    "print(mensaje)"
   ]
  },
  {
   "cell_type": "markdown",
   "metadata": {},
   "source": [
    "7. Crear un ciclo for dentro de un ciclo while"
   ]
  },
  {
   "cell_type": "code",
   "execution_count": 15,
   "metadata": {},
   "outputs": [
    {
     "name": "stdout",
     "output_type": "stream",
     "text": [
      "Ciclo while nro 4\n",
      "Ciclo for nro 1\n",
      "Ciclo for nro 2\n",
      "Ciclo for nro 3\n",
      "Ciclo for nro 4\n"
     ]
    }
   ],
   "source": [
    "#7. Crear un ciclo for dentro de un ciclo while\n",
    "#profesor\n",
    "n = 4\n",
    "while n < 5:\n",
    "    print('Ciclo while nro ' + str(n))  # Imprime el número del ciclo while\n",
    "    for i in range(1, n+1): # como la función range(a, b) genera una secuencia de números desde a hasta b-1. Para que el bucle for incluya el número n, usamos range(1, n+1) en lugar de range(1, n).\n",
    "        print('Ciclo for nro ' + str(i))  # Imprime el número del ciclo for\n",
    "    n += 1"
   ]
  },
  {
   "cell_type": "markdown",
   "metadata": {},
   "source": [
    "8) Crear un ciclo while dentro de un ciclo for"
   ]
  },
  {
   "cell_type": "code",
   "execution_count": 6,
   "metadata": {},
   "outputs": [
    {
     "name": "stdout",
     "output_type": "stream",
     "text": [
      "¡Bienvenido a la feria de diversiones!\n",
      "¡Nos subimos a la Montaña rusa !\n",
      "¡Nos subimos a la Carrusel !\n",
      "¡Nos subimos a la Casa del terror !\n",
      "queres  seguir en la feria después de subirnos a todas las atracciones?\n",
      "no\n",
      "¡Es hora de irnos a casa! ¡Nos lo pasamos genial en la feria de diversiones!\n"
     ]
    }
   ],
   "source": [
    "# Definimos la variable para indicar si seguimos en la feria\n",
    "sigues_en_la_feria = True\n",
    "\n",
    "# Iniciamos un ciclo while para seguir en la feria de diversiones\n",
    "while sigues_en_la_feria:\n",
    "    print(\"¡Bienvenido a la feria de diversiones!\")\n",
    "\n",
    "    # Iniciamos un ciclo for para subirnos a cada atracción varias veces\n",
    "    for atraccion in [\"Montaña rusa\", \"Carrusel\", \"Casa del terror\"]:\n",
    "        print(\"¡Nos subimos a la\", atraccion, \"!\")  # Nos subimos a la atracción actual\n",
    "\n",
    "    print(\"queres  seguir en la feria después de subirnos a todas las atracciones?\")\n",
    "    respuesta = \"no\"  # Simulamos la respuesta del usuario\n",
    "    print(respuesta)\n",
    "\n",
    "    # Si respondemos \"no\", cambiamos el valor de sigues_en_la_feria a False\n",
    "    if respuesta == \"no\":\n",
    "        sigues_en_la_feria = False\n",
    "\n",
    "# Al salir de la feria, imprimimos un mensaje de despedida\n",
    "print(\"¡Es hora de irnos a casa! ¡Nos lo pasamos genial en la feria de diversiones!\")"
   ]
  },
  {
   "cell_type": "code",
   "execution_count": 162,
   "metadata": {},
   "outputs": [
    {
     "name": "stdout",
     "output_type": "stream",
     "text": [
      "Empieza el ciclo for, i es 0\n",
      "   Empieza el ciclo while, j es 0\n",
      "   Empieza el ciclo while, j es 1\n",
      "Termina el ciclo while, j ahora es 2\n",
      "Empieza el ciclo for, i es 1\n",
      "   Empieza el ciclo while, j es 0\n",
      "   Empieza el ciclo while, j es 1\n",
      "Termina el ciclo while, j ahora es 2\n",
      "Empieza el ciclo for, i es 2\n",
      "   Empieza el ciclo while, j es 0\n",
      "   Empieza el ciclo while, j es 1\n",
      "Termina el ciclo while, j ahora es 2\n",
      "Termina el ciclo for\n"
     ]
    }
   ],
   "source": [
    "for i in range(3):  # Para cada número i en el rango de 0 a 2\n",
    "    print(\"Empieza el ciclo for, i es\", i)  # Imprime un mensaje indicando el inicio del ciclo for\n",
    "    j = 0  # Inicializa j en 0 antes de comenzar el ciclo while\n",
    "    while j < 2:  # Mientras j sea menor que 2\n",
    "        print(\"   Empieza el ciclo while, j es\", j)  # Imprime un mensaje indicando el inicio del ciclo while\n",
    "        j += 1  # Incrementa j en 1 en cada iteración del ciclo while\n",
    "    print(\"Termina el ciclo while, j ahora es\", j)  # Imprime un mensaje indicando el fin del ciclo while\n",
    "print(\"Termina el ciclo for\")  # Imprime un mensaje indicando el fin del ciclo for"
   ]
  },
  {
   "cell_type": "code",
   "execution_count": 175,
   "metadata": {},
   "outputs": [
    {
     "name": "stdout",
     "output_type": "stream",
     "text": [
      "¡Vamos a la atracción número 1 !\n",
      "   ¡Estamos esperando en la fila en el puesto  número 3 !\n",
      "   ¡Estamos esperando en la fila en el puesto  número 2 !\n",
      "¡Finalmente llegamos al principio de la fila!\n",
      "¡Vamos a la atracción número 2 !\n",
      "   ¡Estamos esperando en la fila en el puesto  número 3 !\n",
      "   ¡Estamos esperando en la fila en el puesto  número 2 !\n",
      "¡Finalmente llegamos al principio de la fila!\n",
      "¡Vamos a la atracción número 3 !\n",
      "   ¡Estamos esperando en la fila en el puesto  número 3 !\n",
      "   ¡Estamos esperando en la fila en el puesto  número 2 !\n",
      "¡Finalmente llegamos al principio de la fila!\n",
      "¡Hemos visitado todas las atracciones y nos lo hemos pasado genial!\n"
     ]
    }
   ],
   "source": [
    "# Imagina que estás en una feria de diversiones y quieres subir a tres atracciones diferentes.\n",
    "# las atracciones tienen filas (ciclo for), y cada fila tiene diferentes personas esperando (ciclo while).\n",
    "\n",
    "for atraccion in range(3):  # Imagina que tienes tres atracciones que quieres visitar\n",
    "    print(\"¡Vamos a la atracción número\", atraccion+1, \"!\")  # Le dices a tus amigos que están contigo a qué atracción van\n",
    "\n",
    "    fila = 4  # Al principio, estás al inicio de cada fila\n",
    "    while fila > 2:  # haras la fila mientras maximo hallan 2 personas\n",
    "        print(\"   ¡Estamos esperando en la fila en el puesto  número\", fila-1, \"!\")  # Le dices a tus amigos en qué puesto de la fila estás\n",
    "        fila -= 1  # Te mueves un poco más hacia adelante en la fila\n",
    "\n",
    "    print(\"¡Finalmente llegamos al principio de la fila!\")  # Te alegras de que finalmente estás al principio de la fila y estás listo para subir a la atracción\n",
    "\n",
    "print(\"¡Hemos visitado todas las atracciones y nos lo hemos pasado genial!\")  # Cuando has visitado todas las atracciones, te despides de tus amigos y te vas a casa\n"
   ]
  },
  {
   "cell_type": "markdown",
   "metadata": {},
   "source": [
    "14) Crear un ciclo while que encuentre dentro del rango de 100 a 300 el primer número divisible por 3 y además múltiplo de 6"
   ]
  },
  {
   "cell_type": "code",
   "execution_count": 25,
   "metadata": {},
   "outputs": [
    {
     "name": "stdout",
     "output_type": "stream",
     "text": [
      "102 es divisible por 3 y 6\n"
     ]
    }
   ],
   "source": [
    "n=100\n",
    "while n<300:\n",
    "    #n +=1\n",
    "    if n%6==0:\n",
    "        print(n , \"es divisible por 3 y 6\")\n",
    "        break\n",
    "    n +=1"
   ]
  },
  {
   "cell_type": "code",
   "execution_count": 17,
   "metadata": {},
   "outputs": [
    {
     "name": "stdout",
     "output_type": "stream",
     "text": [
      "El número es: 102\n"
     ]
    }
   ],
   "source": [
    "# Inicializamos la variable n en 100\n",
    "n = 100\n",
    "\n",
    "# Comenzamos un bucle while que se ejecutará mientras n sea menor o igual a 300\n",
    "while n <= 300:\n",
    "    # Comprobamos si n es divisible por 6 sin dejar residuo\n",
    "    if n % 6 == 0:\n",
    "        # Si es divisible, imprimimos el mensaje y el valor de n\n",
    "        print('El número es:', n)\n",
    "        # Salimos del bucle while utilizando la instrucción 'break'\n",
    "        break\n",
    "    \n",
    "    # Incrementamos n en 1 para pasar al siguiente número\n",
    "    n += 1"
   ]
  }
 ],
 "metadata": {
  "kernelspec": {
   "display_name": "Python 3",
   "language": "python",
   "name": "python3"
  },
  "language_info": {
   "codemirror_mode": {
    "name": "ipython",
    "version": 3
   },
   "file_extension": ".py",
   "mimetype": "text/x-python",
   "name": "python",
   "nbconvert_exporter": "python",
   "pygments_lexer": "ipython3",
   "version": "3.12.2"
  }
 },
 "nbformat": 4,
 "nbformat_minor": 2
}
