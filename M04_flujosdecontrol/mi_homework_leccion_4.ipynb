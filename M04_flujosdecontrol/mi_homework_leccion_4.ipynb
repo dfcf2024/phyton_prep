{
 "cells": [
  {
   "cell_type": "markdown",
   "metadata": {},
   "source": [
    "1) Crear una variable que contenga un elemento del conjunto de números enteros y luego imprimir por pantalla si es mayor o menor a cero"
   ]
  },
  {
   "cell_type": "code",
   "execution_count": 186,
   "metadata": {},
   "outputs": [
    {
     "name": "stdout",
     "output_type": "stream",
     "text": [
      "la variable  -3 es menor que cero\n"
     ]
    }
   ],
   "source": [
    "X=int(-3)\n",
    "if X>0:\n",
    "    print(\"la variable \", X, \"es mayor que cero\")\n",
    "elif X<0:\n",
    "    print(\"la variable \",X, \"es menor que cero\")\n",
    "else:\n",
    "    print(\"la variable es igual a cero\")  "
   ]
  },
  {
   "cell_type": "markdown",
   "metadata": {},
   "source": [
    "2) Crear dos variables y un condicional que informe si son del mismo tipo de dato"
   ]
  },
  {
   "cell_type": "code",
   "execution_count": 187,
   "metadata": {},
   "outputs": [
    {
     "name": "stdout",
     "output_type": "stream",
     "text": [
      "3.2 y 4 NO son del mismo tipo\n"
     ]
    }
   ],
   "source": [
    "a=3.2\n",
    "b=4\n",
    "if type(a)==type(b):\n",
    "    print(a , \"y\" ,b, \"son del mismo tipo\")\n",
    "else:\n",
    "    print(a , \"y\" ,b, \"NO son del mismo tipo\")"
   ]
  },
  {
   "cell_type": "code",
   "execution_count": 188,
   "metadata": {},
   "outputs": [
    {
     "name": "stdout",
     "output_type": "stream",
     "text": [
      "No son el mismo tipo de dato, perro es <class 'str'> y 6.3 es <class 'float'>\n"
     ]
    }
   ],
   "source": [
    "a=\"perro\"\n",
    "b=6.3\n",
    "if type(a)==type(b):\n",
    "    print(a , \"y\" ,b, \"son del mismo tipo, es decir\", {type(a)})\n",
    "else:\n",
    "    print(f\"No son el mismo tipo de dato, {a} es {type(a)} y {b} es {type(b)}\")\n",
    "          "
   ]
  },
  {
   "cell_type": "markdown",
   "metadata": {},
   "source": [
    "3) Para los valores enteros del 1 al 20, imprimir por pantalla si es par o impar"
   ]
  },
  {
   "cell_type": "code",
   "execution_count": 189,
   "metadata": {},
   "outputs": [
    {
     "name": "stdout",
     "output_type": "stream",
     "text": [
      "1 es impar\n",
      "2 es par\n",
      "3 es impar\n",
      "4 es par\n",
      "5 es impar\n",
      "6 es par\n",
      "7 es impar\n",
      "8 es par\n",
      "9 es impar\n",
      "10 es par\n",
      "11 es impar\n",
      "12 es par\n",
      "13 es impar\n",
      "14 es par\n",
      "15 es impar\n",
      "16 es par\n",
      "17 es impar\n",
      "18 es par\n",
      "19 es impar\n",
      "20 es par\n"
     ]
    }
   ],
   "source": [
    "#con for\n",
    "\n",
    "for X in range(1,21):\n",
    "   \n",
    "\n",
    "    if X%2==0:\n",
    "        print(X, \"es par\")\n",
    "    elif X%2!=0:\n",
    "        print(X, \"es impar\")  \n",
    "\n"
   ]
  },
  {
   "cell_type": "code",
   "execution_count": 190,
   "metadata": {},
   "outputs": [
    {
     "name": "stdout",
     "output_type": "stream",
     "text": [
      "El número  1  es impar\n",
      "El número  2  es par\n",
      "El número  3  es impar\n",
      "El número  4  es par\n",
      "El número  5  es impar\n",
      "El número  6  es par\n",
      "El número  7  es impar\n",
      "El número  8  es par\n",
      "El número  9  es impar\n",
      "El número  10  es par\n",
      "El número  11  es impar\n",
      "El número  12  es par\n",
      "El número  13  es impar\n",
      "El número  14  es par\n",
      "El número  15  es impar\n",
      "El número  16  es par\n",
      "El número  17  es impar\n",
      "El número  18  es par\n",
      "El número  19  es impar\n",
      "El número  20  es par\n"
     ]
    }
   ],
   "source": [
    "#respuesta profe\n",
    "#resuelto con bucle for\n",
    "\n",
    "for i in range(1, 21):\n",
    "    if i % 2 == 0:\n",
    "        print('El número ', str(i), ' es par')\n",
    "    else:\n",
    "        print('El número ', (i), ' es impar')"
   ]
  },
  {
   "cell_type": "code",
   "execution_count": 191,
   "metadata": {},
   "outputs": [
    {
     "name": "stdout",
     "output_type": "stream",
     "text": [
      "1 es impar\n",
      "2 es par\n",
      "3 es impar\n",
      "4 es par\n",
      "5 es impar\n",
      "6 es par\n",
      "7 es impar\n",
      "8 es par\n",
      "9 es impar\n",
      "10 es par\n",
      "11 es impar\n",
      "12 es par\n",
      "13 es impar\n",
      "14 es par\n",
      "15 es impar\n",
      "16 es par\n",
      "17 es impar\n",
      "18 es par\n",
      "19 es impar\n",
      "20 es par\n"
     ]
    }
   ],
   "source": [
    "#con while\n",
    "X=1\n",
    "while X<21:\n",
    "    if X%2==0:\n",
    "        print(X, \"es par\")\n",
    "    elif X%2!=0:\n",
    "        print(X, \"es impar\") \n",
    "    X=X+1"
   ]
  },
  {
   "cell_type": "markdown",
   "metadata": {},
   "source": [
    "4) En un ciclo for mostrar para los valores entre 0 y 5 el resultado de elevarlo a la potencia igual a 3"
   ]
  },
  {
   "cell_type": "code",
   "execution_count": 192,
   "metadata": {},
   "outputs": [
    {
     "name": "stdout",
     "output_type": "stream",
     "text": [
      "0 elevado al cubo es igual a 0\n",
      "1 elevado al cubo es igual a 1\n",
      "2 elevado al cubo es igual a 8\n",
      "3 elevado al cubo es igual a 27\n",
      "4 elevado al cubo es igual a 64\n",
      "5 elevado al cubo es igual a 125\n"
     ]
    }
   ],
   "source": [
    "for X in range(0,6):\n",
    "    cubo=X**3\n",
    "    print(f\"{X} elevado al cubo es igual a {cubo}\")"
   ]
  },
  {
   "cell_type": "code",
   "execution_count": 193,
   "metadata": {},
   "outputs": [
    {
     "name": "stdout",
     "output_type": "stream",
     "text": [
      "Valor: 0  Elevado a la 3ra potencia: 0\n",
      "Valor: 1  Elevado a la 3ra potencia: 1\n",
      "Valor: 2  Elevado a la 3ra potencia: 8\n",
      "Valor: 3  Elevado a la 3ra potencia: 27\n",
      "Valor: 4  Elevado a la 3ra potencia: 64\n",
      "Valor: 5  Elevado a la 3ra potencia: 125\n"
     ]
    }
   ],
   "source": [
    "#respuesta del profe\n",
    "for i in range(0, 6):\n",
    "    print('Valor:', str(i), ' Elevado a la 3ra potencia:', str(i**3))"
   ]
  },
  {
   "cell_type": "markdown",
   "metadata": {},
   "source": [
    "5) Crear una variable que contenga un número entero y realizar un ciclo for la misma cantidad de ciclos"
   ]
  },
  {
   "cell_type": "code",
   "execution_count": 194,
   "metadata": {},
   "outputs": [
    {
     "name": "stdout",
     "output_type": "stream",
     "text": [
      "20\n"
     ]
    }
   ],
   "source": [
    "X=int (20)\n",
    "for X in range(0,X+1):\n",
    "        pass\n",
    "print(X)\n",
    "    "
   ]
  },
  {
   "cell_type": "markdown",
   "metadata": {},
   "source": [
    "6) Utilizar un ciclo while para realizar el factorial de un número guardado en una variable, sólo si la variable contiene un número entero mayor a 0"
   ]
  },
  {
   "cell_type": "code",
   "execution_count": 195,
   "metadata": {},
   "outputs": [
    {
     "name": "stdout",
     "output_type": "stream",
     "text": [
      "el factorial de 4 es 24\n"
     ]
    }
   ],
   "source": [
    "numero=4\n",
    "\n",
    "if numero <=0: \n",
    "    print(\"el numero debe ser mayor a cero\")\n",
    "else:\n",
    "    factorial=1             #inicia en 1\n",
    "    numero_original=numero  #hago esto antes del while para q me muestre el numero a factoriar, sino despues del while numero sera cero\n",
    "    while numero >0:        #\"itera hasta que numero llegue a 1\"\n",
    "        factorial*=numero\n",
    "        numero-=1\n",
    "\n",
    "    print(f\"el factorial de {numero_original} es {factorial}\")\n",
    "\n",
    "\n"
   ]
  },
  {
   "cell_type": "code",
   "execution_count": 196,
   "metadata": {},
   "outputs": [
    {
     "name": "stdout",
     "output_type": "stream",
     "text": [
      "24\n"
     ]
    }
   ],
   "source": [
    "#con for\n",
    "numero=4\n",
    "factorial=1\n",
    "for i in range(2,numero+1):\n",
    "    factorial=i*factorial\n",
    "print(factorial)"
   ]
  },
  {
   "cell_type": "markdown",
   "metadata": {},
   "source": [
    "7) Crear un ciclo for dentro de un ciclo while"
   ]
  },
  {
   "cell_type": "code",
   "execution_count": 197,
   "metadata": {},
   "outputs": [
    {
     "name": "stdout",
     "output_type": "stream",
     "text": [
      "la suma de pares hasta 100 es 247450\n"
     ]
    }
   ],
   "source": [
    "#el while me dice que haga algo con el for hasta que se cumpla una condicion dada por el while\n",
    "#respuesta 1. suma los numeros pares hasta el limite\n",
    "\n",
    "limite=100\n",
    "suma_total=0\n",
    "numero=0\n",
    "\n",
    "#ciclo while para controlar\n",
    "while numero<=limite:       #Opera mientras el numero sea igual o menor al limite\n",
    "    for i in range(limite): #itera en el rango hasta el limite dado\n",
    "        if i%2==0:          #si el numero iterado es par, entonces\n",
    "            suma_total+=i   #suma el numero iterado a la variable suma_total\n",
    "    numero+=1               #aumenta numero en de a 1\n",
    "\n",
    "print(f\"la suma de pares hasta {limite} es {suma_total}\")\n"
   ]
  },
  {
   "cell_type": "code",
   "execution_count": 198,
   "metadata": {},
   "outputs": [
    {
     "name": "stdout",
     "output_type": "stream",
     "text": [
      "Ciclo while nro 1\n",
      "Ciclo for nro 1\n",
      "Ciclo while nro 2\n",
      "Ciclo for nro 1\n",
      "Ciclo for nro 2\n",
      "Ciclo while nro 3\n",
      "Ciclo for nro 1\n",
      "Ciclo for nro 2\n",
      "Ciclo for nro 3\n",
      "Ciclo while nro 4\n",
      "Ciclo for nro 1\n",
      "Ciclo for nro 2\n",
      "Ciclo for nro 3\n",
      "Ciclo for nro 4\n"
     ]
    }
   ],
   "source": [
    "#ejercicio del profe\n",
    "n = 1\n",
    "while n < 5:\n",
    "    print('Ciclo while nro ' + str(n))  # Imprime el número del ciclo while\n",
    "    for i in range(1, n+1): # como la función range(a, b) genera una secuencia de números desde a hasta b-1. Para que el bucle for incluya el número n, usamos range(1, n+1) en lugar de range(1, n).\n",
    "        print('Ciclo for nro ' + str(i))  # Imprime el número del ciclo for\n",
    "    n += 1"
   ]
  },
  {
   "cell_type": "markdown",
   "metadata": {},
   "source": [
    "8) Crear un ciclo while dentro de un ciclo for"
   ]
  },
  {
   "cell_type": "code",
   "execution_count": 199,
   "metadata": {},
   "outputs": [
    {
     "name": "stdout",
     "output_type": "stream",
     "text": [
      "ciclo for no. 1\n",
      "ciclo while no.4\n",
      "ciclo while no.3\n",
      "ciclo while no.2\n",
      "ciclo for no. 2\n",
      "ciclo while no.4\n",
      "ciclo while no.3\n",
      "ciclo while no.2\n",
      "ciclo for no. 3\n",
      "ciclo while no.4\n",
      "ciclo while no.3\n",
      "ciclo while no.2\n",
      "ciclo for no. 4\n",
      "ciclo while no.4\n",
      "ciclo while no.3\n",
      "ciclo while no.2\n"
     ]
    }
   ],
   "source": [
    "#itera en un rango mientras se cumpla que:\n",
    "\n",
    "n=4\n",
    "for i in range(1,n+1):\n",
    "    print(f\"ciclo for no. {i}\")\n",
    "\n",
    "    ntemp=n\n",
    "    while (ntemp>1):\n",
    "        print(f\"ciclo while no.{ntemp}\")\n",
    "        ntemp-=1\n",
    "        \n"
   ]
  },
  {
   "cell_type": "markdown",
   "metadata": {},
   "source": [
    "9) Imprimir los números primos existentes entre 0 y 30"
   ]
  },
  {
   "cell_type": "code",
   "execution_count": 200,
   "metadata": {},
   "outputs": [
    {
     "name": "stdout",
     "output_type": "stream",
     "text": [
      "2\n",
      "3\n",
      "5\n",
      "7\n",
      "11\n",
      "13\n",
      "17\n",
      "19\n",
      "23\n",
      "29\n"
     ]
    }
   ],
   "source": [
    "#con for y con break\n",
    "for numero in range (2,31):\n",
    "    es_primo=True\n",
    "    for i in range(2,numero):\n",
    "        if numero%i==0:\n",
    "           es_primo= False\n",
    "           break\n",
    "    if es_primo:\n",
    "        print(numero)\n",
    "   \n",
    "   \n",
    "    \n",
    "\n",
    "\n"
   ]
  },
  {
   "cell_type": "code",
   "execution_count": 201,
   "metadata": {},
   "outputs": [
    {
     "name": "stdout",
     "output_type": "stream",
     "text": [
      "2\n",
      "3\n",
      "5\n",
      "7\n",
      "11\n",
      "13\n",
      "17\n",
      "19\n",
      "23\n",
      "29\n"
     ]
    }
   ],
   "source": [
    "#con while y con break\n",
    "#El bucle while ejecuta un bloque de código repetidamente siempre que una condición sea \n",
    "#verdadera. Aquí está la estructura básica:\n",
    "#para imprimir los números primos entre 0 y 30 usando un bucle while, necesitamos:\n",
    "#1. Inicializar un contador para recorrer los números.\n",
    "#2. Verificar si cada número es primo.\n",
    "#3. Imprimir los números primos.\n",
    "\n",
    "numero=2\n",
    "while numero<=30:\n",
    "    es_primo=True           # Suponemos que el número es primo al principio\n",
    "\n",
    "    divisor=2\n",
    "    while numero>divisor:\n",
    "        if numero%divisor==0:   # Si es divisible, no es primo\n",
    "            es_primo=False\n",
    "            break       # Salimos del bucle interno\n",
    "        divisor+=1      # Pasamos al siguiente posible divisor\n",
    "    if es_primo:\n",
    "        print (numero)   # Si el número es primo, lo imprimimos\n",
    "    numero+=1               # Pasamos al siguiente número\n"
   ]
  },
  {
   "cell_type": "code",
   "execution_count": 202,
   "metadata": {},
   "outputs": [
    {
     "name": "stdout",
     "output_type": "stream",
     "text": [
      "0\n",
      "1\n",
      "2\n",
      "3\n",
      "5\n",
      "7\n",
      "11\n",
      "13\n",
      "17\n",
      "19\n",
      "23\n",
      "29\n"
     ]
    }
   ],
   "source": [
    "#ejercicio 9 respuesta profe\n",
    "tope_rango=30\n",
    "n = 0\n",
    "primo = True\n",
    "while (n < tope_rango):\n",
    "    for div in range(2, n):\n",
    "        if (n % div == 0):\n",
    "            primo = False\n",
    "    if (primo):\n",
    "        print(n)\n",
    "    else:\n",
    "        primo = True\n",
    "    n += 1"
   ]
  },
  {
   "cell_type": "markdown",
   "metadata": {},
   "source": [
    "10) ¿Se puede mejorar el proceso del punto 9? Utilizar las sentencias break y/ó continue para tal fin"
   ]
  },
  {
   "cell_type": "code",
   "execution_count": 203,
   "metadata": {},
   "outputs": [
    {
     "name": "stdout",
     "output_type": "stream",
     "text": [
      "2\n",
      "3\n",
      "5\n",
      "7\n",
      "11\n",
      "13\n",
      "17\n",
      "19\n",
      "23\n",
      "29\n"
     ]
    }
   ],
   "source": [
    "#con while y for usando break\n",
    "n=2\n",
    "\n",
    "while (n<=30):\n",
    "    primo=True\n",
    "    for divisor in range(2,n):\n",
    "        if n%divisor==0:\n",
    "            primo=False\n",
    "            break\n",
    "    if(primo): \n",
    "        print(n)\n",
    "    n+=1\n"
   ]
  },
  {
   "cell_type": "markdown",
   "metadata": {},
   "source": [
    "11) En los puntos 9 y 10, se diseño un código que encuentra números primos y además se lo optimizó. ¿Es posible saber en qué medida se optimizó?"
   ]
  },
  {
   "cell_type": "code",
   "execution_count": 212,
   "metadata": {},
   "outputs": [
    {
     "name": "stdout",
     "output_type": "stream",
     "text": [
      "0\n",
      "1\n",
      "2\n",
      "3\n",
      "5\n",
      "7\n",
      "11\n",
      "13\n",
      "17\n",
      "19\n",
      "23\n",
      "29\n",
      "cantidad de ciclos sin break 378\n"
     ]
    }
   ],
   "source": [
    "#ejercicio 9 respuesta profe con while y for y sin break\n",
    "ciclos_sin_break=0\n",
    "\n",
    "tope_rango=30\n",
    "n = 0\n",
    "primo = True\n",
    "while (n < tope_rango):\n",
    "    for div in range(2, n):\n",
    "        ciclos_sin_break+=1\n",
    "        if (n % div == 0):\n",
    "            primo = False\n",
    "    if (primo):\n",
    "        print(n)\n",
    "    else:\n",
    "        primo = True\n",
    "    n += 1\n",
    "print(f\"cantidad de ciclos sin break {ciclos_sin_break}\")"
   ]
  },
  {
   "cell_type": "code",
   "execution_count": 205,
   "metadata": {},
   "outputs": [
    {
     "name": "stdout",
     "output_type": "stream",
     "text": [
      "2\n",
      "3\n",
      "5\n",
      "7\n",
      "11\n",
      "13\n",
      "17\n",
      "19\n",
      "23\n",
      "29\n",
      "cantidad de ciclos 135\n"
     ]
    }
   ],
   "source": [
    "#ejercicio 9 hecho con for y con break\n",
    "\n",
    "ciclos_con_break=0\n",
    "for numero in range (2,31):\n",
    "    es_primo=True\n",
    "    for i in range(2,numero):\n",
    "        ciclos_con_break+=1\n",
    "        if numero%i==0:\n",
    "           es_primo= False\n",
    "           break\n",
    "    if es_primo:\n",
    "        print(numero)\n",
    "print(f\"cantidad de ciclos {ciclos_con_break}\")"
   ]
  },
  {
   "cell_type": "code",
   "execution_count": 206,
   "metadata": {},
   "outputs": [
    {
     "name": "stdout",
     "output_type": "stream",
     "text": [
      "2\n",
      "3\n",
      "5\n",
      "7\n",
      "11\n",
      "13\n",
      "17\n",
      "19\n",
      "23\n",
      "29\n",
      "cantidad de ciclos 29\n"
     ]
    }
   ],
   "source": [
    "#ejercicio 9 hecho con while y con break\n",
    "ciclos_con_break2=0\n",
    "\n",
    "numero=2\n",
    "while numero<=30:\n",
    "    ciclos_con_break2+=1\n",
    "    es_primo=True           \n",
    "\n",
    "    divisor=2\n",
    "    while numero>divisor:\n",
    "        if numero%divisor==0:   \n",
    "            es_primo=False\n",
    "            break       \n",
    "        divisor+=1      \n",
    "    if es_primo:\n",
    "        print (numero)   \n",
    "    numero+=1 \n",
    "print(f\"cantidad de ciclos {ciclos_con_break2}\")         "
   ]
  },
  {
   "cell_type": "code",
   "execution_count": 224,
   "metadata": {},
   "outputs": [
    {
     "name": "stdout",
     "output_type": "stream",
     "text": [
      "se optimizo un 92.32804232804233 % de ciclos con break\n"
     ]
    }
   ],
   "source": [
    "print(f\"se optimizo un {(((ciclos_con_break2/ciclos_sin_break)-1)*-100)} % de ciclos con break\")"
   ]
  },
  {
   "cell_type": "markdown",
   "metadata": {},
   "source": [
    "12) Aplicando continue, armar un ciclo while que solo imprima los valores divisibles por 12, dentro del rango de números de 100 a 300"
   ]
  },
  {
   "cell_type": "code",
   "execution_count": 241,
   "metadata": {},
   "outputs": [
    {
     "name": "stdout",
     "output_type": "stream",
     "text": [
      "108\n",
      "120\n",
      "132\n",
      "144\n",
      "156\n",
      "168\n",
      "180\n",
      "192\n",
      "204\n",
      "216\n",
      "228\n",
      "240\n",
      "252\n",
      "264\n",
      "276\n",
      "288\n",
      "300\n"
     ]
    }
   ],
   "source": [
    "n=100\n",
    "while n<=300:\n",
    "    if n%12!=0:\n",
    "        n+=1\n",
    "        continue\n",
    "    else:\n",
    "        print(n)\n",
    "    n+=1\n",
    "\n",
    "    \n",
    "        \n",
    "    "
   ]
  },
  {
   "cell_type": "markdown",
   "metadata": {},
   "source": [
    "13) Utilizar la función **input()** que permite hacer ingresos por teclado, para encontrar números primos y dar la opción al usario de buscar el siguiente"
   ]
  },
  {
   "cell_type": "code",
   "execution_count": 247,
   "metadata": {},
   "outputs": [
    {
     "name": "stdout",
     "output_type": "stream",
     "text": [
      "1\n",
      "desea ver el siguiente primo? escribe si\n",
      "2\n",
      "desea ver el siguiente primo? escribe si\n",
      "3\n",
      "desea ver el siguiente primo? escribe si\n",
      "5\n",
      "desea ver el siguiente primo? escribe si\n",
      "7\n",
      "desea ver el siguiente primo? escribe si\n",
      "11\n",
      "desea ver el siguiente primo? escribe si\n",
      "hasta la vista baby\n"
     ]
    }
   ],
   "source": [
    "n=1\n",
    "sigue=1\n",
    "primo=True\n",
    "while(sigue==1):\n",
    "    for div in range(2,n):\n",
    "        if(n%div==0):\n",
    "            primo=False\n",
    "            break\n",
    "    if(primo):\n",
    "        print(n)\n",
    "        print(\"desea ver el siguiente primo? escribe si\")\n",
    "        if (input()!=\"si\"):\n",
    "            print(\"hasta la vista baby\")\n",
    "            break\n",
    "    else:\n",
    "        primo=True\n",
    "    n+=1"
   ]
  },
  {
   "cell_type": "markdown",
   "metadata": {},
   "source": [
    "14) Crear un ciclo while que encuentre dentro del rango de 100 a 300 el primer número divisible por 3 y además múltiplo de 6"
   ]
  },
  {
   "cell_type": "code",
   "execution_count": 252,
   "metadata": {},
   "outputs": [
    {
     "name": "stdout",
     "output_type": "stream",
     "text": [
      "102\n"
     ]
    }
   ],
   "source": [
    "n=100\n",
    "while n<=300:\n",
    "    if n%6==0:\n",
    "        print(n)\n",
    "        break\n",
    "    n+=1\n",
    "    "
   ]
  }
 ],
 "metadata": {
  "kernelspec": {
   "display_name": "Python 3",
   "language": "python",
   "name": "python3"
  },
  "language_info": {
   "codemirror_mode": {
    "name": "ipython",
    "version": 3
   },
   "file_extension": ".py",
   "mimetype": "text/x-python",
   "name": "python",
   "nbconvert_exporter": "python",
   "pygments_lexer": "ipython3",
   "version": "3.12.2"
  }
 },
 "nbformat": 4,
 "nbformat_minor": 2
}
