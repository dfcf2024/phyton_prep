{
 "cells": [
  {
   "cell_type": "code",
   "execution_count": 11,
   "metadata": {},
   "outputs": [
    {
     "name": "stdout",
     "output_type": "stream",
     "text": [
      "Tu nombre es diego\n",
      "4\n"
     ]
    }
   ],
   "source": [
    "#INPUTS NOMBRES--\n",
    "#SIRVEN PARA PEDIRLE UN DATO AL USUARIO Y siempre nos devuelven un texto\n",
    "\n",
    "#pedirle un dato al usuario\n",
    "nombre= input(\"escribe aqui tu nombre: \")\n",
    "print(\"Tu nombre es {}\".format(nombre))\n",
    "\n",
    "#INPUTS NUMERICOS\n",
    "#pedirle un numero al usuario\n",
    "numero=input(\"numero de cedula: \")\n",
    "resultado1=numero\n",
    "#si necesitase volver el numero un entero para hacer cualquier operacion uso la funcion int\n",
    "resultado2=int(numero)*2\n",
    "print(resultado2)\n",
    "\n"
   ]
  },
  {
   "cell_type": "markdown",
   "metadata": {},
   "source": []
  }
 ],
 "metadata": {
  "kernelspec": {
   "display_name": "Python 3",
   "language": "python",
   "name": "python3"
  },
  "language_info": {
   "codemirror_mode": {
    "name": "ipython",
    "version": 3
   },
   "file_extension": ".py",
   "mimetype": "text/x-python",
   "name": "python",
   "nbconvert_exporter": "python",
   "pygments_lexer": "ipython3",
   "version": "3.12.2"
  }
 },
 "nbformat": 4,
 "nbformat_minor": 2
}
