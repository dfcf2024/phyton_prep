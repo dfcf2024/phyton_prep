{
 "cells": [
  {
   "cell_type": "code",
   "execution_count": 74,
   "metadata": {},
   "outputs": [
    {
     "name": "stdout",
     "output_type": "stream",
     "text": [
      "0\n",
      "['__and__', '__class__', '__class_getitem__', '__contains__', '__delattr__', '__dir__', '__doc__', '__eq__', '__format__', '__ge__', '__getattribute__', '__getstate__', '__gt__', '__hash__', '__iand__', '__init__', '__init_subclass__', '__ior__', '__isub__', '__iter__', '__ixor__', '__le__', '__len__', '__lt__', '__ne__', '__new__', '__or__', '__rand__', '__reduce__', '__reduce_ex__', '__repr__', '__ror__', '__rsub__', '__rxor__', '__setattr__', '__sizeof__', '__str__', '__sub__', '__subclasshook__', '__xor__', 'add', 'clear', 'copy', 'difference', 'difference_update', 'discard', 'intersection', 'intersection_update', 'isdisjoint', 'issubset', 'issuperset', 'pop', 'remove', 'symmetric_difference', 'symmetric_difference_update', 'union', 'update']\n"
     ]
    }
   ],
   "source": [
    "append(): Agrega un elemento al final de la lista.\n",
    "insert(): Inserta un elemento en una posición específica de la lista.\n",
    "extend(): Agrega los elementos de otra lista al final de la lista actual.\n",
    "index(): Devuelve el índice de la primera aparición de un elemento en la lista.\n",
    "remove(): Elimina la primera aparición de un elemento de la lista.\n",
    "sort(): Ordena los elementos de la lista en orden ascendente (por defecto) o descendente.\n",
    ".pop():  Es utilizado en Python para eliminar y devolver el último elemento de una lista. \n",
    "#¡Atención! 👀 Al utilizar el método .pop(), se modifica la lista original al eliminar un elemento,\n",
    "#por lo que es importante utilizarlo con cuidado y asegurarse de que se elimine el elemento correcto. \n",
    "#También es posible guardar el valor \n",
    "#del elemento eliminado en una variable antes de usar el método, si se desea utilizar posteriormente. \n",
    "\n",
    "#METODOS DE LISTAS\n",
    "\n",
    "#list--funcion para crear una lista\n",
    "mi_lista=list([\"hola\",\"diego\",45,\"cali\",\"colombia\"])\n",
    "\n",
    "#len--cuenta la cantidad de elementos de una lista\n",
    "resultado=len(mi_lista)\n",
    "#append--agregar elementos a mi lista\n",
    "mi_lista.append(\"jajajaja\")\n",
    "#insert--agrega un elemento a la lista en el lugar  especificado\n",
    "mi_lista.insert(2,\"fernando\")\n",
    "#extend--agrego varios  elementos a la lista\n",
    "mi_lista.extend([\"COLINA\", \"FLOREZ\"])\n",
    "#pop--elimina un elemento de la lista, pide indice y devuelve nueva lista\n",
    "mi_lista.pop(0)\n",
    "#-1 elimina el ultimo ya que se devuelve, .2 para penultimo y asi sucesivamente\n",
    "mi_lista.pop(-1)    \n",
    "#remov-remueve un elemento por su valor\n",
    "mi_lista.remove(\"diego\")\n",
    "#clear--elimina todos los elementos\n",
    "listparaesteejercicio1=list((2,4,100,50,32,True))\n",
    "listparaesteejercicio1.clear()\n",
    "#sort--ordena solo elementos numericos ascendentemente \n",
    "listparaesteejercicio2=list((3,10,80,50,20))\n",
    "listparaesteejercicio2.sort()\n",
    "#tambien podemos ordenar descendente usando el parametro reverse=true\n",
    "listparaesteejercicio3=list((9,10,80,50,20))\n",
    "listparaesteejercicio3.sort(reverse=True)\n",
    "#reverse--\n",
    "listparaesteejercicio4=list((3,10,84,50,100))\n",
    "listparaesteejercicio4.reverse()\n",
    "#index--verificando si un elemento se encuentra en una lista\n",
    "listparaesteejercicio5=list((3,34,84,50,100,\"a\"))\n",
    "listparaesteejercicio5.index(3) #devuelve la lista si lo encuentra\n",
    "encontrar_elemento=listparaesteejercicio5.index(3)  #devuelve posicion delelemento\n",
    " \n",
    "print(encontrar_elemento)\n",
    "print(dir(set([\"ashhs\",\"ioppñlk\"])))\n",
    "\n"
   ]
  }
 ],
 "metadata": {
  "kernelspec": {
   "display_name": "Python 3",
   "language": "python",
   "name": "python3"
  },
  "language_info": {
   "codemirror_mode": {
    "name": "ipython",
    "version": 3
   },
   "file_extension": ".py",
   "mimetype": "text/x-python",
   "name": "python",
   "nbconvert_exporter": "python",
   "pygments_lexer": "ipython3",
   "version": "3.12.2"
  }
 },
 "nbformat": 4,
 "nbformat_minor": 2
}
