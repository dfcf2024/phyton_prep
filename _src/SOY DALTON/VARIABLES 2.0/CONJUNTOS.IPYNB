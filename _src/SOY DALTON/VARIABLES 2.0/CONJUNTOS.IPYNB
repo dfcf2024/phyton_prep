{
 "cells": [
  {
   "cell_type": "markdown",
   "metadata": {},
   "source": [
    "El caso de los sets en Python\n",
    "Si ya estuviste viendo las listas, tuplas y diccionarios es momento de que profundices tus conocimientos en otro tipo de estructura de datos: los sets.\n",
    "\n",
    "En Python, un set es una colección desordenada de elementos únicos y estas son algunas de sus características:\n",
    "\n",
    "Elementos únicos: Un set no permite elementos duplicados. Si intentas agregar un elemento que ya está presente en el set, no se realizará ninguna acción adicional.\n",
    "No tiene un orden definido: Los elementos dentro de un set no tienen un orden específico. Esto significa que no puedes acceder a los elementos del set por su índice. Si necesitas un orden específico, puedes convertir el set en una lista.\n",
    "Mutable: Los sets son objetos mutables, lo que significa que puedes agregar, eliminar y modificar elementos una vez que se ha creado el set.\n",
    "Soporte de operaciones de conjuntos: Los sets en Python son útiles para realizar operaciones de conjuntos, como unión, intersección, diferencia y diferencia simétrica. Puedes realizar estas operaciones utilizando métodos de sets o mediante operadores especiales, como | para unión, & para intersección, - para diferencia y ^ para diferencia simétrica.\n",
    "Implementados mediante una tabla hash: Los sets en Python están implementados internamente utilizando una tabla hash, lo que permite una búsqueda y acceso rápido a los elementos.\n",
    "No se pueden indexar: Dado que los elementos en un set no tienen un orden definido, no se pueden acceder a través de índices. Si necesitas un acceso ordenado, puedes convertir el set en una lista.\n",
    "Los sets en Python son útiles cuando necesitas almacenar una colección de elementos únicos y realizar operaciones de conjuntos eficientes."
   ]
  },
  {
   "cell_type": "code",
   "execution_count": 7,
   "metadata": {},
   "outputs": [
    {
     "name": "stdout",
     "output_type": "stream",
     "text": [
      "False\n"
     ]
    }
   ],
   "source": [
    "CONJUNTO1= {1,15,5,9}\n",
    "CONJUNTO2={1,4,6,8,10}\n",
    "\n",
    "#Para vereificar si un conjunto es subconjunto de otro:\n",
    "resultado1=CONJUNTO2.issubset(CONJUNTO1)  #R// false    forma1\n",
    "resultado2=CONJUNTO2<=CONJUNTO1       #R//false         forma 2\n",
    "\n",
    "#Para vereificar si un conjunto es superconjunto de otro:\n",
    "resultado3=CONJUNTO2.issuperset(CONJUNTO1)  #R//false     forma1\n",
    "resultado4=CONJUNTO2>CONJUNTO1       #R//Flase            forma 2\n",
    "\n",
    "#nota1-para ser un subc de otro debe estar totalmente contenidoi en el otro\n",
    "#nota2-para ser un superc de otro debe tener totalmente contenido al otro\n",
    "\n",
    "#para averiguar si ambos conjuntos son completamente diferentes entre si\n",
    "resultado5=CONJUNTO2.isdisjoint(CONJUNTO1)  #R// false\n",
    "\n",
    "#probemos-\n",
    "print(resultado4)\n"
   ]
  },
  {
   "cell_type": "code",
   "execution_count": 10,
   "metadata": {},
   "outputs": [
    {
     "name": "stdout",
     "output_type": "stream",
     "text": [
      "{1, 2, 3, 4, 5, 6}\n"
     ]
    }
   ],
   "source": [
    "my_set={1,2,3,4,5}     #creamos un conjunto\n",
    "my_set.add(6)           #add para agregar elementos\n",
    "print(my_set)"
   ]
  },
  {
   "cell_type": "code",
   "execution_count": 11,
   "metadata": {},
   "outputs": [
    {
     "name": "stdout",
     "output_type": "stream",
     "text": [
      "{2, 3, 4, 5, 6}\n"
     ]
    }
   ],
   "source": [
    "my_set.remove(1)        #remove para eliminar elementos\n",
    "print(my_set)"
   ]
  },
  {
   "cell_type": "code",
   "execution_count": 15,
   "metadata": {},
   "outputs": [
    {
     "name": "stdout",
     "output_type": "stream",
     "text": [
      "{1, 2, 3, 4, 5}\n"
     ]
    }
   ],
   "source": [
    "set1={1,2,3}        #para unir sets o conjuntos usamos |\n",
    "set2={3,4,5}\n",
    "union=set1|set2\n",
    "print(union)"
   ]
  },
  {
   "cell_type": "code",
   "execution_count": 16,
   "metadata": {},
   "outputs": [
    {
     "name": "stdout",
     "output_type": "stream",
     "text": [
      "{3}\n"
     ]
    }
   ],
   "source": [
    "interseccion=set1&set2      #para interseccion usamos &\n",
    "print(interseccion)"
   ]
  },
  {
   "cell_type": "code",
   "execution_count": 17,
   "metadata": {},
   "outputs": [
    {
     "name": "stdout",
     "output_type": "stream",
     "text": [
      "{1, 2}\n"
     ]
    }
   ],
   "source": [
    "diferencia=set1-set2\n",
    "print(diferencia)"
   ]
  },
  {
   "cell_type": "code",
   "execution_count": 18,
   "metadata": {},
   "outputs": [
    {
     "name": "stdout",
     "output_type": "stream",
     "text": [
      "{4, 5}\n"
     ]
    }
   ],
   "source": [
    "diferencia2=set2-set1\n",
    "print(diferencia2)"
   ]
  },
  {
   "cell_type": "code",
   "execution_count": 20,
   "metadata": {},
   "outputs": [
    {
     "name": "stdout",
     "output_type": "stream",
     "text": [
      "{1, 2, 4, 5}\n"
     ]
    }
   ],
   "source": [
    "diferencia_simetrica=set1 ^ set2 \n",
    "print(diferencia_simetrica)"
   ]
  }
 ],
 "metadata": {
  "kernelspec": {
   "display_name": "Python 3",
   "language": "python",
   "name": "python3"
  },
  "language_info": {
   "codemirror_mode": {
    "name": "ipython",
    "version": 3
   },
   "file_extension": ".py",
   "mimetype": "text/x-python",
   "name": "python",
   "nbconvert_exporter": "python",
   "pygments_lexer": "ipython3",
   "version": "3.12.2"
  }
 },
 "nbformat": 4,
 "nbformat_minor": 2
}
