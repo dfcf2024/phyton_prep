{
 "cells": [
  {
   "cell_type": "code",
   "execution_count": 3,
   "metadata": {},
   "outputs": [
    {
     "name": "stdout",
     "output_type": "stream",
     "text": [
      "45\n"
     ]
    }
   ],
   "source": [
    "\n",
    "#crear los datos-funciona tanto en tuplas como en listas\n",
    "datos_en_tupla= (\"diego\",\"colina\",\"45\",\"cali\")\n",
    "datos_en_lista= (\"diego\",\"colina\",\"45\",\"cali\")\n",
    "\n",
    "#desempaquetado\n",
    "nombre,apellido,edad,ciudad=datos_en_tupla\n",
    "\n",
    "#mostrando_resultados\n",
    "print(edad)"
   ]
  }
 ],
 "metadata": {
  "kernelspec": {
   "display_name": "Python 3",
   "language": "python",
   "name": "python3"
  },
  "language_info": {
   "codemirror_mode": {
    "name": "ipython",
    "version": 3
   },
   "file_extension": ".py",
   "mimetype": "text/x-python",
   "name": "python",
   "nbconvert_exporter": "python",
   "pygments_lexer": "ipython3",
   "version": "3.12.2"
  }
 },
 "nbformat": 4,
 "nbformat_minor": 2
}
