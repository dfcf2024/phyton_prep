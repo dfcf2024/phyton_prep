Tuples (tuplas)
Las tuplas son estructuras de datos similares a las listas, pero a diferencia de ellas, 
son inmutables, lo que significa que no se pueden modificar después de ser creadas. 
Las tuplas se utilizan para almacenar datos relacionados que no deben cambiar, 
como las coordenadas de un punto en un plano. Se crean utilizando paréntesis y los 
elementos se separan por comas.

#formas de crear una tupla

#1. usando la funcion tuple:
tupla1=tuple("dato1,dato2")

#2. usando comillas y comas sin la funcion tuple
tupla2="dato1","dato2"

#3. para crear una tupla con un solo dato:
tupla3="dato",

#probemos
print(type(tupla1))
Métodos list() y tuple()

Los métodos list() y tuple() en Python se utilizan para convertir un objeto iterable en una lista o una tupla, respectivamente.

El método list() toma un objeto iterable, como una cadena de caracteres o una tupla, y crea una nueva lista con los mismos elementos. Por ejemplo, si se tiene una tupla de números y se desea convertirla en una lista, se puede utilizar el método list() y pasarle como argumento la tupla.

El método tuple() funciona de manera similar, pero crea una nueva tupla en lugar de una lista. Por ejemplo, si se tiene una lista de números y se desea convertirla en una tupla, se puede utilizar el método tuple() y pasarle como argumento la lista.

Como venimos viendo, podemos utilizar métodos para operar con las tuplas.

1
in: se utiliza para verificar si un elemento está presente en la tupla.

2
count: se utiliza para contar el número de veces que un elemento aparece en la tupla.

#formas de crear una tupla

#1. usando la funcion tuple:
tupla1=tuple("dato1,dato2")

#2. usando comillas y comas sin la funcion tuple
tupla2="dato1","dato2"

#3. para crear una tupla con un solo dato:
tupla3="dato",

#probemos
print(type(tupla1))