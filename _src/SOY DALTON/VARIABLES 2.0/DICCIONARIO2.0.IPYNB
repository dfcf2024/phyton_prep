{
 "cells": [
  {
   "cell_type": "markdown",
   "metadata": {},
   "source": [
    "Dictionaries (diccionarios)\n",
    "Los diccionarios son estructuras de datos que almacenan pares clave-valor. Cada elemento del diccionario tiene una clave única asociada a un valor. Los diccionarios permiten acceder rápidamente a los valores utilizando las claves y son ideales para representar relaciones y mapeos. Se crean utilizando llaves y los pares clave-valor se separan por dos puntos."
   ]
  },
  {
   "cell_type": "code",
   "execution_count": 2,
   "metadata": {},
   "outputs": [
    {
     "name": "stdout",
     "output_type": "stream",
     "text": [
      "{}\n"
     ]
    },
    {
     "data": {
      "text/plain": [
       "dict"
      ]
     },
     "execution_count": 2,
     "metadata": {},
     "output_type": "execute_result"
    }
   ],
   "source": [
    "primer_diccionario={}\n",
    "print(primer_diccionario)\n",
    "type(primer_diccionario)        #dict es el comando que nos indica que es un diccionario\n"
   ]
  },
  {
   "cell_type": "code",
   "execution_count": 3,
   "metadata": {},
   "outputs": [
    {
     "name": "stdout",
     "output_type": "stream",
     "text": [
      "{'primero': 'uno'}\n"
     ]
    }
   ],
   "source": [
    "primer_diccionario[\"primero\"]=\"uno\"         #una forma de crear diccionarios\n",
    "print(primer_diccionario)"
   ]
  },
  {
   "cell_type": "code",
   "execution_count": 5,
   "metadata": {},
   "outputs": [
    {
     "name": "stdout",
     "output_type": "stream",
     "text": [
      "{'primero': 'uno', 'segundo': 'dos', 'tercero': 'tres'}\n"
     ]
    }
   ],
   "source": [
    "primer_diccionario[\"segundo\"]=\"dos\"\n",
    "primer_diccionario[\"tercero\"]=\"tres\"\n",
    "print(primer_diccionario)"
   ]
  },
  {
   "cell_type": "code",
   "execution_count": 6,
   "metadata": {},
   "outputs": [
    {
     "name": "stdout",
     "output_type": "stream",
     "text": [
      "{'cuatro': 4, 'cinco': 5, 'seis': 6}\n"
     ]
    }
   ],
   "source": [
    "segundo_diccionario={\"cuatro\":4,\"cinco\":5,\"seis\":6}     #otra forma de crear un diccionario\n",
    "print(segundo_diccionario)"
   ]
  },
  {
   "cell_type": "code",
   "execution_count": 20,
   "metadata": {},
   "outputs": [
    {
     "name": "stdout",
     "output_type": "stream",
     "text": [
      "4\n"
     ]
    }
   ],
   "source": [
    "print(segundo_diccionario[\"cuatro\"])            #escribimos la clave cuatro, para que nos devuelva el valor asociado.  clave y valor"
   ]
  },
  {
   "cell_type": "code",
   "execution_count": 9,
   "metadata": {},
   "outputs": [
    {
     "name": "stdout",
     "output_type": "stream",
     "text": [
      "{'colores_primarios': ['rojo', 'azul', 'amarillo'], 'colores_secundarios': ['naranja', 'violeta', 'verde'], 'clave_3': [10], 'clave_4': [False]}\n"
     ]
    },
    {
     "data": {
      "text/plain": [
       "dict"
      ]
     },
     "execution_count": 9,
     "metadata": {},
     "output_type": "execute_result"
    }
   ],
   "source": [
    "mi_diccionario={\"colores_primarios\":[\"rojo\",\"azul\",\"amarillo\"],\n",
    "                \"colores_secundarios\":[\"naranja\",\"violeta\",\"verde\"],\n",
    "                \"clave_3\":[10],\n",
    "                \"clave_4\":[False]}\n",
    "\n",
    "\n",
    "\n",
    "print(mi_diccionario)                           #podemos guardar stream, binarios, boleanos en los diccionarios\n",
    "\n"
   ]
  },
  {
   "cell_type": "code",
   "execution_count": 10,
   "metadata": {},
   "outputs": [
    {
     "name": "stdout",
     "output_type": "stream",
     "text": [
      "{'colores_primarios': ['rojo', 'azul', 'amarillo'], 'colores_secundarios': ['naranja', 'violeta', 'verde'], 'clave_3': [10]}\n"
     ]
    }
   ],
   "source": [
    "del(mi_diccionario[\"clave_4\"])\n",
    "print(mi_diccionario)               #podemos ver qye borra la clave y su valor asociado"
   ]
  },
  {
   "cell_type": "code",
   "execution_count": 12,
   "metadata": {},
   "outputs": [
    {
     "name": "stdout",
     "output_type": "stream",
     "text": [
      "{'argentina': 'buenos aires', 'italia': 'roma', 'inglaterra': 'londres'}\n"
     ]
    }
   ],
   "source": [
    "  #podemos utilizar una tupla como clave de un diccionario\n",
    "mi_tupla=(\"argentina\",\"italia\",\"inglaterra\")              \n",
    "\n",
    "mi_diccionario={mi_tupla[0]:\"buenos aires\",\n",
    "                mi_tupla[1]:\"roma\",\n",
    "                mi_tupla[2]:\"londres\"}        #el elemento de mi_tupla en la posicion cero corresponde a buenos aires coma......\n",
    "print(mi_diccionario)                         #se crearon los pares llave valor entre llaves q indica q es un diccionario\n",
    "\n",
    "\n",
    "\n"
   ]
  },
  {
   "cell_type": "code",
   "execution_count": 14,
   "metadata": {},
   "outputs": [
    {
     "name": "stdout",
     "output_type": "stream",
     "text": [
      "{'clave1': 'valor1', 'clave2': (1, 2, 3, 4, 5)}\n"
     ]
    }
   ],
   "source": [
    "#podemos colocar una tupla dentro de un diccionario\n",
    "mi_diccionario={\"clave1\":\"valor1\",\"clave2\":(1,2,3,4,5)}         #vemos como la tupla clave2 ha quedado denntro del diccionario\n",
    "\n",
    "print(mi_diccionario)\n",
    "\n",
    "\n",
    "\n"
   ]
  },
  {
   "cell_type": "code",
   "execution_count": 15,
   "metadata": {},
   "outputs": [
    {
     "name": "stdout",
     "output_type": "stream",
     "text": [
      "{'clave1': 'valor1', 'clave2': [1, 2, 3, 4, 5]}\n"
     ]
    }
   ],
   "source": [
    "#podemos colocar una lista dentro de un diccionario\n",
    "mi_diccionario={\"clave1\":\"valor1\",\"clave2\":[1,2,3,4,5]}  #la lista clave2 ha quedado como valor asociado a la clave clave2\n",
    "print(mi_diccionario)                                       #par clave-valor"
   ]
  },
  {
   "cell_type": "code",
   "execution_count": 19,
   "metadata": {},
   "outputs": [
    {
     "name": "stdout",
     "output_type": "stream",
     "text": [
      "{'clave1': 'valor1', 'clave2': {'numero': [1, 2, 3, 4, 5]}}\n",
      "dict_keys(['clave1', 'clave2'])\n",
      "dict_values(['valor1', {'numero': [1, 2, 3, 4, 5]}])\n"
     ]
    },
    {
     "data": {
      "text/plain": [
       "2"
      ]
     },
     "execution_count": 19,
     "metadata": {},
     "output_type": "execute_result"
    }
   ],
   "source": [
    "#podemos  colocar un diccionario dentro de un diccionario\n",
    "mi_diccionario={\"clave1\":\"valor1\",\"clave2\":{\"numero\":[1,2,3,4,5]}}\n",
    "print(mi_diccionario)\n",
    "print(mi_diccionario.keys())                          #funcion .keys() para imprimir solo claves\n",
    "print(mi_diccionario.values())                        #funcion .values() para imprimir los valores\n",
    "len(mi_diccionario)                 #len nos ayuda a ver cuantas parajas clave-valor hay en el diccionario\n"
   ]
  }
 ],
 "metadata": {
  "kernelspec": {
   "display_name": "Python 3",
   "language": "python",
   "name": "python3"
  },
  "language_info": {
   "codemirror_mode": {
    "name": "ipython",
    "version": 3
   },
   "file_extension": ".py",
   "mimetype": "text/x-python",
   "name": "python",
   "nbconvert_exporter": "python",
   "pygments_lexer": "ipython3",
   "version": "3.12.2"
  }
 },
 "nbformat": 4,
 "nbformat_minor": 2
}
