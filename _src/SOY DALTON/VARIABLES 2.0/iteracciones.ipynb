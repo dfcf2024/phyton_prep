{
 "cells": [
  {
   "cell_type": "code",
   "execution_count": 23,
   "metadata": {},
   "outputs": [
    {
     "name": "stdout",
     "output_type": "stream",
     "text": [
      "ejercicio con for in\n",
      "2\n",
      "3\n",
      "4\n",
      "5\n",
      "6\n",
      "ejercicio con for in y range\n",
      "2\n",
      "3\n",
      "4\n",
      "5\n",
      "6\n",
      "ejercicio para visualizar la iteracion\n",
      "variable iteracion 1 resultado 2\n",
      "variable iteracion 2 resultado 3\n",
      "variable iteracion 3 resultado 4\n",
      "variable iteracion 4 resultado 5\n",
      "variable iteracion 5 resultado 6\n",
      "ejercicio con iteracion en 2 listas y usando la funcion zip\n",
      "Tengo 3 manzanas\n",
      "Tengo 5 plátanos\n",
      "Tengo 2 naranjas\n",
      "-----ejemplo con for in---------\n",
      "Producto #1: Juguete\n",
      "Producto #2: Juguete\n",
      "Producto #3: Juguete\n",
      "Producto #4: Juguete\n",
      "Producto #5: Juguete\n",
      "Producto #6: Juguete\n",
      "Producto #7: Juguete\n",
      "Producto #8: Juguete\n",
      "Producto #9: Juguete\n",
      "Producto #10: Juguete\n"
     ]
    }
   ],
   "source": [
    "#FUNCION FOR...IN\n",
    "\n",
    "print(\"ejercicio con for in\")\n",
    "numeros=[1,2,3,4,5]\n",
    "for num in numeros:  #se leeria: creame una iteracion llamada \"num\" para hacerla dentro de la lista \"numeros\" y entonces(por los dos puntos)\n",
    "    suma=num+1      #sumales a LA ITERACION LLAMADA \"num\" cada que pases(iteres)por la lista \"numero\"\n",
    "    print(suma)\n",
    "\n",
    "\n",
    "print(\"ejercicio con for in y range\")\n",
    "\n",
    "for i in range(1,6):\n",
    "    suma=i+1\n",
    "    print(suma)    \n",
    "\n",
    "print(\"ejercicio para visualizar la iteracion\")\n",
    "\n",
    "for i in range(1,6):\n",
    "    suma=i+1\n",
    "    print(\"variable iteracion\",i,\"resultado\",suma) \n",
    "\n",
    "\n",
    "\n",
    "print(\"ejercicio con iteracion en 2 listas y usando la funcion zip\")\n",
    "\n",
    "nombres_frutas = [\"manzana\", \"plátano\", \"naranja\"]\n",
    "#Creamos una lista llamada nombres_frutas que contiene los nombres de algunas frutas: manzana, plátano y naranja.\n",
    "\n",
    "cantidades = [3, 5, 2]\n",
    "#Creamos otra lista llamada cantidades que contiene la cantidad de cada fruta que tenemos. Por ejemplo, tenemos 3 manzanas, 5 plátanos y 2 naranjas.\n",
    "\n",
    "for fruta, cantidad in zip(nombres_frutas, cantidades):\n",
    "    print(f\"Tengo {cantidad} {fruta}s\")\n",
    "\n",
    "#Usamos un bucle for para recorrer cada elemento de dos listas al mismo tiempo.\n",
    "#usamos  zip() para combinar los elementos de las dos listas y crea pares de fruta y cantidad.\n",
    "#En cada iteración del bucle for, imprimimos un mensaje que dice cuántas frutas tenemos de cada tipo. Por ejemplo, \"Tengo 3 manzanas\", \"Tengo 5 plátanos\"  \"Tengo 2 naranjas\".\n",
    "\n",
    "\n",
    "print(\"-----ejemplo con for in---------\")\n",
    "\n",
    "# Queremos imprimir etiquetas para los productos del 1 al 10\n",
    "for numero_producto in range(1, 11):\n",
    "    print(f\"Producto #{numero_producto}: Juguete\")\n",
    "\n",
    "\n",
    "    #Explicación línea por línea:\n",
    "\n",
    "\n",
    "#Usamos un bucle for para recorrer un rango de números del 1 al 10. La palabra clave for nos dice que vamos a hacer algo con cada número en este rango.\n",
    "\n",
    "#En cada iteración del bucle for, imprimimos una etiqueta para un producto. La variable numero_producto toma el valor del primer número en el rango (1), luego del segundo (2), y así sucesivamente hasta llegar al último número del rango (10). La etiqueta de cada producto incluye el número de producto y la palabra \"Juguete\".\n",
    "\n",
    "#la f despues del print indica que estamos utilizando una f-string (cadena f), que es una forma conveniente de formatear cadenas en Python. La letra f al principio de la cadena indica que la cadena es una f-string y que puede contener expresiones entre llaves {} que serán evaluadas y formateadas dentro de la cadena.\n",
    "\n",
    "\n",
    "\n",
    "\n"
   ]
  },
  {
   "cell_type": "code",
   "execution_count": 56,
   "metadata": {},
   "outputs": [
    {
     "name": "stdout",
     "output_type": "stream",
     "text": [
      "ejercicio1\n",
      "num 1\n",
      "num 2\n",
      "num 3\n",
      "num 4\n",
      "num 5\n",
      "ejercicio caramelos\n",
      "Se empacaron 4 bolsas de caramelos.\n"
     ]
    }
   ],
   "source": [
    "#FUNCION while----------------------- \n",
    "\n",
    "\n",
    "\n",
    "print(\"ejercicio1\") \n",
    "\n",
    "num=1\n",
    "while num<6:    #itera mientras la iteracion  num sea menor a 6(es decir sea verdadera) y entonces\n",
    "    print (\"num\",num)\n",
    "    num=num+1                #imprime la iteracion llamada num\n",
    "\n",
    "    \n",
    "\n",
    "print(\"ejercicio caramelos\")\n",
    "\n",
    "#Imaginemos que estamos en una fábrica de dulces y queremos empacar caramelos en bolsas. \n",
    "#Queremos asegurarnos de que cada bolsa tenga exactamente 5 caramelos. Vamos a usar un bucle while \n",
    "#para empacar los caramelos en las bolsas hasta que hayamos empacado todos los caramelos disponibles.\n",
    "\n",
    "caramelos_disponibles = 23               #1\n",
    "bolsas_empacadas = 0                    #2\n",
    "\n",
    "while caramelos_disponibles >= 5:       #3\n",
    "    caramelos_disponibles -= 5          #4\n",
    "    bolsas_empacadas += 1               #5\n",
    "\n",
    "print(f\"Se empacaron {bolsas_empacadas} bolsas de caramelos.\")      #6\n",
    "\n",
    "       #Explicación línea por línea:\n",
    "\n",
    "#1. Aquí estamos creando una variable llamada caramelos_disponibles y asignándole un valor inicial de 23. Esto representa la cantidad total de caramelos que tenemos para empacar.\n",
    "\n",
    "#2. Creamos una variable llamada bolsas_empacadas y la inicializamos en 0. Esta variable se utilizará para contar cuántas bolsas de caramelos hemos empacado.\n",
    "\n",
    "#3. Aquí estamos usando un bucle while. La palabra clave while nos dice que vamos a hacer algo mientras se cumpla una cierta condición. En este caso, la condición es que aún haya suficientes caramelos disponibles para empacar al menos una bolsa completa (es decir, al menos 5 caramelos).\n",
    "\n",
    "#4-En cada iteración del bucle while, restamos 5 caramelos del total de caramelos disponibles para simular el empacado de una bolsa completa.\n",
    "\n",
    "#5-Incrementamos el contador de bolsas empacadas en 1 en cada iteración del bucle while para llevar la cuenta de cuántas bolsas hemos empacado.\n",
    "\n",
    "#6. Finalmente, una vez que ya no hay suficientes caramelos para empacar una bolsa completa, salimos del bucle while y mostramos cuántas bolsas de caramelos hemos empacado en total.\n",
    "\n",
    "#En resumen, este código utiliza un bucle while para empacar caramelos en bolsas hasta que ya no haya suficientes caramelos disponibles para hacer otra bolsa completa. Es una forma eficiente de repetir una acción mientras se cumple una condición específica.\n"
   ]
  },
  {
   "cell_type": "code",
   "execution_count": 49,
   "metadata": {},
   "outputs": [
    {
     "name": "stdout",
     "output_type": "stream",
     "text": [
      "ejercicio break con if\n",
      "4\n",
      "3\n",
      "2\n",
      "1\n",
      "0\n",
      "ok\n"
     ]
    }
   ],
   "source": [
    "#FUNCION BREAK------------------\n",
    "\n",
    "print (\"ejemplo funcion break con if\")\n",
    "\n",
    "X=5             #itera a partir de 5\n",
    "while True:     #mientras iteras haz esto\n",
    "    X-=1        #qita 1 cada q iteres\n",
    "    print(X)    #imprime x en cada iteraccion\n",
    "    if X==0:    #condicion, si x es igual a cero, entonces\n",
    "        break    #rompe, deja de iterar\n",
    "print(\"ok\")     #imprime\n"
   ]
  },
  {
   "cell_type": "code",
   "execution_count": 55,
   "metadata": {},
   "outputs": [
    {
     "name": "stdout",
     "output_type": "stream",
     "text": [
      "ejemplo funcion continue con ifor in\n",
      "p\n",
      "h\n",
      "y\n",
      "o\n",
      "n\n"
     ]
    }
   ],
   "source": [
    "funcion continue con for in\")\n",
    "\n",
    "\n",
    "vamosaiteraren=\"phyton\"                                     \n",
    "for llamemosaestaiteracion_dfcf in vamosaiteraren:\n",
    "    if llamemosaestaiteracion_dfcf==\"t\":        #cuando la iteracion sea igual a t entonces:\n",
    "        continue                                #continua, es decir, no lo tengas en cuenta\n",
    "    print(llamemosaestaiteracion_dfcf)"
   ]
  },
  {
   "cell_type": "code",
   "execution_count": 57,
   "metadata": {},
   "outputs": [
    {
     "name": "stdout",
     "output_type": "stream",
     "text": [
      "198 no es un número primo\n"
     ]
    }
   ],
   "source": [
    "# Pedimos al usuario que ingrese un número\n",
    "numero = int(input(\"Ingresa un número: \"))\n",
    "\n",
    "# Verificamos si el número es mayor que 1\n",
    "if numero > 1:\n",
    "    # Inicializamos una variable para contar los divisores\n",
    "    contador = 0\n",
    "    \n",
    "    # Iteramos desde 1 hasta el número dado\n",
    "    for i in range(1, numero + 1):\n",
    "        # Si el número dado es divisible exactamente por i, aumentamos el contador\n",
    "        if numero % i == 0:\n",
    "            contador += 1\n",
    "    \n",
    "    # Si el contador es igual a 2 (solo tiene dos divisores: 1 y el número en sí mismo), es primo\n",
    "    if contador == 2:\n",
    "        print(numero, \"es un número primo\")\n",
    "    else:\n",
    "        print(numero, \"no es un número primo\")\n",
    "else:\n",
    "    # Si el número es igual o menor que 1, no es primo\n",
    "    print(numero, \"no es un número primo\")"
   ]
  }
 ],
 "metadata": {
  "language_info": {
   "name": "python"
  }
 },
 "nbformat": 4,
 "nbformat_minor": 2
}
