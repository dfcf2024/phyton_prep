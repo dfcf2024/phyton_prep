{
 "cells": [
  {
   "cell_type": "code",
   "execution_count": 72,
   "metadata": {},
   "outputs": [
    {
     "name": "stdout",
     "output_type": "stream",
     "text": [
      "El curso de dalto dura:\n",
      "- un 40.0 % menos que el mas rapido\n",
      "- un (79, 1) % menos que el mas lento\n",
      "- un 62.5 % menos que el promedio\n",
      "---------------\n",
      "2A. el % de material inservible promedio de otros cursos es del 20.0%\n",
      "2B. el % de material inservible promedio de daltos es del (57, 1)%\n",
      "---------------\n",
      "C1. 10 horas del curso de dalto equivalen a  (17, 1) horas del curso mas rapido\n",
      "C2. 10 horas del curso de dalto equivalen a  (27, 1) horas del curso promedio\n",
      "C2b. 10 horas del curso promedio equivalen a  (4, 1) horas del curso de dalton\n",
      "C2. 10 horas del curso de dalto equivalen a  (47, 1) horas del curso mas lento\n"
     ]
    }
   ],
   "source": [
    "#promedios de duracion\n",
    "otros_cursos_min=2.5\n",
    "otros_cursos_max=7\n",
    "otros_cursos_promedio=4\n",
    "dalto_curso=1.5\n",
    "\n",
    "#diferencias de duracion en %\n",
    "diferencia_con_min=100-dalto_curso/otros_cursos_min*100\n",
    "diferencia_con_max=round(100-(dalto_curso/otros_cursos_max*100),1)\n",
    "diferencia_con_promedio=100-dalto_curso/otros_cursos_promedio*100\n",
    "\n",
    "\n",
    "print (\"El curso de dalto dura:\")\n",
    "print (f\"- un {diferencia_con_min} % menos que el mas rapido\")\n",
    "print (f\"- un {round(diferencia_con_max),1} % menos que el mas lento\")\n",
    "print (f\"- un {diferencia_con_promedio} % menos que el promedio\")\n",
    "print(\"---------------\")\n",
    "\n",
    "#crudos en horas\n",
    "crudo_promedio=5\n",
    "crudo_dalto=3.5\n",
    "\n",
    "#porcentaje de material inservible\n",
    "porc_mat_inservible_promedio=100-otros_cursos_promedio/crudo_promedio*100\n",
    "porc_mat_inservible_dalto=100-dalto_curso/crudo_dalto*100\n",
    "\n",
    "\n",
    "print(f\"2A. el % de material inservible promedio de otros cursos es del {porc_mat_inservible_promedio}%\")\n",
    "print(f\"2B. el % de material inservible promedio de daltos es del {round(porc_mat_inservible_dalto),1}%\")\n",
    "print(\"---------------\")\n",
    "\n",
    "#EQUIVALENCIAS\n",
    "equiv_curso_dalto_vs_cursos_mas_largos=(10*otros_cursos_min)/dalto_curso\n",
    "equiv_curso_dalto_vs_cursos_promedio=(10*otros_cursos_promedio)/dalto_curso\n",
    "equiv_curso_dalto_vs_cursos_mas_lento=(10*otros_cursos_max)/dalto_curso\n",
    "equiv_cursos_promedio_vs_curso_dalto=(10*dalto_curso)/otros_cursos_promedio\n",
    "\n",
    "\n",
    "print (f\"C1. 10 horas del curso de dalto equivalen a  {round(equiv_curso_dalto_vs_cursos_mas_largos),1} horas del curso mas rapido\")\n",
    "print (f\"C2. 10 horas del curso de dalto equivalen a  {round(equiv_curso_dalto_vs_cursos_promedio),1} horas del curso promedio\")\n",
    "print (f\"C2b. 10 horas del curso promedio equivalen a  {round(equiv_cursos_promedio_vs_curso_dalto),1} horas del curso de dalton\")\n",
    "print (f\"C2. 10 horas del curso de dalto equivalen a  {round(equiv_curso_dalto_vs_cursos_mas_lento),1} horas del curso mas lento\")\n",
    "\n",
    "\n",
    "\n",
    "\n",
    "\n"
   ]
  }
 ],
 "metadata": {
  "kernelspec": {
   "display_name": "Python 3",
   "language": "python",
   "name": "python3"
  },
  "language_info": {
   "name": "python",
   "version": "3.12.2"
  }
 },
 "nbformat": 4,
 "nbformat_minor": 2
}
