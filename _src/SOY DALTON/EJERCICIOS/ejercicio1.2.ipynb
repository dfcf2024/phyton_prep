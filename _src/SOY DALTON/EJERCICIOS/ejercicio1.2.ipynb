{
 "cells": [
  {
   "cell_type": "code",
   "execution_count": 21,
   "metadata": {},
   "outputs": [
    {
     "name": "stdout",
     "output_type": "stream",
     "text": [
      "el numero de palabras en el texto son: 5\n",
      "el tiempo que te tomaria decirlas es de: 2.5 segundos\n",
      "felicitaciones\n",
      "a dalto le tomaria 1.923076923076923segundos decir ese texto\n"
     ]
    }
   ],
   "source": [
    "frase=input(\"dame una frase y te dire cuanto te tardarias diciendola:  \")\n",
    "numerodepalabras=len(frase.split())\n",
    "print(\"el numero de palabras en el texto son:\",numerodepalabras)\n",
    "tiempo_decir_frase=numerodepalabras/2\n",
    "print(f\"el tiempo que te tomaria decirlas es de: {tiempo_decir_frase} segundos\")\n",
    "\n",
    "if numerodepalabras>20:\n",
    "    print(\"para flaco, llevas mas de 20 palabras hablando\")\n",
    "else:\n",
    "    print(\"felicitaciones\")    \n",
    "\n",
    "#velocidad dalto\n",
    "vel_dalto=2*1.3\n",
    "\n",
    "#tiempo q tomaria dalto\n",
    "tiempo_dalto=(numerodepalabras/vel_dalto)\n",
    "print(f\"a dalto le tomaria {tiempo_dalto}segundos decir ese texto\")\n",
    "\n",
    "\n",
    "\n",
    "\n",
    "\n",
    "\n",
    "\n",
    "\n",
    "\n",
    "\n",
    "\n",
    "\n"
   ]
  }
 ],
 "metadata": {
  "kernelspec": {
   "display_name": "Python 3",
   "language": "python",
   "name": "python3"
  },
  "language_info": {
   "codemirror_mode": {
    "name": "ipython",
    "version": 3
   },
   "file_extension": ".py",
   "mimetype": "text/x-python",
   "name": "python",
   "nbconvert_exporter": "python",
   "pygments_lexer": "ipython3",
   "version": "3.12.2"
  }
 },
 "nbformat": 4,
 "nbformat_minor": 2
}
