{
 "cells": [
  {
   "cell_type": "code",
   "execution_count": 24,
   "metadata": {},
   "outputs": [
    {
     "name": "stdout",
     "output_type": "stream",
     "text": [
      "<class 'list'>\n"
     ]
    }
   ],
   "source": [
    "#METODOS DE CADENA\n",
    "\n",
    "cadena1=\"hola, soy Diego, como estas\"\n",
    "cadena2=\"bienvenido maquina\"\n",
    "\n",
    "\n",
    "#dir el cual debe ir siempre precedido de print\n",
    "\n",
    "resultado=dir(cadena1)\n",
    "\n",
    "#estrucutra de una cadena= dato.metodo o funcion()\n",
    "\n",
    "resultado=cadena1.upper()\n",
    "resultado=cadena1.lower()\n",
    "\n",
    "\n",
    "#metodo para convertir en mayuscula todo\n",
    "(cadena1.lower()) \n",
    "#metodo para convertir en minuscula todo\n",
    "(cadena1.upper()) \n",
    " #metodo para convertir en may 1er letra\n",
    "(cadena1.capitalize())\n",
    "\n",
    "#find--buscamos una cadena en otra cadena\n",
    "(cadena1.find(\"hola\"))  #metodo para encontrar posicion de una palabra, letra dentro de\n",
    "(cadena1.find(\"s\"))    #empieza a contar desde 0, que seria la h\n",
    "(cadena1.find(\"z\"))     #la respuesta es -1 porque no encuentra esa letra dentro de la cadena de texto\n",
    "(cadena1.find(\"d\"))    #la d minusc no es lo mismo q la D mayus, por eso da -1\n",
    "\n",
    "#index--buscamos una cadena en otra cadena \n",
    "#funciona igual que find, pero cuando no encuentra coincidencias lanza una excepcion\n",
    "\n",
    "#isnumeric--si es numerico devuelve true, si no false\n",
    "es_numerico= cadena1.isnumeric()\n",
    "#isalpha--si es alfanum devuelve true, si no false\n",
    "es_alfanumerico= cadena1.isalpha()  #da falso asi todo este en letras porq los espacios no son tenidos en cuenta como alfanumericos\n",
    "#count--devuelve numero de ocurrenciaS en una cadena\n",
    "contar_coincidencias=cadena1.count(\"p\")\n",
    "#len--esta funcion cuenta num de caracteres  de una cadena dentro  de una cadena\n",
    "contar_caracteres=len(cadena1)\n",
    "#startswith--este metodo verifica si una cadena comienza con\n",
    "empieza_con=cadena1.startswith(\"h\")\n",
    "#endswith--este metodo verifica si una cadena termina con\n",
    "termina_con=cadena1.endswith(\"Soy Diego\")\n",
    "#replace--reemplaza un valor por otro\n",
    "cadenanueva=cadena1.replace(\"hola\",\"buenos dias\")\n",
    "#split--separa cadenas  con la cadena q le pasemos devolviendonos una lista (en este caso le digo q cada q encuentre una coma me separe una nueva cadena)\n",
    "cadena_separada=cadena1.split(\",)\")\n",
    "\n",
    "\n",
    "\n",
    "\n",
    "\n",
    "\n",
    "print(type(cadena_separada) )\n",
    "\n"
   ]
  }
 ],
 "metadata": {
  "kernelspec": {
   "display_name": "Python 3",
   "language": "python",
   "name": "python3"
  },
  "language_info": {
   "codemirror_mode": {
    "name": "ipython",
    "version": 3
   },
   "file_extension": ".py",
   "mimetype": "text/x-python",
   "name": "python",
   "nbconvert_exporter": "python",
   "pygments_lexer": "ipython3",
   "version": "3.12.2"
  }
 },
 "nbformat": 4,
 "nbformat_minor": 2
}
