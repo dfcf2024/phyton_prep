{
 "cells": [
  {
   "cell_type": "code",
   "execution_count": 1,
   "metadata": {},
   "outputs": [
    {
     "name": "stdout",
     "output_type": "stream",
     "text": [
      "True\n"
     ]
    }
   ],
   "source": [
    "#OPERADORES LOGICOS\n",
    "#AND\n",
    "resultado1=True & True  #devolver True\n",
    "resultado2=False & True  #devolver Falso\n",
    "resultado3=True & False  #devolver Falso\n",
    "resultado4=False & False #devolver Falso\n",
    "\n",
    "#OR\n",
    "resultado5=True | True  #devolver True\n",
    "resultado6=False | True  #devolver True\n",
    "resultado7=True | False  #devolver True\n",
    "resultado8=False | False #devolver Falso\n",
    "\n",
    "#NOT\n",
    "resultado9=not True  #devolver false\n",
    "resultado10=not False  #devolver True\n",
    "resultado11=not 2==2\n",
    "resultado12=not 2>49\n",
    "\n",
    "\n",
    "print(resultado12)\n",
    "\n",
    "\n"
   ]
  }
 ],
 "metadata": {
  "kernelspec": {
   "display_name": "Python 3",
   "language": "python",
   "name": "python3"
  },
  "language_info": {
   "codemirror_mode": {
    "name": "ipython",
    "version": 3
   },
   "file_extension": ".py",
   "mimetype": "text/x-python",
   "name": "python",
   "nbconvert_exporter": "python",
   "pygments_lexer": "ipython3",
   "version": "3.12.2"
  }
 },
 "nbformat": 4,
 "nbformat_minor": 2
}
