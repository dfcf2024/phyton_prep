{
 "cells": [
  {
   "cell_type": "code",
   "execution_count": null,
   "metadata": {},
   "outputs": [],
   "source": [
    "def test_valor_modal(self):\n",
    "        lis=[1,2,1,3]\n",
    "        h1=h.Herramientas(lis)\n",
    "        moda,veces=h1.valor_modal(False)\n",
    "        moda=[moda]\n",
    "        moda.append(veces)\n",
    "        resultado=[1,2]\n",
    "        self.assertEqual(moda,resultado)"
   ]
  },
  {
   "cell_type": "code",
   "execution_count": null,
   "metadata": {},
   "outputs": [],
   "source": [
    "def test_valor_modal(self):\n",
    "        lis = [1, 2, 1, 3]\n",
    "        h1 = h.Herramientas(lis)\n",
    "        moda = h1.valor_modal(False)\n",
    "        resultado = 1  # El valor modal esperado es 1\n",
    "        self.assertEqual(moda, resultado)"
   ]
  },
  {
   "cell_type": "code",
   "execution_count": null,
   "metadata": {},
   "outputs": [],
   "source": [
    "unittest.main(argv=[''], verbosity=2, exit=False)"
   ]
  },
  {
   "cell_type": "code",
   "execution_count": 3,
   "metadata": {},
   "outputs": [
    {
     "ename": "NameError",
     "evalue": "name 'h' is not defined",
     "output_type": "error",
     "traceback": [
      "\u001b[1;31m---------------------------------------------------------------------------\u001b[0m",
      "\u001b[1;31mNameError\u001b[0m                                 Traceback (most recent call last)",
      "Cell \u001b[1;32mIn[3], line 4\u001b[0m\n\u001b[0;32m      1\u001b[0m \u001b[38;5;28;01mimport\u001b[39;00m \u001b[38;5;21;01mimportlib\u001b[39;00m\n\u001b[0;32m      3\u001b[0m \u001b[38;5;66;03m# Recargar el módulo Herramientas si es necesario\u001b[39;00m\n\u001b[1;32m----> 4\u001b[0m importlib\u001b[38;5;241m.\u001b[39mreload(\u001b[43mh\u001b[49m)\n\u001b[0;32m      6\u001b[0m \u001b[38;5;28;01mclass\u001b[39;00m \u001b[38;5;21;01mPruebasVerificaPrimo\u001b[39;00m(unittest\u001b[38;5;241m.\u001b[39mTestCase):\n\u001b[0;32m      7\u001b[0m     \u001b[38;5;28;01mdef\u001b[39;00m \u001b[38;5;21mtest_verifica_primo_numeros_primos\u001b[39m(\u001b[38;5;28mself\u001b[39m):\n\u001b[0;32m      8\u001b[0m         \u001b[38;5;66;03m# Definimos una lista con números primos\u001b[39;00m\n",
      "\u001b[1;31mNameError\u001b[0m: name 'h' is not defined"
     ]
    }
   ],
   "source": [
    "import importlib\n",
    "\n",
    "# Recargar el módulo Herramientas si es necesario\n",
    "importlib.reload(h)\n",
    "\n",
    "class PruebasVerificaPrimo(unittest.TestCase):\n",
    "    def test_verifica_primo_numeros_primos(self):\n",
    "        # Definimos una lista con números primos\n",
    "        numeros_primos = [2, 3, 5, 7, 11]\n",
    "        # Creamos una instancia de la clase Herramientas con la lista de números primos\n",
    "        herramientas = h.Herramientas(numeros_primos)\n",
    "        # Llamamos al método verifica_primo()\n",
    "        resultados = herramientas.verifica_primo()\n",
    "        # Verificamos que todos los resultados sean True\n",
    "        self.assertTrue(all(resultados), \"Todos los números primos deben ser detectados como primos\")\n",
    "\n",
    "    def test_verifica_primo_numeros_no_primos(self):\n",
    "        # Definimos una lista con números que no son primos\n",
    "        numeros_no_primos = [4, 6, 8, 9, 10]\n",
    "        # Creamos una instancia de la clase Herramientas con la lista de números no primos\n",
    "        herramientas = h.Herramientas(numeros_no_primos)\n",
    "        # Llamamos al método verifica_primo()\n",
    "        resultados = herramientas.verifica_primo()\n",
    "        # Verificamos que todos los resultados sean False\n",
    "        self.assertFalse(any(resultados), \"Ninguno de los números no primos debe ser detectado como primo\")"
   ]
  },
  {
   "cell_type": "code",
   "execution_count": null,
   "metadata": {},
   "outputs": [],
   "source": [
    "test_crear_objeto1 (__main__.ProbandoMiClase) ... ok\n",
    "test_crear_objeto2 (__main__.ProbandoMiClase) ... ok\n",
    "test_valor_modal (__main__.ProbandoMiClase) ... ok"
   ]
  },
  {
   "cell_type": "code",
   "execution_count": 2,
   "metadata": {},
   "outputs": [
    {
     "name": "stdout",
     "output_type": "stream",
     "text": [
      "Se ha producido un error: El número debe ser positivo\n"
     ]
    }
   ],
   "source": [
    "try:\n",
    "    # Intentamos hacer algo que podría generar un ValueError\n",
    "    valor = int(input(\"Ingrese un número entero positivo: \"))\n",
    "    if valor < 0:\n",
    "        raise ValueError(\"El número debe ser positivo\")\n",
    "except ValueError as error:\n",
    "    # Manejamos la excepción ValueError\n",
    "    print(\"Se ha producido un error:\", error)"
   ]
  },
  {
   "cell_type": "code",
   "execution_count": null,
   "metadata": {},
   "outputs": [],
   "source": [
    "import unittest\n",
    "\n",
    "class PruebasHerramientas(unittest.TestCase):\n",
    "    # Caso de prueba para la creación del objeto de forma incorrecta\n",
    "    def test_creacion_objeto_incorrecta(self):\n",
    "        with self.assertRaises(ValueError):  # Verifica si se lanza una excepción del tipo ValueError\n",
    "            h.Herramientas(None)  # Intenta crear el objeto con un argumento incorrecto\n",
    "\n",
    "    # Caso de prueba para la creación correcta del objeto\n",
    "    def test_creacion_objeto_correcta(self):\n",
    "        lista = [2, 4, 6]\n",
    "        h1 = h.Herramientas(lista)  # Crea el objeto correctamente\n",
    "        self.assertEqual(h1.lista, lista)  # Verifica que la lista del objeto sea la misma que la lista original\n",
    "\n",
    "    # Caso de prueba para el método valor_modal\n",
    "    def test_valor_modal(self):\n",
    "        lista = [2, 4, 4, 6, 6, 6]\n",
    "        h1 = h.Herramientas(lista)  # Crea el objeto con una lista con valores repetidos\n",
    "        modal = h1.valor_modal()  # Llama al método valor_modal para encontrar la moda de la lista\n",
    "        self.assertEqual(modal, 6)  # Verifica que el valor modal sea 6\n",
    "\n",
    "# Ejecutar las pruebas\n",
    "unittest.main()"
   ]
  },
  {
   "cell_type": "code",
   "execution_count": null,
   "metadata": {},
   "outputs": [],
   "source": []
  }
 ],
 "metadata": {
  "kernelspec": {
   "display_name": "Python 3",
   "language": "python",
   "name": "python3"
  },
  "language_info": {
   "codemirror_mode": {
    "name": "ipython",
    "version": 3
   },
   "file_extension": ".py",
   "mimetype": "text/x-python",
   "name": "python",
   "nbconvert_exporter": "python",
   "pygments_lexer": "ipython3",
   "version": "3.12.2"
  }
 },
 "nbformat": 4,
 "nbformat_minor": 2
}
