{
 "cells": [
  {
   "cell_type": "markdown",
   "metadata": {},
   "source": [
    "ejerciciio 1\n",
    "\n",
    "Crear la clase vehículo que contenga los atributos:\n",
    "Color\n",
    "Si es moto, auto, camioneta ó camión\n",
    "Cilindrada del motor"
   ]
  },
  {
   "cell_type": "code",
   "execution_count": 93,
   "metadata": {},
   "outputs": [],
   "source": [
    "class Vehiculo:\n",
    "    def __init__(self,color,tipo,cilindraje):\n",
    "        self.color=color\n",
    "        self.tipo=tipo\n",
    "        self.cilindraje=cilindraje\n",
    "    "
   ]
  },
  {
   "cell_type": "markdown",
   "metadata": {},
   "source": [
    "ejercicio 2 \n",
    "A la clase Vehiculo creada en el punto 1, agregar los siguientes métodos:\n",
    "Acelerar\n",
    "Frenar\n",
    "Doblar"
   ]
  },
  {
   "cell_type": "code",
   "execution_count": 94,
   "metadata": {},
   "outputs": [],
   "source": [
    "\n",
    "class Vehiculo:                         #ejercicio 1\n",
    "    def __init__(self,color,tipo,cilindraje):\n",
    "        self.color=color\n",
    "        self.tipo=tipo\n",
    "        self.cilindraje=cilindraje\n",
    "        self.velocidad=0                 #ejercicio 2\n",
    "        self.direccion=0 \n",
    "               \n",
    "    \n",
    "    def acelerar(self,vel):                 \n",
    "        self.velocidad+=vel\n",
    "    def frenar(self,vel):\n",
    "        self.velocidad-=vel\n",
    "    def doblar(self,grados):\n",
    "        self.direccion+=grados\n",
    "    "
   ]
  },
  {
   "cell_type": "markdown",
   "metadata": {},
   "source": [
    "ejercicio 3\n",
    "Instanciar 3 objetos de la clase vehículo y ejecutar sus métodos, probar luego el resultado"
   ]
  },
  {
   "cell_type": "code",
   "execution_count": 95,
   "metadata": {},
   "outputs": [],
   "source": [
    "class Vehiculo:                         #ejercicio 1\n",
    "    def __init__(self,color,tipo,cilindraje):\n",
    "        self.color=color\n",
    "        self.tipo=tipo\n",
    "        self.cilindraje=cilindraje\n",
    "        self.velocidad=0                 #ejercicio 2\n",
    "        self.direccion=0 \n",
    "               \n",
    "    \n",
    "    def acelerar(self,vel):                 \n",
    "        self.velocidad+=vel\n",
    "    def frenar(self,vel):\n",
    "        self.velocidad-=vel\n",
    "    def doblar(self,grados):\n",
    "        self.direccion+=grados\n",
    "\n",
    "    def presentar(self):                    #ejercicio 3-definimos como presentaresmos los datos\n",
    "        print(\"color:\", self.color,\"tipo:\", self.tipo,\"cilindraje: \", self.cilindraje,\"cc\")\n",
    "    def acelerar(self,acelerar):\n",
    "        print(\"mi velocidad es\",acelerar, \"kph\")  \n",
    "    def frenar(self,frenar):\n",
    "        print(\"mi velocidad es\",frenar, \"kph\")\n",
    "    def doblar(self,doblar):\n",
    "        print(\"voy a doblar\", doblar, \"grados\")\n",
    "    def estado(self,acelerar,doblar ):          #ejercicio 4\n",
    "        print(\"mi velocidad es\",acelerar, \"kph\",\"voy a doblar\", doblar, \"grados\")\n",
    "\n",
    "\n",
    "v1=Vehiculo(\"negro\",\"auto\",1200)\n",
    "v2=Vehiculo(\"azul\",\"camioneta\",2000)\n",
    "v3=Vehiculo(\"rojo\",\"moto\",200)\n",
    "    \n",
    "    "
   ]
  },
  {
   "cell_type": "code",
   "execution_count": 96,
   "metadata": {},
   "outputs": [
    {
     "name": "stdout",
     "output_type": "stream",
     "text": [
      "color: negro tipo: auto cilindraje:  1200 cc\n",
      "color: azul tipo: camioneta cilindraje:  2000 cc\n",
      "color: rojo tipo: moto cilindraje:  200 cc\n",
      "mi velocidad es 50 kph\n",
      "mi velocidad es 100 kph\n",
      "mi velocidad es -30 kph\n",
      "voy a doblar 90 grados\n",
      "voy a doblar 180 grados\n"
     ]
    }
   ],
   "source": [
    "v1.presentar()\n",
    "v2.presentar()\n",
    "v3.presentar()\n",
    "v1.acelerar(50)\n",
    "v2.acelerar(100)\n",
    "v3.frenar(-30)\n",
    "v1.doblar(90)\n",
    "v2.doblar(180)"
   ]
  },
  {
   "cell_type": "code",
   "execution_count": 97,
   "metadata": {},
   "outputs": [
    {
     "name": "stdout",
     "output_type": "stream",
     "text": [
      "color: negro tipo: auto cilindraje:  1200 cc\n",
      "mi velocidad es 100 kph voy a doblar 90 grados\n"
     ]
    }
   ],
   "source": [
    "v1.presentar()\n",
    "v1.estado(100,90)\n",
    "\n"
   ]
  },
  {
   "cell_type": "markdown",
   "metadata": {},
   "source": [
    "ejercicio 4\n",
    "Agregar a la clase Vehiculo, un método que muestre su estado, es decir, a que velocidad se encuentra y su dirección. Y otro método que muestre color, tipo y cilindrada"
   ]
  },
  {
   "cell_type": "markdown",
   "metadata": {},
   "source": [
    "ejercicio 5\n",
    "Crear una clase que permita utilizar las funciones creadas en la práctica del módulo 7\n",
    "a. Verificar Primo\n",
    "b. Valor modal\n",
    "c. Conversión grados\n",
    "d. Factorial"
   ]
  },
  {
   "cell_type": "code",
   "execution_count": 98,
   "metadata": {},
   "outputs": [],
   "source": [
    "class Herramientas:\n",
    "    def __init__(self) -> None:\n",
    "         pass      \n",
    "\n",
    "    def sos_primo(self,x):\n",
    "        if x <=1:\n",
    "            return False\n",
    "        for i in range(2,x-1):\n",
    "            if x%i==0:\n",
    "                return False\n",
    "            return True\n",
    "        return sos_primo\n",
    "    \n",
    "\n",
    "\n",
    "    def mas_repetido(self,lista_numeros):   \n",
    "                    frecuencia_numeros = {}    \n",
    "                    for numero in lista_numeros:\n",
    "                        if numero in frecuencia_numeros:\n",
    "                            frecuencia_numeros[numero] += 1\n",
    "                        else:\n",
    "                            frecuencia_numeros[numero] = 1\n",
    "                    \n",
    "                    max_frecuencia = max(frecuencia_numeros.values())\n",
    "                    numero_mas_repetido = [numero for numero, frecuencia in frecuencia_numeros.items() if frecuencia == max_frecuencia]\n",
    "                \n",
    "                    return numero_mas_repetido, max_frecuencia                             \n",
    "        \n",
    "\n",
    "\n",
    "    def conversion_grados(self, valor, origen, destino):\n",
    "        valor_destino = None\n",
    "        if (origen == 'celsius'):\n",
    "            if (destino == 'celsius'):\n",
    "                valor_destino = valor\n",
    "            elif (destino == 'farenheit'):\n",
    "                valor_destino = (valor * 9 / 5) + 32\n",
    "            elif (destino == 'kelvin'):\n",
    "                valor_destino = valor + 273.15\n",
    "            else:\n",
    "                print('Parámetro de Destino incorrecto')\n",
    "        elif (origen == 'farenheit'):\n",
    "            if (destino == 'celsius'):\n",
    "                valor_destino = (valor - 32) * 5 / 9\n",
    "            elif (destino == 'farenheit'):\n",
    "                valor_destino = valor\n",
    "            elif (destino == 'kelvin'):\n",
    "                valor_destino = ((valor - 32) * 5 / 9) + 273.15\n",
    "            else:\n",
    "                print('Parámetro de Destino incorrecto')\n",
    "        elif (origen == 'kelvin'):\n",
    "            if (destino == 'celsius'):\n",
    "                valor_destino = valor - 273.15\n",
    "            elif (destino == 'farenheit'):\n",
    "                valor_destino = ((valor - 273.15) * 9 / 5) + 32\n",
    "            elif (destino == 'kelvin'):\n",
    "                valor_destino = valor\n",
    "            else:\n",
    "                print('Parámetro de Destino incorrecto')\n",
    "        else:\n",
    "            print('Parámetro de Origen incorrecto')\n",
    "        return valor_destino \n",
    "        \n",
    "                        \n",
    "\n",
    "    def factorial(self, numero):\n",
    "        if(type(numero) != int):\n",
    "            return 'El numero debe ser un entero'\n",
    "        if(numero < 0):\n",
    "            return 'El numero debe ser pisitivo'\n",
    "        if (numero > 1):\n",
    "            numero = numero * self.__factorial(numero - 1)\n",
    "        return numero\n"
   ]
  },
  {
   "cell_type": "code",
   "execution_count": 99,
   "metadata": {},
   "outputs": [],
   "source": [
    "h=Herramientas()\n"
   ]
  },
  {
   "cell_type": "markdown",
   "metadata": {},
   "source": [
    "ejercicio 6\n",
    "Probar las funciones incorporadas en la clase del punto 5"
   ]
  },
  {
   "cell_type": "code",
   "execution_count": 100,
   "metadata": {},
   "outputs": [
    {
     "data": {
      "text/plain": [
       "True"
      ]
     },
     "execution_count": 100,
     "metadata": {},
     "output_type": "execute_result"
    }
   ],
   "source": [
    "h.sos_primo(7)"
   ]
  },
  {
   "cell_type": "code",
   "execution_count": 101,
   "metadata": {},
   "outputs": [
    {
     "name": "stdout",
     "output_type": "stream",
     "text": [
      "El número(s) que más se repite(n) es/son [5], y se repite 6 veces.\n"
     ]
    }
   ],
   "source": [
    "numeros = [1, 2, 3, 4, 5, 1, 2, 2, 3, 3, 3, 4,5,5,5,5,5, 4, 4, 4]\n",
    "numero_mas_repetido,frecuencia_maxima=h.mas_repetido(numeros)\n",
    "print(f\"El número(s) que más se repite(n) es/son {numero_mas_repetido}, y se repite {frecuencia_maxima} veces.\")"
   ]
  },
  {
   "cell_type": "code",
   "execution_count": 102,
   "metadata": {},
   "outputs": [
    {
     "data": {
      "text/plain": [
       "-173.14999999999998"
      ]
     },
     "execution_count": 102,
     "metadata": {},
     "output_type": "execute_result"
    }
   ],
   "source": [
    "h.conversion_grados(100, \"kelvin\", \"celsius\")"
   ]
  },
  {
   "cell_type": "code",
   "execution_count": 103,
   "metadata": {},
   "outputs": [
    {
     "ename": "AttributeError",
     "evalue": "'Herramientas' object has no attribute '_Herramientas__factorial'",
     "output_type": "error",
     "traceback": [
      "\u001b[1;31m---------------------------------------------------------------------------\u001b[0m",
      "\u001b[1;31mAttributeError\u001b[0m                            Traceback (most recent call last)",
      "Cell \u001b[1;32mIn[103], line 1\u001b[0m\n\u001b[1;32m----> 1\u001b[0m \u001b[43mh\u001b[49m\u001b[38;5;241;43m.\u001b[39;49m\u001b[43mfactorial\u001b[49m\u001b[43m(\u001b[49m\u001b[38;5;241;43m4\u001b[39;49m\u001b[43m)\u001b[49m\n",
      "Cell \u001b[1;32mIn[98], line 72\u001b[0m, in \u001b[0;36mHerramientas.factorial\u001b[1;34m(self, numero)\u001b[0m\n\u001b[0;32m     70\u001b[0m     \u001b[38;5;28;01mreturn\u001b[39;00m \u001b[38;5;124m'\u001b[39m\u001b[38;5;124mEl numero debe ser pisitivo\u001b[39m\u001b[38;5;124m'\u001b[39m\n\u001b[0;32m     71\u001b[0m \u001b[38;5;28;01mif\u001b[39;00m (numero \u001b[38;5;241m>\u001b[39m \u001b[38;5;241m1\u001b[39m):\n\u001b[1;32m---> 72\u001b[0m     numero \u001b[38;5;241m=\u001b[39m numero \u001b[38;5;241m*\u001b[39m \u001b[38;5;28;43mself\u001b[39;49m\u001b[38;5;241;43m.\u001b[39;49m\u001b[43m__factorial\u001b[49m(numero \u001b[38;5;241m-\u001b[39m \u001b[38;5;241m1\u001b[39m)\n\u001b[0;32m     73\u001b[0m \u001b[38;5;28;01mreturn\u001b[39;00m numero\n",
      "\u001b[1;31mAttributeError\u001b[0m: 'Herramientas' object has no attribute '_Herramientas__factorial'"
     ]
    }
   ],
   "source": [
    "h.factorial(4)"
   ]
  },
  {
   "cell_type": "markdown",
   "metadata": {},
   "source": [
    "ejercicio 7\n",
    "Es necesario que la clase creada en el punto 5 contenga una lista, sobre la cual se aplquen las funciones incorporadas"
   ]
  },
  {
   "cell_type": "code",
   "execution_count": null,
   "metadata": {},
   "outputs": [],
   "source": [
    "class Herramientas:\n",
    "    def __init__(self, lista_numeros):\n",
    "        self.lista = lista_numeros\n",
    "\n",
    "    def verifica_primo(self):\n",
    "        resultados = []  # Creamos una lista para almacenar los resultados\n",
    "        for num in self.lista:\n",
    "            # Verificamos si el número es primo\n",
    "            es_primo = self.es_primo(num)\n",
    "            resultados.append(es_primo)  # Agregamos el resultado a la lista de resultados\n",
    "        # Iteramos sobre cada número en la lista original y su resultado correspondiente\n",
    "        for num, resultado in zip(self.lista, resultados):\n",
    "            if resultado:\n",
    "                print(f\"{num} es un número primo.\")\n",
    "            else:\n",
    "                print(f\"{num} no es un número primo.\")\n",
    "\n",
    "    def es_primo(self, num):\n",
    "        if num > 1:\n",
    "            # Verificamos si el número es divisible por algún otro número\n",
    "            for i in range(2, num):\n",
    "                if num % i == 0:\n",
    "                    return False\n",
    "            return True\n",
    "        else:\n",
    "            return False\n",
    "        \n",
    "\n",
    "        \n",
    "    \n",
    "    def mas_repetido(self, lista_numeros):\n",
    "        frecuencia_numeros = {}\n",
    "        for numero in lista_numeros:\n",
    "            if numero in frecuencia_numeros:\n",
    "                frecuencia_numeros[numero] += 1\n",
    "            else:\n",
    "                frecuencia_numeros[numero] = 1\n",
    "        \n",
    "        max_frecuencia = max(frecuencia_numeros.values())\n",
    "        numero_mas_repetido = [numero for numero, frecuencia in frecuencia_numeros.items() if frecuencia == max_frecuencia]\n",
    "    \n",
    "        print(f\"El número(s) que más se repite(n) es/son {numero_mas_repetido}, y se repite {max_frecuencia} veces.\")\n",
    "\n",
    "        \n",
    "\n",
    "    def conversion_grados(self, origen, destino):\n",
    "        for num in self.lista:\n",
    "            valor_destino = None\n",
    "            if origen == 'celsius':\n",
    "                if destino == 'celsius':\n",
    "                    valor_destino = num\n",
    "                elif destino == 'farenheit':\n",
    "                    valor_destino = (num * 9 / 5) + 32\n",
    "                elif destino == 'kelvin':\n",
    "                    valor_destino = num + 273.15\n",
    "                else:\n",
    "                    print('Parámetro de Destino incorrecto')\n",
    "            elif origen == 'farenheit':\n",
    "                if destino == 'celsius':\n",
    "                    valor_destino = (num - 32) * 5 / 9\n",
    "                elif destino == 'farenheit':\n",
    "                    valor_destino = num\n",
    "                elif destino == 'kelvin':\n",
    "                    valor_destino = ((num - 32) * 5 / 9) + 273.15\n",
    "                else:\n",
    "                    print('Parámetro de Destino incorrecto')\n",
    "            elif origen == 'kelvin':\n",
    "                if destino == 'celsius':\n",
    "                    valor_destino = num - 273.15\n",
    "                elif destino == 'farenheit':\n",
    "                    valor_destino = ((num - 273.15) * 9 / 5) + 32\n",
    "                elif destino == 'kelvin':\n",
    "                    valor_destino = num\n",
    "                else:\n",
    "                    print('Parámetro de Destino incorrecto')\n",
    "            else:\n",
    "                print('Parámetro de Origen incorrecto')\n",
    "            print(f\"{num} grados {origen} son {valor_destino} grados {destino}\")\n",
    "\n",
    "\n",
    "    def factorial(self, numero):\n",
    "        if type(numero) != int:\n",
    "            return 'El numero debe ser un entero'\n",
    "        if numero < 0:\n",
    "            return 'El numero debe ser positivo'\n",
    "        if numero > 1:\n",
    "            numero = numero * self.factorial(numero - 1)\n",
    "        return numero\n",
    "\n",
    "    def calcular_factoriales(self):\n",
    "        for num in self.lista:\n",
    "            print(f\"El factorial de {num} es {self.factorial(num)}\")\n",
    "\n",
    "\n",
    "  \n",
    "        \n",
    "\n"
   ]
  },
  {
   "cell_type": "code",
   "execution_count": null,
   "metadata": {},
   "outputs": [],
   "source": [
    "# Creamos una lista de números que queremos verificar si son primos o no\n",
    "numeros = [13, 1, 2, 5, 8, 8, 9, 11, 15, 16, 16, 16, 18, 20]"
   ]
  },
  {
   "cell_type": "code",
   "execution_count": null,
   "metadata": {},
   "outputs": [],
   "source": [
    "# Creamos un objeto de la clase Herramientas, pasándole la lista de números como argumento\n",
    "h = Herramientas(numeros)"
   ]
  },
  {
   "cell_type": "code",
   "execution_count": null,
   "metadata": {},
   "outputs": [
    {
     "name": "stdout",
     "output_type": "stream",
     "text": [
      "13 es un número primo.\n",
      "1 no es un número primo.\n",
      "2 es un número primo.\n",
      "5 es un número primo.\n",
      "8 no es un número primo.\n",
      "8 no es un número primo.\n",
      "9 no es un número primo.\n",
      "11 es un número primo.\n",
      "15 no es un número primo.\n",
      "16 no es un número primo.\n",
      "16 no es un número primo.\n",
      "16 no es un número primo.\n",
      "18 no es un número primo.\n",
      "20 no es un número primo.\n"
     ]
    }
   ],
   "source": [
    "# Llamamos al método verifica_primo() del objeto h para verificar si cada número es primo o no\n",
    "h.verifica_primo()"
   ]
  },
  {
   "cell_type": "code",
   "execution_count": null,
   "metadata": {},
   "outputs": [
    {
     "name": "stdout",
     "output_type": "stream",
     "text": [
      "13 grados celsius son 55.4 grados farenheit\n",
      "1 grados celsius son 33.8 grados farenheit\n",
      "2 grados celsius son 35.6 grados farenheit\n",
      "5 grados celsius son 41.0 grados farenheit\n",
      "8 grados celsius son 46.4 grados farenheit\n",
      "8 grados celsius son 46.4 grados farenheit\n",
      "9 grados celsius son 48.2 grados farenheit\n",
      "11 grados celsius son 51.8 grados farenheit\n",
      "15 grados celsius son 59.0 grados farenheit\n",
      "16 grados celsius son 60.8 grados farenheit\n",
      "16 grados celsius son 60.8 grados farenheit\n",
      "16 grados celsius son 60.8 grados farenheit\n",
      "18 grados celsius son 64.4 grados farenheit\n",
      "20 grados celsius son 68.0 grados farenheit\n"
     ]
    }
   ],
   "source": [
    "h.conversion_grados('celsius', 'farenheit')"
   ]
  },
  {
   "cell_type": "code",
   "execution_count": null,
   "metadata": {},
   "outputs": [
    {
     "name": "stdout",
     "output_type": "stream",
     "text": [
      "El factorial de 13 es 6227020800\n",
      "El factorial de 1 es 1\n",
      "El factorial de 2 es 2\n",
      "El factorial de 5 es 120\n",
      "El factorial de 8 es 40320\n",
      "El factorial de 8 es 40320\n",
      "El factorial de 9 es 362880\n",
      "El factorial de 11 es 39916800\n",
      "El factorial de 15 es 1307674368000\n",
      "El factorial de 16 es 20922789888000\n",
      "El factorial de 16 es 20922789888000\n",
      "El factorial de 16 es 20922789888000\n",
      "El factorial de 18 es 6402373705728000\n",
      "El factorial de 20 es 2432902008176640000\n"
     ]
    }
   ],
   "source": [
    "h.calcular_factoriales() "
   ]
  },
  {
   "cell_type": "markdown",
   "metadata": {},
   "source": [
    "ejercicio 8\n",
    "Crear un archivo .py aparte y ubicar allí la clase generada en el punto anterior. Luego realizar la importación del módulo y probar alguna de sus funciones"
   ]
  },
  {
   "cell_type": "code",
   "execution_count": null,
   "metadata": {},
   "outputs": [],
   "source": [
    "from Herramientas import*\n"
   ]
  },
  {
   "cell_type": "code",
   "execution_count": null,
   "metadata": {},
   "outputs": [],
   "source": [
    "h2=Herramientas([2,6,8])"
   ]
  },
  {
   "cell_type": "code",
   "execution_count": null,
   "metadata": {},
   "outputs": [
    {
     "name": "stdout",
     "output_type": "stream",
     "text": [
      "El factorial de 2 es 2\n",
      "El factorial de 6 es 720\n",
      "El factorial de 8 es 40320\n"
     ]
    }
   ],
   "source": [
    "h2.calcular_factoriales()"
   ]
  },
  {
   "cell_type": "code",
   "execution_count": null,
   "metadata": {},
   "outputs": [
    {
     "name": "stdout",
     "output_type": "stream",
     "text": [
      "2 es un número primo.\n",
      "6 no es un número primo.\n",
      "8 no es un número primo.\n"
     ]
    }
   ],
   "source": [
    "h2.verifica_primo()"
   ]
  }
 ],
 "metadata": {
  "kernelspec": {
   "display_name": "Python 3",
   "language": "python",
   "name": "python3"
  },
  "language_info": {
   "codemirror_mode": {
    "name": "ipython",
    "version": 3
   },
   "file_extension": ".py",
   "mimetype": "text/x-python",
   "name": "python",
   "nbconvert_exporter": "python",
   "pygments_lexer": "ipython3",
   "version": "3.12.2"
  }
 },
 "nbformat": 4,
 "nbformat_minor": 2
}
