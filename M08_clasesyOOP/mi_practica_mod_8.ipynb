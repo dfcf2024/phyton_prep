{
 "cells": [
  {
   "cell_type": "markdown",
   "metadata": {},
   "source": [
    "POO PRTOGRAMACION ORIENTADA A OBJETOS\n",
    "La Programación Orientada a Objetos en Python es como escribir una emocionante historia interactiva. Los objetos son nuestros personajes, las clases son los moldes para crearlos, los atributos son sus características únicas y los métodos son las acciones que realizan. Recuerda que la programación orientada a objetos puede mejorar la estructura, la reutilización y la mantenibilidad de tus programas, ¡así que no dudes en aplicar estos conceptos en tus proyectos futuros!\n",
    "\n",
    "\n",
    "La Programación Orientada a Objetos es una poderosa herramienta para el desarrollo de software,"
   ]
  },
  {
   "cell_type": "markdown",
   "metadata": {},
   "source": [
    "----------------------------Sintaxis de las clases\n",
    "\n",
    "Ya sabemos que las clases son plantillas que nos permiten crear objetos con atributos y métodos específicos. Pero para aprovechar al máximo el poder de la programación orientada a objetos en Python, es crucial comprender y aplicar la sintaxis correcta al definir nuestras propias clases.\n",
    "1\n",
    "Declaración de clase: Para definir una clase, utilizamos la palabra clave class seguida del nombre de la clase. Por ejemplo, podríamos tener una clase llamada \"Perro\".\n",
    "\n",
    "2\n",
    "Atributos de clase: Los atributos de clase son variables que pertenecen a la clase en su conjunto. Se definen dentro de la clase, pero fuera de cualquier método. Pueden ser accedidos por todas las instancias de la clase. Por ejemplo, un atributo de clase podría ser \"especie\" con el valor \"canino\".\n",
    "\n",
    "3\n",
    "Método __init__: Es un método especial en Python que se llama automáticamente cuando se crea un nuevo objeto de una clase. Se utiliza para inicializar los atributos de instancia del objeto. Se define dentro de la clase y tiene el nombre __init__.\n",
    "\n",
    "4\n",
    "Atributos de instancia: Los atributos de instancia son variables específicas de cada objeto creado a partir de la clase. Se definen dentro del método __init__ utilizando el parámetro self. Por ejemplo, en la clase \"Perro\", podríamos tener atributos de instancia como \"nombre\" y \"edad\".\n",
    "\n",
    "5\n",
    "Métodos: Los métodos son funciones definidas dentro de la clase y se utilizan para realizar acciones o manipular los atributos de instancia de los objetos. Estos métodos también se definen utilizando el parámetro self para acceder a los atributos y otros métodos de la clase.\n",
    "\n",
    "6\n",
    "Creación de objetos: Una vez que hemos definido nuestra clase, podemos crear objetos a partir de ella. Para crear un objeto, simplemente llamamos al nombre de la clase como si fuera una función. Por ejemplo, podemos crear un objeto \"mi_perro\" utilizando la clase \"Perro\"."
   ]
  },
  {
   "cell_type": "markdown",
   "metadata": {},
   "source": [
    "ejercicio 1  \n",
    "class Gato:\t\t\t\t\t\t\t\t\tCREAMOS LA CLASE\n",
    "    def __init__(self, nombre, edad): \t\tASIGNAMOS ATRIBUTOS\n",
    "\t    self.nombre = nombre \t\t\t\tASIGNAMOS LOS ATRIBUTOS DE INSTANCIA\n",
    "\t\tself.edad = edad\t\t\t\t"
   ]
  },
  {
   "cell_type": "code",
   "execution_count": 33,
   "metadata": {},
   "outputs": [],
   "source": [
    "class Gato:\n",
    "    def __init__(self,nombre,edad):\n",
    "            self.nombre=nombre\n",
    "            self.edad=edad\n"
   ]
  },
  {
   "cell_type": "markdown",
   "metadata": {},
   "source": [
    "ejercicio 2\n",
    "class Gato:\n",
    "    def __init__(self, nombre, edad,raza, sexo):\n",
    "        self.nombre = nombre\n",
    "        self.edad = edad\n",
    "        self.raza = raza\n",
    "        self.sexo = sexo"
   ]
  },
  {
   "cell_type": "code",
   "execution_count": 34,
   "metadata": {},
   "outputs": [],
   "source": [
    "class Gato:\n",
    "    def __init__(self,nombre,edad,raza,sexo):\n",
    "        self.nombre=nombre\n",
    "        self.edad=edad\n",
    "        self.raza=raza\n",
    "        self.sexo=sexo            "
   ]
  },
  {
   "cell_type": "markdown",
   "metadata": {},
   "source": [
    "ejercicio 3\n",
    "class Gato:\n",
    "    def __init__(self, nombre, edad,raza, sexo):\n",
    "        self.nombre = nombre\n",
    "        self.edad = edad\n",
    "        self.raza = raza\n",
    "        self.sexo = sexo\n",
    "        \n",
    "   #Creamos el método presentar\n",
    "\n",
    "    def presentar(self):\n",
    "        print(\"Mi Nombre: \", self.nombre)\n",
    "        print(\"Edad: \", self.edad,\"años\")\n",
    "        print(\"Raza: \", self.raza)\n",
    "        print(\"Sexo: \", self.sexo)"
   ]
  },
  {
   "cell_type": "code",
   "execution_count": 35,
   "metadata": {},
   "outputs": [],
   "source": [
    "class Gato:\n",
    "    def __init__(self,nombre,edad,raza,sexo):\n",
    "        self.nombre=nombre                  #parametrisamos cada uno de los atributos\n",
    "        self.edad=edad\n",
    "        self.raza=raza\n",
    "        self.sexo=sexo\n",
    "    def presentar(self):\n",
    "        print(\"Mi Nombre:\", self.nombre)    #dejamos listos como se presentaran c/u de los atributos\n",
    "        print(\"Mi Edad:\", self.edad)\n",
    "        print(\"Mi Raza:\", self.raza)\n",
    "        print(\"Mi Sexo\",self.sexo)"
   ]
  },
  {
   "cell_type": "markdown",
   "metadata": {},
   "source": [
    "                            PILARES DE LA POO\n",
    "\n",
    "ABSTRACCION\n",
    "Es cuando separamos los datos de un objeto para luego generar un molde, (una clase), cuando creamos la clase gato, realizamos  la abstracción de sus atributos como son el nombre, edad , raza y sexo, como tambien en el método presentar, luego, a partir de esta entidad llamada clase, pudimos crear objetos ya con características definidas en cada uno de estos atributos.\n",
    "\n",
    "ENCAPSULAMIENTO\n",
    "Se utiliza cuando es necesario que ciertos métodos o propiedades sean inviolables o inalterables. Se refiere a la ocultación de los detalles internos de una clase para proteger los datos y comportamientos de esa clase de accesos no autorizados o modificaciones accidentales.\n",
    "El encapsulamiento es como un cofre con una cerradura. Los datos y comportamientos de una clase se almacenan dentro del \"cofre\" y solo se pueden acceder a ellos a través de métodos públicos autorizados, como si tuvieras la \"llave\" para abrir el cofre. Esto ayuda a prevenir la modificación accidental o no autorizada de los datos y comportamientos de la clase.\n",
    "\n",
    "HERENCIA\n",
    "Permite crear nuevas clases a partir de otras. Al tener la clase Gato, pudimos crear el objeto gato1, con los atributos que ya vimos, podemos crear gato2, que va también a tomar propiedades y métodos de la clase Gato. Esto nos da una jerarquía de padre e hijo. \n",
    "\n",
    "POLIFORMISMO\n",
    "Proviene de poli = muchas, morfismo = formas. Se utiliza para crear métodos con el mismo nombre pero con diferente comportamiento."
   ]
  },
  {
   "cell_type": "markdown",
   "metadata": {},
   "source": [
    "EJERCICIO 1\n",
    "class CuentaBancaria:\n",
    "    def __init__(self, saldo):      \n",
    "        self.__saldo = saldo  # el atributo saldo está encapsulado con __\n",
    "\n",
    "    def depositar(self, monto):\n",
    "        self.__saldo += monto\n",
    "\n",
    "    def retirar(self, monto):\n",
    "        if self.__saldo >= monto:\n",
    "            self.__saldo -= monto\n",
    "        else:\n",
    "            print(\"Saldo insuficiente\")\n",
    "\n",
    "    def obtener_saldo(self):\n",
    "        return self.__saldo"
   ]
  },
  {
   "cell_type": "code",
   "execution_count": 36,
   "metadata": {},
   "outputs": [],
   "source": [
    "class CuentaBancaria:           #creamos la clase\n",
    "    def __init__(self,saldo):   #asignamos los atributos\n",
    "        self.__saldo=saldo      #encapsulamos el atributo saldo con la doble linea al piso\n",
    "        \n",
    "    def depositar(self,monto):  #definimos el metodo depositar, que es publico\n",
    "        self.__saldo +=monto    #el atributo saldo que esta encapsulado le sumamos la variable monto\n",
    "\n",
    "    def retirar(self,monto):    #definimos el metodo retirar\n",
    "           if saldo>=monto:     #establecemos las condiciones\n",
    "            self.__saldo -=monto    #el atributo saldo que esta encapsulado le restamos la variable monto\n",
    "           else:\n",
    "            print (\"saldo insuficiente\")\n",
    "\n",
    "    def obtener_saldo(self):    #definimos el metodo obtener_saldo\n",
    "        return self.__saldo\n",
    "\n",
    "\n"
   ]
  },
  {
   "cell_type": "markdown",
   "metadata": {},
   "source": [
    "ejercicio 2\n",
    "gato2= Gato(\"Nina\",3,\"Mezcla\",\"hembra\") \n",
    "\n",
    "//Utilizas método presentar\n",
    "\n",
    "gato2.presentar()"
   ]
  },
  {
   "cell_type": "code",
   "execution_count": 37,
   "metadata": {},
   "outputs": [],
   "source": [
    "#RETOMAMOS EL EJERCICIO DEL GATO\n",
    "class Gato:\n",
    "    def __init__(self,nombre,edad,raza,sexo):\n",
    "        self.nombre=nombre                  #parametrisamos cada uno de los atributos\n",
    "        self.edad=edad\n",
    "        self.raza=raza\n",
    "        self.sexo=sexo\n",
    "    def presentar(self):\n",
    "        print(\"Mi Nombre:\", self.nombre)    #dejamos listos como se presentaran c/u de los atributos\n",
    "        print(\"Mi Edad:\", self.edad)\n",
    "        print(\"Mi Raza:\", self.raza)\n",
    "        print(\"Mi Sexo\",self.sexo)"
   ]
  },
  {
   "cell_type": "code",
   "execution_count": 38,
   "metadata": {},
   "outputs": [],
   "source": [
    "gato2=Gato(\"Nina\",3,\"mezcla\",\"hembra\")  #creamos el elemento gato2 el cual toma los atributos ya creados\n"
   ]
  },
  {
   "cell_type": "code",
   "execution_count": 39,
   "metadata": {},
   "outputs": [
    {
     "name": "stdout",
     "output_type": "stream",
     "text": [
      "Mi Nombre: Nina\n",
      "Mi Edad: 3\n",
      "Mi Raza: mezcla\n",
      "Mi Sexo hembra\n"
     ]
    }
   ],
   "source": [
    "gato2.presentar()               #traemos gato2 a pantalla con la presentacion ya creada"
   ]
  },
  {
   "cell_type": "markdown",
   "metadata": {},
   "source": [
    "ejercicio 3\n",
    "class Animal:\n",
    "    def __init__(self, especie, edad, color):\n",
    "        self.especie = especie\n",
    "        self.edad = edad\n",
    "        self.color = color\n",
    "    def mePresento(self):\n",
    "        print('Hola, soy ', self.especie, ', de color', self.color, ' y tengo ', self.edad, ' años')\n",
    "    def cumplirAños(self):\n",
    "        self.edad = self.edad + 1"
   ]
  },
  {
   "cell_type": "code",
   "execution_count": 40,
   "metadata": {},
   "outputs": [],
   "source": [
    "class animal:\n",
    "    def __init__(self,especie,edad,color):     #el metodo __init.__Se utiliza para inicializar los atributos de instancia del objeto\n",
    "        self.especie=especie       #usamos el parámetro self para acceder a los atributos y otros métodos de la clase\n",
    "        self.edad=edad\n",
    "        self.color=color\n",
    "    def MePresento(self):       #definimos el metodo MePresento\n",
    "        print(\"hola, soy\",self.especie, \"de color\",self.color, \"y tengo\" , self.edad,\"años\"  )\n",
    "    def CumpliAños(self):\n",
    "        self.edad=self.edad+1"
   ]
  },
  {
   "cell_type": "code",
   "execution_count": 41,
   "metadata": {},
   "outputs": [],
   "source": [
    "burro=animal(\"mamifero\",10,\"blanco\")        #creamos un elemento llamando burro para usar la clase creada arriba"
   ]
  },
  {
   "cell_type": "code",
   "execution_count": 53,
   "metadata": {},
   "outputs": [
    {
     "name": "stdout",
     "output_type": "stream",
     "text": [
      "hola, soy mamifero de color blanco y tengo 10 años\n"
     ]
    }
   ],
   "source": [
    "burro.MePresento ()       #llamamos la presentacion con el metodo creado arriba"
   ]
  },
  {
   "cell_type": "markdown",
   "metadata": {},
   "source": [
    "                    HERENCIA EN POO\n",
    "\n",
    "La herencia en Python es especialmente útil para crear clases especializadas, también conocidas como clases derivadas o subclases. Al heredar de una clase base, puedes extender su funcionalidad y personalizarla según tus necesidades específicas.\n",
    "\n",
    "Para crear una clase especializada, primero defines la clase base que contiene los atributos y métodos generales. Luego, creas una clase hija que hereda de la clase base y agregas nuevos atributos y métodos específicos de la especialización.\n",
    "\n",
    "Al heredar de una clase base, la clase hija puede acceder a todos los atributos y métodos de la clase base. Esto te permite utilizar y modificar los atributos y métodos heredados, así como agregar nuevos atributos y métodos propios que son relevantes para la especialización.\n",
    "\n",
    "La especialización mediante herencia te permite construir una jerarquía de clases donde las clases hijas heredan características comunes de la clase base y agregan su propia lógica específica. Esto te ayuda a organizar tu código de manera eficiente, evitando la repetición innecesaria de código y promoviendo la modularidad y la reutilización.\n",
    "\n",
    "\n",
    "super()\n",
    "\n",
    "Al llamar a super(), se obtiene una referencia al objeto de la clase padre, lo que permite invocar los métodos de la clase base y aprovechar su implementación existente. La sintaxis para usar super() es simple: super().metodo() llama al método deseado de la clase padre. "
   ]
  },
  {
   "cell_type": "markdown",
   "metadata": {},
   "source": [
    "ejercicio 1\n",
    "\n",
    "class Animal:\n",
    "    def __init__(self, especie, edad):\n",
    "        self.especie = especie\n",
    "        self.edad = edad\n",
    "\n",
    "    # Método genérico pero con implementación particular\n",
    "    def hablar(self):\n",
    "        # Método vacío\n",
    "        pass\n",
    "\n",
    "    # Método genérico pero con implementación particular\n",
    "    def moverse(self):\n",
    "        # Método vacío\n",
    "        pass\n",
    "\n",
    "    # Método genérico con la misma implementación\n",
    "    def describeme(self):\n",
    "        print(\"Soy un Animal del tipo\", type(self).__name__)"
   ]
  },
  {
   "cell_type": "code",
   "execution_count": 46,
   "metadata": {},
   "outputs": [],
   "source": [
    "class Animal:                               #creamos la clase\n",
    "    def __init__(self,especie,edad): \n",
    "        self.especie=especie\n",
    "        self.edad=edad\n",
    "\n",
    "        def hablar(self):                   #definimos cada atributo\n",
    "            pass\n",
    "        def moverse(self):\n",
    "            pass\n",
    "        def describeme(self):\n",
    "            print(\"soy un animal del tipo:\",type(self).__name__)"
   ]
  },
  {
   "cell_type": "markdown",
   "metadata": {},
   "source": [
    "# Perro hereda de Animal\n",
    "class Perro(Animal):\n",
    "    pass"
   ]
  },
  {
   "cell_type": "code",
   "execution_count": 49,
   "metadata": {},
   "outputs": [],
   "source": [
    "class Perro(animal):        #AQUI DEFINIMOS  QUE PERRO ES UNA SUBCLASE DE LA CLASE ANIMAL\n",
    "    pass"
   ]
  },
  {
   "cell_type": "markdown",
   "metadata": {},
   "source": [
    "mi_perro = Perro('mamífero', 10)\n",
    "mi_perro.describeme()"
   ]
  },
  {
   "cell_type": "code",
   "execution_count": 51,
   "metadata": {},
   "outputs": [
    {
     "ename": "TypeError",
     "evalue": "animal.__init__() missing 1 required positional argument: 'color'",
     "output_type": "error",
     "traceback": [
      "\u001b[1;31m---------------------------------------------------------------------------\u001b[0m",
      "\u001b[1;31mTypeError\u001b[0m                                 Traceback (most recent call last)",
      "Cell \u001b[1;32mIn[51], line 1\u001b[0m\n\u001b[1;32m----> 1\u001b[0m mi_perro\u001b[38;5;241m=\u001b[39m\u001b[43mPerro\u001b[49m\u001b[43m(\u001b[49m\u001b[38;5;124;43m\"\u001b[39;49m\u001b[38;5;124;43mmamifero\u001b[39;49m\u001b[38;5;124;43m\"\u001b[39;49m\u001b[43m,\u001b[49m\u001b[38;5;241;43m10\u001b[39;49m\u001b[43m)\u001b[49m  \u001b[38;5;66;03m#creamos el elemento mi_perro ingresando la info de acuerdo a  los atributos ya creados \u001b[39;00m\n\u001b[0;32m      2\u001b[0m mi_perro\u001b[38;5;241m.\u001b[39mdescribeme()        \u001b[38;5;66;03m#creamos la forma de llamarlo a pantalla\u001b[39;00m\n",
      "\u001b[1;31mTypeError\u001b[0m: animal.__init__() missing 1 required positional argument: 'color'"
     ]
    }
   ],
   "source": [
    "mi_perro=Perro(\"mamifero\",10)  #creamos el elemento mi_perro ingresando la info de acuerdo a  los atributos ya creados \n",
    "mi_perro.describeme()        #creamos la forma de llamarlo a pantalla"
   ]
  },
  {
   "cell_type": "markdown",
   "metadata": {},
   "source": [
    "class Perro(Animal):\n",
    "    def hablar(self):\n",
    "        print(\"Guau!\")\n",
    "    def moverse(self):\n",
    "        print(\"Caminando con 4 patas\")\n",
    "\n",
    "class Vaca(Animal):\n",
    "    def hablar(self):\n",
    "        print(\"Muuu!\")\n",
    "    def moverse(self):\n",
    "        print(\"Caminando con 4 patas\")\n",
    "\n",
    "class Abeja(Animal):\n",
    "    def hablar(self):\n",
    "        print(\"Bzzzz!\")\n",
    "    def moverse(self):\n",
    "        print(\"Volando\")\n",
    "\n",
    "    # Nuevo método\n",
    "    def picar(self):\n",
    "        print(\"Picar!\")"
   ]
  },
  {
   "cell_type": "code",
   "execution_count": null,
   "metadata": {},
   "outputs": [],
   "source": [
    "class Perro(Animal):    #DEFINIMOS LOS ATRIBUTOS DE LAS SUBCLASES PERRO, VACA ETC\n",
    "    def hablar(self):\n",
    "        print(\"guau\")\n",
    "    def moverse(self):\n",
    "        print(\"caminando con 4 patas\")\n",
    "\n",
    "class Vaca(Animal):\n",
    "    def hablar(self):\n",
    "        print(\"muuu\")\n",
    "    def moverse(self):\n",
    "        print(\"caminando con 4 patas\")\n",
    "\n",
    "class Abeja(Animal):\n",
    "    def hablar(self):\n",
    "        print(\"bzzz\")\n",
    "    def moverse(self):\n",
    "        print(\"volando\")\n",
    "    def picar(self):\n",
    "        print(\"picar\")"
   ]
  },
  {
   "cell_type": "markdown",
   "metadata": {},
   "source": [
    "class Animal:\n",
    "    def __init__(self, especie, edad):\n",
    "        self.especie = especie\n",
    "        self.edad = edad        \n",
    "    def hablar(self):\n",
    "        pass\n",
    "\n",
    "    def moverse(self):\n",
    "        pass\n",
    "\n",
    "    def describeme(self):\n",
    "        print(\"Soy un Animal del tipo\", type(self).__name__)"
   ]
  },
  {
   "cell_type": "code",
   "execution_count": 54,
   "metadata": {},
   "outputs": [],
   "source": [
    "class Animal:               #creamos la clase animal\n",
    "    def __init__(self,especie,edad):    #creamos los atributos de la clase\n",
    "        self.especie=especie            #y ademas con init inicializamos dichos atyributos\n",
    "        self.edad=edad\n",
    "    def hablar(self):       \n",
    "        pass\n",
    "    def moverse(self):\n",
    "        pass\n",
    "    def describeme(self):\n",
    "        print(\"soy un animal del tipo\", type(self).__name__)\n"
   ]
  },
  {
   "cell_type": "markdown",
   "metadata": {},
   "source": [
    "LIBRERIAS Y MODULOS 1\n",
    "\n",
    "En Python, un módulo es un archivo que contiene código Python reutilizable que puede ser importado y utilizado en otros programas. Los módulos contienen definiciones de funciones, variables y clases que se pueden utilizar en un programa. Los módulos son importados en otros programas para reutilizar el código que se encuentra en el archivo.\n",
    "\n",
    "Por otro lado, una librería o biblioteca es un conjunto de módulos que proporcionan una funcionalidad específica. Las bibliotecas suelen estar organizadas en un directorio que contiene varios archivos de módulo y se utilizan juntos para proporcionar una funcionalidad más compleja. Las librerías son proyectos con métodos o funciones puntuales que podemos anexar a otros proyectos y complementarlos"
   ]
  },
  {
   "cell_type": "markdown",
   "metadata": {},
   "source": [
    "# mimodulo.py\n",
    "def suma(a, b):\n",
    "    return a + b\n",
    "\n",
    "def resta(a, b):\n",
    "    return a - b"
   ]
  },
  {
   "cell_type": "code",
   "execution_count": null,
   "metadata": {},
   "outputs": [],
   "source": [
    "def suma(a,b):\n",
    "    return a+b\n",
    "\n",
    "def resta(a,b):\n",
    "    return a-b\n"
   ]
  },
  {
   "cell_type": "markdown",
   "metadata": {},
   "source": [
    "LIBRERIAS Y MOPDULOS 2\n",
    "\n",
    "sys.path es una lista en Python que contiene las rutas de búsqueda de módulos. Cuando importas un módulo en Python, el intérprete busca ese módulo en los directorios incluidos en sys.path. Estos directorios pueden incluir la ubicación del script actual, los directorios de la biblioteca estándar de Python y cualquier otro directorio personalizado que hayas agregado.\n",
    "\n",
    "La modificación de sys.path te permite controlar qué directorios se consideran al buscar módulos. Puedes agregar o eliminar directorios según tus necesidades, lo que resulta útil cuando trabajas con módulos personalizados o estructuras de carpetas no convencionales. Sin embargo, debes tener cuidado al modificar sys.path, ya que puede afectar el correcto funcionamiento de tu programa si se realizan cambios incorrectos.\n",
    "\n",
    "as y dir()\n",
    "\n",
    "En Python, puedes usar la palabra clave \"as\" para asignar un alias a un objeto o módulo. Por ejemplo, puedes importar un módulo y darle un nombre más corto usando \"as\". Por ejemplo: import math as m asigna el alias \"m\" al módulo \"math\", lo que te permite acceder a sus funciones utilizando m.funcion() en lugar de math.funcion().\n",
    "\n",
    "Por otro lado, la función dir() en Python se utiliza para obtener una lista de los nombres existentes en el espacio de nombres actual. Puedes llamar a dir() sin argumentos para obtener los nombres definidos en el alcance global, o pasarlo un objeto como argumento para obtener los nombres disponibles en ese objeto. Esta función es útil para explorar los atributos y métodos disponibles en un objeto determinado, ayudándote a entender qué funcionalidades ofrece y cómo interactuar con ellas."
   ]
  },
  {
   "cell_type": "markdown",
   "metadata": {},
   "source": [
    "ejercicio 1\n",
    "mi_variable = \"Python\"\n",
    "def mi_funcion():\n",
    "    pass\n",
    "print(dir())"
   ]
  },
  {
   "cell_type": "markdown",
   "metadata": {},
   "source": [
    "ejercicio 2\n",
    "# modulo.py\n",
    "def suma(a, b):\n",
    "    return a + b\n",
    "c = suma(1, 2)\n",
    "print(\"La suma es:\", c)"
   ]
  }
 ],
 "metadata": {
  "kernelspec": {
   "display_name": "Python 3",
   "language": "python",
   "name": "python3"
  },
  "language_info": {
   "codemirror_mode": {
    "name": "ipython",
    "version": 3
   },
   "file_extension": ".py",
   "mimetype": "text/x-python",
   "name": "python",
   "nbconvert_exporter": "python",
   "pygments_lexer": "ipython3",
   "version": "3.12.2"
  }
 },
 "nbformat": 4,
 "nbformat_minor": 2
}
