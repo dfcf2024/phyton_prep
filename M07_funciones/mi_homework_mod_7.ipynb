{
 "cells": [
  {
   "cell_type": "markdown",
   "metadata": {},
   "source": [
    "EJERCICIO 1\n",
    "Crear una función que reciba un número como parámetro y devuelva True si es primo y False si no lo es"
   ]
  },
  {
   "cell_type": "code",
   "execution_count": 35,
   "metadata": {},
   "outputs": [],
   "source": [
    "def sos_primo(x):                   \n",
    "    if x <=1:\n",
    "        return False\n",
    "    for i in range(2,x-1):\n",
    "        if x%i==0:\n",
    "            return False\n",
    "        return True\n",
    "    return sos_primo\n",
    "\n",
    "\n",
    "\n",
    "\n",
    "#2-Verificar si el número es menor o igual a 1: Si el número es menor o igual a 1, no es considerado primo, por lo que devolvemos False de inmediato.\n",
    "\n",
    "#4-Iterar sobre los números desde 2 hasta el número menos 1: Utilizamos un bucle for para iterar sobre todos los números desde 2 hasta uno menos que el número que estamos verificando.\n",
    "\n",
    "#5-Verificar si el número es divisible por algún otro número: En cada iteración, verificamos si el número es divisible por el número actual en el bucle. Si es divisible (es decir, el residuo de la división es cero), entonces el número no es primo, así que devolvemos False.\n",
    "\n",
    "#7-Devolver True si no se encontraron divisores: Si el bucle termina sin encontrar ningún divisor, significa que el número es primo, por lo que devolvemos True.\n",
    "    "
   ]
  },
  {
   "cell_type": "code",
   "execution_count": 36,
   "metadata": {},
   "outputs": [
    {
     "data": {
      "text/plain": [
       "True"
      ]
     },
     "execution_count": 36,
     "metadata": {},
     "output_type": "execute_result"
    }
   ],
   "source": [
    "sos_primo(17)"
   ]
  },
  {
   "cell_type": "markdown",
   "metadata": {},
   "source": [
    "EJERCICIO 1-RESPUESTA DEL PROFE\n",
    "def verifica_primo(nro):\n",
    "    es_primo = True  # Variable para almacenar el resultado de la verificación de número primo\n",
    "    for i in range(2, nro):  # Iteración sobre los números desde 2 hasta nro-1\n",
    "        if nro % i == 0:  # Verificación si nro es divisible por i (no es primo)\n",
    "            es_primo = False  # Se marca la variable como False indicando que el número no es primo\n",
    "            break  # Se rompe el bucle ya que no es necesario continuar la verificación\n",
    "    return es_primo  # Se devuelve el resultado de la verificación de número primo"
   ]
  },
  {
   "cell_type": "code",
   "execution_count": 37,
   "metadata": {},
   "outputs": [],
   "source": [
    "def verifica_primo(nro):\n",
    "    es_primo=True\n",
    "    for i in range(2,nro):\n",
    "        if nro%i==0:\n",
    "            es_primo=False\n",
    "            break\n",
    "    return es_primo\n",
    "\n"
   ]
  },
  {
   "cell_type": "code",
   "execution_count": 38,
   "metadata": {},
   "outputs": [
    {
     "data": {
      "text/plain": [
       "True"
      ]
     },
     "execution_count": 38,
     "metadata": {},
     "output_type": "execute_result"
    }
   ],
   "source": [
    "verifica_primo(5)"
   ]
  },
  {
   "cell_type": "markdown",
   "metadata": {},
   "source": [
    "ejercicio 2-Utilizando la función del punto 1, realizar otra función que reciba de parámetro una lista de números y devuelva sólo aquellos que son primos en otra lista"
   ]
  },
  {
   "cell_type": "code",
   "execution_count": 39,
   "metadata": {},
   "outputs": [],
   "source": [
    "def obtener_primos(lista):\n",
    "    primos = []  # Creamos una lista vacía donde almacenaremos los números primos\n",
    "    \n",
    "    for num in lista:  # Iteramos sobre cada número en la lista proporcionada\n",
    "        if sos_primo(num):  # Verificamos si el número es primo usando la función creada sos_primo\n",
    "            primos.append(num)  # Si es primo, lo añadimos a la lista de primos\n",
    "    \n",
    "    return primos  # Devolvemos la lista de números primos\n",
    "\n",
    "\n"
   ]
  },
  {
   "cell_type": "code",
   "execution_count": 40,
   "metadata": {},
   "outputs": [
    {
     "name": "stdout",
     "output_type": "stream",
     "text": [
      "de la lista eston son primos [127, 67, 289, 7, 987]\n"
     ]
    }
   ],
   "source": [
    "# Ejemplo de uso\n",
    "lista = [500, 230, 127, 67, 289, 7, 1050, 12458876, 987]\n",
    "primos_encontrados = obtener_primos(lista)      #CREAMOS LA VARIABLE primos_encontrados para llamar la funcion obtener_primos(lista)\n",
    "print(\"de la lista eston son primos\" , primos_encontrados)  #imprimimos la variable\n",
    "\n",
    "\n"
   ]
  },
  {
   "cell_type": "markdown",
   "metadata": {},
   "source": [
    "EJERCICIO 3\n",
    "Crear una función que al recibir una lista de números, devuelva el que más se repite y cuántas veces lo hace. Si hay más de un \"más repetido\", que devuelva cualquiera"
   ]
  },
  {
   "cell_type": "code",
   "execution_count": 9,
   "metadata": {},
   "outputs": [],
   "source": [
    "#RESPUESTA HECHA CON CHAT-GPT\n",
    "def mas_repetido(lista_numeros):\n",
    "    # Paso 1: Crear un diccionario para contar la frecuencia de cada número\n",
    "    frecuencia_numeros = {}\n",
    "\n",
    "    # Paso 2: Iterar sobre cada número en la lista y contar su frecuencia\n",
    "    for numero in lista_numeros:\n",
    "        if numero in frecuencia_numeros:\n",
    "            frecuencia_numeros[numero] += 1\n",
    "        else:\n",
    "            frecuencia_numeros[numero] = 1\n",
    "\n",
    "    # Paso 3: Encontrar el número que más se repite y su frecuencia máxima\n",
    "    max_frecuencia = max(frecuencia_numeros.values())\n",
    "    numero_mas_repetido = [numero for numero, frecuencia in frecuencia_numeros.items() if frecuencia == max_frecuencia]\n",
    "\n",
    "    # Paso 4: Devolver el número que más se repite y cuántas veces lo hace\n",
    "    return numero_mas_repetido, max_frecuencia\n",
    "\n",
    "# "
   ]
  },
  {
   "cell_type": "code",
   "execution_count": 10,
   "metadata": {},
   "outputs": [
    {
     "name": "stdout",
     "output_type": "stream",
     "text": [
      "El número(s) que más se repite(n) es/son [5], y se repite 6 veces.\n"
     ]
    }
   ],
   "source": [
    "#Ejemplo de uso de la función\n",
    "numeros = [1, 2, 3, 4, 5, 1, 2, 2, 3, 3, 3, 4,5,5,5,5,5, 4, 4, 4]\n",
    "numero_mas_repetido, frecuencia_maxima = mas_repetido(numeros)\n",
    "print(f\"El número(s) que más se repite(n) es/son {numero_mas_repetido}, y se repite {frecuencia_maxima} veces.\")"
   ]
  },
  {
   "cell_type": "markdown",
   "metadata": {},
   "source": [
    "................................RESPUESTA DEL PROFE---------------------------\n",
    "def valor_modal(lista):\n",
    "    lista_unicos = []\n",
    "    lista_repeticiones = []\n",
    "    if len(lista) == 0:\n",
    "        return None\n",
    "    for elemento in lista:\n",
    "        if elemento in lista_unicos:\n",
    "            i = lista_unicos.index(elemento)\n",
    "            lista_repeticiones[i] += 1\n",
    "        else:\n",
    "            lista_unicos.append(elemento)\n",
    "            lista_repeticiones.append(1)\n",
    "    moda = lista_unicos[0]\n",
    "    maximo = lista_repeticiones[0]\n",
    "    for i, elemento in enumerate(lista_unicos):\n",
    "        if lista_repeticiones[i] > maximo:\n",
    "            moda = lista_unicos[i]\n",
    "            maximo = lista_repeticiones[i]\n",
    "    return moda, maximo"
   ]
  },
  {
   "cell_type": "code",
   "execution_count": 11,
   "metadata": {},
   "outputs": [],
   "source": [
    "def valor_moda(lista):\n",
    "    lista_unicos=[]\n",
    "    lista_repeticiones=[]\n",
    "    if len(lista)==0:\n",
    "        return None\n",
    "    for elemento in lista:\n",
    "        if elemento in lista_unicos:\n",
    "            i=lista_unicos.index(elemento)\n",
    "            lista_repeticiones[i] +=1\n",
    "        else:\n",
    "            lista_unicos.append(elemento)\n",
    "            lista_repeticiones.append(1)\n",
    "        moda=lista_unicos[0]\n",
    "        maximo=lista_repeticiones[0]\n",
    "        for i, elemento in enumerate(lista_unicos):\n",
    "            if lista_repeticiones[i]>maximo:\n",
    "                moda=lista_unicos[i]\n",
    "                maximo=lista_repeticiones[i]\n",
    "        return moda,maximo\n",
    "\n",
    "\n",
    "    "
   ]
  },
  {
   "cell_type": "code",
   "execution_count": 12,
   "metadata": {},
   "outputs": [
    {
     "data": {
      "text/plain": [
       "(5, 3)"
      ]
     },
     "execution_count": 12,
     "metadata": {},
     "output_type": "execute_result"
    }
   ],
   "source": [
    "lis = [1,1,5,6,8,10,22,5,6,4,11,9,5]\n",
    "valor_moda(lis)\n",
    "(5, 3)"
   ]
  },
  {
   "cell_type": "markdown",
   "metadata": {},
   "source": [
    "EJERCICIO #4\n",
    "Crear una función que convierta entre grados Celsius, Farenheit y Kelvin\n",
    "Fórmula 1 : (°C × 9/5) + 32 = °F\n",
    "Fórmula 2 : °C + 273.15 = °K\n",
    "Debe recibir 3 parámetros: el valor, la medida de orígen y la medida de destino"
   ]
  },
  {
   "cell_type": "code",
   "execution_count": 3,
   "metadata": {},
   "outputs": [
    {
     "name": "stdout",
     "output_type": "stream",
     "text": [
      "El resultado de la conversión es: None kelvin\n"
     ]
    }
   ],
   "source": [
    "\n",
    "def convertir_temperatura(unidad_origen,unidad_destino,valor):          \n",
    "    if unidad_origen == \"c\":\n",
    "        if unidad_destino == \"k\":\n",
    "            return convertir_de_c_a_k(valor)\n",
    "        if unidad_destino == \"f\":\n",
    "            return convertir_de_c_a_f(valor)\n",
    "        if unidad_destino==\"c\":\n",
    "            return convertir_de_c_a_c(valor)\n",
    "           \n",
    "    if unidad_origen == \"k\":\n",
    "        if unidad_destino == \"c\":\n",
    "            return convertir_de_k_a_c(valor)\n",
    "        if unidad_destino == \"f\":\n",
    "            return convertir_de_c_a_f(valor)\n",
    "        if unidad_destino == \"k\":\n",
    "            return convertir_de_k_a_k(valor)\n",
    "        \n",
    "    if unidad_origen == \"f\":\n",
    "        if unidad_destino == \"c\":\n",
    "            return convertir_de_f_a_c(valor)\n",
    "        if unidad_destino == \"k\":\n",
    "            return convertir_de_f_a_k(valor)\n",
    "        if unidad_destino == \"f\":\n",
    "            return convertir_de_f_a_f(valor)\n",
    "        \n",
    "\n",
    "        \n",
    "    \n",
    "\n",
    "def convertir_de_f_a_c (farenheit):\n",
    "    resultado1= (5/9*farenheit)+32\n",
    "    return resultado1   \n",
    "\n",
    "def convertir_de_k_a_c (kelvin):\n",
    "    resultado2=(kelvin-273.15)\n",
    "    return resultado2\n",
    "\n",
    "def convertir_de_c_a_k (celsius):\n",
    "    resultado3=(celsius+273.15)\n",
    "    return resultado3\n",
    "\n",
    "def convertir_de_f_a_k (farenheit):\n",
    "    resultado4= (459.67+farenheit)*5/9\n",
    "    return resultado4\n",
    "\n",
    "def convertir_de_c_a_f(celsius):\n",
    "    resultado5=(celsius*9/5)+32\n",
    "    return resultado5\n",
    "\n",
    "def convertir_de_k_a_f (kelvin):\n",
    "    resultado6=(kelvin*9/5)-459.67\n",
    "    return resultado6 \n",
    "\n",
    "def convertir_de_f_a_f (farenheit):  \n",
    "    resultado7=(farenheit)\n",
    "    return resultado7 \n",
    "\n",
    "def convertir_de_k_a_k (kelvin):  \n",
    "    resultado8=(kelvin)\n",
    "    return resultado8 \n",
    "\n",
    "def convertir_de_c_a_c (celsius):  \n",
    "    resultado9=(celsius)\n",
    "    return resultado9 \n",
    "\n",
    "# Solicitar al usuario la unidad de temperatura origen\n",
    "unidad_origen = input(\"Ingrese la unidad de temperatura origen, c,f o k (c=celsius, f=farenheit, k=kelvin): \")\n",
    "\n",
    "# Solicitar al usuario la unidad de temperatura destino\n",
    "unidad_destino = input(\"Ingrese la unidad de temperatura destino, c,f o k (c=celsius, f=farenheit, k=kelvin): \")\n",
    "\n",
    "# Solicitar al usuario el valor numérico a convertir\n",
    "valor_a_convertir = float(input(\"Ingrese el valor numérico a convertir: \"))\n",
    "\n",
    "# Llamar a la función de conversión y mostrar el resultado\n",
    "resultado_conversion = convertir_temperatura(unidad_origen, unidad_destino, valor_a_convertir)\n",
    "print(\"El resultado de la conversión es:\", resultado_conversion,unidad_destino)"
   ]
  },
  {
   "cell_type": "markdown",
   "metadata": {},
   "source": [
    "ejercicio 5 Iterando una lista con los tres valores posibles de temperatura que recibe la función del punto 5, hacer un print para cada combinación de los mismos:"
   ]
  },
  {
   "cell_type": "code",
   "execution_count": null,
   "metadata": {},
   "outputs": [
    {
     "name": "stdout",
     "output_type": "stream",
     "text": [
      "[('celsius', 'celsius'), ('celsius', 'farenheit'), ('celsius', 'kelvin'), ('farenheit', 'celsius'), ('farenheit', 'farenheit'), ('farenheit', 'kelvin'), ('kelvin', 'celsius'), ('kelvin', 'farenheit'), ('kelvin', 'kelvin')]\n"
     ]
    }
   ],
   "source": [
    "medida_de_origen=[\"celsius\",\"farenheit\",\"kelvin\"]\n",
    "medida_de_destino=[\"celsius\",\"farenheit\",\"kelvin\"]\n",
    "origen_destino = []\n",
    "for origen in medida_de_origen:\n",
    "    for destino in medida_de_destino:\n",
    "        origen_destino.append((origen, destino))\n",
    "\n",
    "print(origen_destino)"
   ]
  },
  {
   "cell_type": "code",
   "execution_count": 17,
   "metadata": {},
   "outputs": [
    {
     "name": "stdout",
     "output_type": "stream",
     "text": [
      "El factorial de 11 es: 39916800\n"
     ]
    }
   ],
   "source": [
    "def factorial(numero):\n",
    "    if (numero>1):\n",
    "        numero=numero*factorial(numero-1)   \n",
    "        return numero\n",
    "    elif ((numero == 0) or (numero < 0)):\n",
    "        return \"Los números negativos y el cero (0) no tienen un factorial definido\"\n",
    "    else:\n",
    "        return 1\n",
    "# Solicitar al usuario que ingrese el número\n",
    "numero = int(input(\"Por favor, ingresa un número para calcular su factorial: \"))\n",
    "# Llamar a la función factorial con el número ingresado por el usuario\n",
    "resultado = factorial(numero)\n",
    "# Imprimir el resultado\n",
    "print(\"El factorial de\", numero, \"es:\", resultado)\n"
   ]
  },
  {
   "cell_type": "markdown",
   "metadata": {},
   "source": [
    "ejercicio 6 Armar una función que devuelva el factorial de un número. Tener en cuenta que el usuario puede equivocarse y enviar de parámetro un número no entero o negativo"
   ]
  },
  {
   "cell_type": "code",
   "execution_count": null,
   "metadata": {},
   "outputs": [
    {
     "name": "stdout",
     "output_type": "stream",
     "text": [
      "El factorial de -50 es: Los números negativos y el cero (0) no tienen un factorial definido\n"
     ]
    }
   ],
   "source": [
    "def factorial(numero):\n",
    "    if (numero>1):\n",
    "        numero=numero*factorial(numero-1)   \n",
    "        return numero\n",
    "    elif ((numero == 0) or (numero < 0)):\n",
    "        return \"Los números negativos y el cero (0) no tienen un factorial definido\"\n",
    "    else:\n",
    "        return 1\n",
    "# Solicitar al usuario que ingrese el número\n",
    "numero = int(input(\"Por favor, ingresa un número para calcular su factorial: \"))\n",
    "# Llamar a la función factorial con el número ingresado por el usuario\n",
    "resultado = factorial(numero)\n",
    "# Imprimir el resultado\n",
    "print(\"El factorial de\", numero, \"es:\", resultado)\n"
   ]
  },
  {
   "cell_type": "markdown",
   "metadata": {},
   "source": [
    "RESPUESTA DEL PROFE AL EJERCICIO 6"
   ]
  },
  {
   "cell_type": "code",
   "execution_count": null,
   "metadata": {},
   "outputs": [],
   "source": [
    "def factorial(numero):\n",
    "    # Verifica si el número no es entero y devuelve un mensaje de error\n",
    "    if type(numero) != int:\n",
    "        return 'El número debe ser un entero'\n",
    "    \n",
    "    # Verifica si el número es negativo y devuelve un mensaje de error\n",
    "    if numero < 0:\n",
    "        return 'El número debe ser positivo'\n",
    "    \n",
    "    # Caso base: si el número es 0 o 1, el factorial es 1\n",
    "    if numero <= 1:\n",
    "        return 1\n",
    "    \n",
    "    # Recursión: calcula el factorial del número multiplicándolo por el factorial del número anterior\n",
    "    numero = numero * factorial(numero - 1)\n",
    "    \n",
    "    return numero"
   ]
  }
 ],
 "metadata": {
  "kernelspec": {
   "display_name": "Python 3",
   "language": "python",
   "name": "python3"
  },
  "language_info": {
   "codemirror_mode": {
    "name": "ipython",
    "version": 3
   },
   "file_extension": ".py",
   "mimetype": "text/x-python",
   "name": "python",
   "nbconvert_exporter": "python",
   "pygments_lexer": "ipython3",
   "version": "3.12.2"
  }
 },
 "nbformat": 4,
 "nbformat_minor": 2
}
