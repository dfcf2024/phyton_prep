{
 "cells": [
  {
   "cell_type": "markdown",
   "metadata": {},
   "source": [
    "    ---------Límites de funciones, declarar y ejecutar, dónde acceder a variables------\n",
    "\n",
    "Una función en Python (y en cualquier otro lenguaje de programación) es un bloque de líneas de código o un conjunto de instrucciones cuya finalidad es realizar una tarea específica. Puede reutilizarse cada vez que lo necesitemos para repetir dicha tarea. \n",
    "\n",
    "¿Cómo se estructura?\n",
    "\n",
    "Para definir una función en Python se utiliza la palabra reservada def, a continuación viene el nombre de la función que es el que se utilizará luego para invocarla. Después del nombre hay que incluir los paréntesis y dentro de ellos una lista opcional de parámetros. Finalmente colocamos  dos puntos.\n",
    "\n",
    " Luego de  los dos puntos se incluye el cuerpo de la función, con una sangría.En el cuerpo de la función  van el conjunto de instrucciones que se encapsulan en dicha función.  En último lugar y de manera opcional, se añade la instrucción con la palabra reservada return para devolver un resultado.\n",
    "\n",
    "\n",
    "            def mi_funcion(parametro1,parametro2):\n",
    "                 mi_nombre_de la_instruccion=instrucciones\n",
    "                 return mi_nombre_de_la_instruccion\n",
    "\n",
    "               uso: mi_funcion(parametro1,parametro2)      \n",
    "\n",
    "\n",
    "Límites al declarar funciones\n",
    "\n",
    "1 Los nombres no pueden comenzar con dígitos\n",
    "\n",
    "2 No se puede utilizar una palabra reservada\n",
    "\n",
    "3 Las variables deben tener diferentes nombres\n",
    "\n",
    "4 Los nombres de las funciones deben ser descriptivas de lo que hacen las funciones\n",
    "\n",
    "5 Los parámetros pueden tener valores por defecto\n",
    "\n",
    "6 Una función puede devolver ninguno, uno o más de un valor, y de diferentes tipos de datos\n",
    "\n",
    "\n",
    "¿Dónde acceder a las variables?\n",
    "\n",
    "Cada vez que una función se ejecuta se genera un contenedor, donde las variables de la función van a vivir, una vez se sale de la función estas variables dejan de existir, este contenedor se denomina espacio de nombres, alcance o scope de la función. Dentro de una función puede haber una variable que solo se pueda utilizar dentro del cuerpo de la función, estas son las  variables locales. Mientras que las variables en el código desde el cual se llama a la función, son variables globales.\n",
    "\n",
    "Una variable declarada fuera de cualquier función o clase tiene un alcance global. Esto significa que puede ser accedida desde cualquier lugar del programa, incluyendo dentro de funciones y clases.\n",
    "Una variable declarada dentro de una función o clase tiene un alcance local. Esto significa que solo puede ser accedida dentro de esa función o clase, y no fuera de ella."
   ]
  },
  {
   "cell_type": "markdown",
   "metadata": {},
   "source": [
    "ejercicio 1\n",
    "def calcular_area_rectangulo(base, altura):\n",
    "    area = base * altura\n",
    "    return area"
   ]
  },
  {
   "cell_type": "code",
   "execution_count": 5,
   "metadata": {},
   "outputs": [],
   "source": [
    "def calcular_area_rectangulo(base,altura):\n",
    "    area=base*altura\n",
    "    return area"
   ]
  },
  {
   "cell_type": "code",
   "execution_count": 6,
   "metadata": {},
   "outputs": [
    {
     "data": {
      "text/plain": [
       "6"
      ]
     },
     "execution_count": 6,
     "metadata": {},
     "output_type": "execute_result"
    }
   ],
   "source": [
    "calcular_area_rectangulo(3,2)\n"
   ]
  },
  {
   "cell_type": "code",
   "execution_count": 7,
   "metadata": {},
   "outputs": [],
   "source": [
    "#calcular area triangulo\n",
    "def calcular_area_triangulo(base,altura):\n",
    "    area=(base*altura)//2\n",
    "    return area\n"
   ]
  },
  {
   "cell_type": "code",
   "execution_count": 8,
   "metadata": {},
   "outputs": [
    {
     "data": {
      "text/plain": [
       "12"
      ]
     },
     "execution_count": 8,
     "metadata": {},
     "output_type": "execute_result"
    }
   ],
   "source": [
    "calcular_area_triangulo(4,6)"
   ]
  },
  {
   "cell_type": "markdown",
   "metadata": {},
   "source": [
    "ejercicio 2             EJEMPLO DE FUNCION DONDE LE DAMOS UN PARAMETRO EL CUAL USA EN CASO DE NO DARSELO\n",
    "def saludar(nombre, saludo=\"Hola\"):\n",
    "    print(saludo + \", \" + nombre)"
   ]
  },
  {
   "cell_type": "code",
   "execution_count": 9,
   "metadata": {},
   "outputs": [],
   "source": [
    "def saludar(nombre , saludo =\"hola \"):\n",
    "    print(saludo+ \"\" + nombre)"
   ]
  },
  {
   "cell_type": "code",
   "execution_count": 10,
   "metadata": {},
   "outputs": [
    {
     "name": "stdout",
     "output_type": "stream",
     "text": [
      "BUEN DIA pedro\n"
     ]
    }
   ],
   "source": [
    "saludar (\"pedro\", \"BUEN DIA \")"
   ]
  },
  {
   "cell_type": "markdown",
   "metadata": {},
   "source": [
    "ejercicio 3         EJEMPLO DE FUNCION QUE DEVUELVE NINGUN VALOR\n",
    "def imprimir_mensaje():\n",
    "    print(\"¡Hola, mundo!\")"
   ]
  },
  {
   "cell_type": "code",
   "execution_count": 11,
   "metadata": {},
   "outputs": [],
   "source": [
    "def imprimir_mensaje():\n",
    "        print(\"hola, mundo!\")"
   ]
  },
  {
   "cell_type": "code",
   "execution_count": 12,
   "metadata": {},
   "outputs": [
    {
     "name": "stdout",
     "output_type": "stream",
     "text": [
      "hola, mundo!\n"
     ]
    }
   ],
   "source": [
    "imprimir_mensaje()"
   ]
  },
  {
   "cell_type": "markdown",
   "metadata": {},
   "source": [
    "EJERCICIO 4                 EJEMPLO DE FUNCION QUE DEVUELVE UN VALOR\n",
    "def sumar(sumando1, sumando2):\n",
    "    resultado = sumando1 + sumando2\n",
    "    return resultado"
   ]
  },
  {
   "cell_type": "code",
   "execution_count": 13,
   "metadata": {},
   "outputs": [],
   "source": [
    "def sumame (sumando1,sumando2):\n",
    "    resultado=sumando1+sumando2\n",
    "    return resultado\n"
   ]
  },
  {
   "cell_type": "code",
   "execution_count": 14,
   "metadata": {},
   "outputs": [
    {
     "data": {
      "text/plain": [
       "30"
      ]
     },
     "execution_count": 14,
     "metadata": {},
     "output_type": "execute_result"
    }
   ],
   "source": [
    "sumame(10,20)"
   ]
  },
  {
   "cell_type": "markdown",
   "metadata": {},
   "source": [
    "EJERCICIO 5             FUNCION HECHA PARA QUE DEVUELVA 2 VALORES\n",
    "def dividir(dividendo, divisor):\n",
    "    cociente = dividendo// divisor\n",
    "    resto = dividendo % divisor\n",
    "    return cociente, resto"
   ]
  },
  {
   "cell_type": "code",
   "execution_count": 15,
   "metadata": {},
   "outputs": [],
   "source": [
    "def dividir(dividendo,divisor):\n",
    "    cociente=dividendo//divisor\n",
    "    residuo=dividendo%divisor\n",
    "    return cociente,residuo"
   ]
  },
  {
   "cell_type": "code",
   "execution_count": 16,
   "metadata": {},
   "outputs": [
    {
     "data": {
      "text/plain": [
       "(3, 1)"
      ]
     },
     "execution_count": 16,
     "metadata": {},
     "output_type": "execute_result"
    }
   ],
   "source": [
    "dividir(10,3)"
   ]
  },
  {
   "cell_type": "markdown",
   "metadata": {},
   "source": [
    "EJERCICIO 6                             FUNCION PARA ORDENAR VARIABLES\n",
    "def ordenar_dos_numeros(num1=0, num2=0):\n",
    "    if (num1 > num2):\n",
    "        return num2, num1\n",
    "    else:\n",
    "        return num1, num2"
   ]
  },
  {
   "cell_type": "code",
   "execution_count": 17,
   "metadata": {},
   "outputs": [],
   "source": [
    "def ordenar_2_numeros(num1,num2):\n",
    "    if (num1>num2):\n",
    "        return num2,num1\n",
    "    else:\n",
    "        return num1,num2"
   ]
  },
  {
   "cell_type": "code",
   "execution_count": 18,
   "metadata": {},
   "outputs": [
    {
     "data": {
      "text/plain": [
       "(-5, -3)"
      ]
     },
     "execution_count": 18,
     "metadata": {},
     "output_type": "execute_result"
    }
   ],
   "source": [
    "ordenar_2_numeros(-3,-5)"
   ]
  },
  {
   "cell_type": "markdown",
   "metadata": {},
   "source": [
    "                                        RECURSIVIDAD\n",
    " ㅤ\n",
    "Las funciones recursivas son aquellas que se llaman a sí mismas durante su ejecución. En Python, como en otros lenguajes de programación, se utilizan para resolver problemas que se pueden descomponer en subproblemas más pequeños y similares al problema original.\n",
    "Si te interesa aprender más sobre las funciones recursivas y cómo funcionan, ¡no te pierdas esta video clase!\n",
    "\n",
    "\n",
    "Recordemos la  información clave de la video clase...\n",
    "\n",
    "La recursividad como técnica de programación que permite definir funciones que se llaman a sí mismas dentro de su propio cuerpo. En Python, se puede utilizar la recursividad mediante el uso de llamadas recursivas. Las funciones recursivas tienen varias ventajas en programación, como la reutilización de código y la legibilidad del mismo.\n",
    "\n",
    "                                def factorial(numero):\n",
    "                                    if (numero > 1):\n",
    "                                        numero = numero * factorial(numero - 1)\n",
    "                                    return numero\n",
    "\n",
    "\n",
    "help()\n",
    "\n",
    "La función help() es una función incorporada en Python que se utiliza para obtener información detallada sobre los módulos, funciones, clases, métodos, palabras clave y cualquier otro objeto de Python. Al utilizar la función help() en un objeto o módulo, se muestra una descripción detallada de su funcionalidad, argumentos y otros detalles útiles. Esta función es especialmente útil para explorar y comprender la funcionalidad de un objeto en Python."
   ]
  },
  {
   "cell_type": "markdown",
   "metadata": {},
   "source": [
    "EJERCICIO 1\n",
    "def factorial(numero):\n",
    "    if (numero > 1):\n",
    "        numero = numero * factorial(numero - 1)\n",
    "    return numero"
   ]
  },
  {
   "cell_type": "code",
   "execution_count": 19,
   "metadata": {},
   "outputs": [],
   "source": [
    "def factorial(numero):\n",
    "    if (numero>1):\n",
    "        numero=numero*factorial(numero-1)\n",
    "    return numero"
   ]
  },
  {
   "cell_type": "code",
   "execution_count": 25,
   "metadata": {},
   "outputs": [
    {
     "name": "stdout",
     "output_type": "stream",
     "text": [
      "3628800\n"
     ]
    }
   ],
   "source": [
    "print(factorial(10))"
   ]
  },
  {
   "cell_type": "markdown",
   "metadata": {},
   "source": [
    "EJERCICIO 2                         USO DE LA FUNCION HELP\n",
    "def factorial(numero):\n",
    "'''\n",
    "    Calcula el factorial de un número\n",
    "    '''\n",
    "    if (numero > 1):\n",
    "        numero = numero * factorial(numero - 1)\n",
    "    return numero"
   ]
  },
  {
   "cell_type": "code",
   "execution_count": 23,
   "metadata": {},
   "outputs": [],
   "source": [
    "def factorial(numero):                  \n",
    "    '''Calcula el factorial de un número'''\n",
    "    if (numero > 1):\n",
    "        numero = numero * factorial(numero - 1)\n",
    "    return numero"
   ]
  },
  {
   "cell_type": "code",
   "execution_count": 22,
   "metadata": {},
   "outputs": [
    {
     "name": "stdout",
     "output_type": "stream",
     "text": [
      "Help on function factorial in module __main__:\n",
      "\n",
      "factorial(numero)\n",
      "    Calcula el factorial de un número\n",
      "\n"
     ]
    }
   ],
   "source": [
    "help(factorial)"
   ]
  },
  {
   "cell_type": "markdown",
   "metadata": {},
   "source": [
    "            Pasajes de parámetros por valor y referencia y Funciones Lambda\n",
    "\n",
    "Si usamos un parámetro pasado por valor, se creará una copia local de la variable, lo que implica que cualquier modificación sobre la misma no tendrá efecto sobre la original.\n",
    "\n",
    "2\n",
    "Con una variable pasada como referencia, se actuará directamente sobre la variable pasada, por lo que las modificaciones afectarán a la variable original.\n",
    "\n",
    "En Python los tipos de datos simples se pasan como valor (int, float, string, bool, complex), los demás tipos de datos, se pasan como referencia.\n",
    "\n",
    "copy()\n",
    "\n",
    "Este método únicamente se encarga de copiar el objeto que hemos pasado como argumento, independientemente si contiene en su interior otros objetos mutables. \n",
    "\n",
    "Funciones Lambda\n",
    "\n",
    "Las funciones Lambda son una forma conveniente de crear una función en una sola línea en Python. También se las conoce como funciones anónimas, ya que no tienen nombre y se asignan a una variable.\n",
    "\n",
    "A diferencia de las funciones regulares, las funciones Lambda pueden tener cualquier cantidad de argumentos, pero solo una expresión. Además, no necesitan un return, ya que la expresión es el valor de retorno.\n",
    "\n",
    "1 Pueden tener cualquier cantidad de argumentos, pero solo una expresión.\n",
    "\n",
    "2 No necesitan un return. \n",
    "\n",
    "3 Muy cómodas para crear funciones rápido."
   ]
  },
  {
   "cell_type": "markdown",
   "metadata": {},
   "source": [
    "EJERCICIO 1             EJEMPLO CON DATOS PASADOS COMO REFERENCIA(LISTAS, TUPLAS, ETC),AGREGANDOSE AL ------------------------ORIGINAL CON EL MISMO ID     \n",
    "x = [10, 20, 30]\n",
    "def funcion(entrada):\n",
    "    entrada.append(40)\n",
    "funcion(x)\n",
    "print(x)"
   ]
  },
  {
   "cell_type": "code",
   "execution_count": 735,
   "metadata": {},
   "outputs": [
    {
     "name": "stdout",
     "output_type": "stream",
     "text": [
      "[10, 20, 30, 40]\n"
     ]
    }
   ],
   "source": [
    "x=[10,20,30]\n",
    "def funcion(entrada):\n",
    "        entrada.append(40)   \n",
    "funcion(x)                     #una lista pasa como REFERENCIA, los datos afectan la variable original, es decir \"x\"\n",
    "print(x)\n"
   ]
  },
  {
   "cell_type": "markdown",
   "metadata": {},
   "source": [
    "EJERCICIO 2          DATO PASADO COMO VALOR, ES DECIR NO AFECTA AL ORIGINAL Y SE ALMACENA CON ID DISTINTO\n",
    "\n",
    "def funcion(entrada):\n",
    "    entrada = 0          el parametro entrada lo define como 0 ya que los enteros pasan como valor\n",
    "    print(id(entrada))\n",
    "funcion(x)"
   ]
  },
  {
   "cell_type": "code",
   "execution_count": 710,
   "metadata": {},
   "outputs": [
    {
     "name": "stdout",
     "output_type": "stream",
     "text": [
      "140716835621272\n"
     ]
    }
   ],
   "source": [
    "def funcion(entrada):\n",
    "    entrada=0\n",
    "    print(id(entrada))\n",
    "funcion(x)"
   ]
  },
  {
   "cell_type": "code",
   "execution_count": 711,
   "metadata": {},
   "outputs": [
    {
     "name": "stdout",
     "output_type": "stream",
     "text": [
      "[10, 20, 30, 40]\n"
     ]
    }
   ],
   "source": [
    "print(x)"
   ]
  },
  {
   "cell_type": "code",
   "execution_count": 712,
   "metadata": {},
   "outputs": [
    {
     "name": "stdout",
     "output_type": "stream",
     "text": [
      "1494489955776\n"
     ]
    }
   ],
   "source": [
    "print(id(x))            #agrega el elemento a x pero al ser un entero su dato es pasado como VALOR y por ende\n",
    "                        #se almacena con un id diferente"
   ]
  },
  {
   "cell_type": "markdown",
   "metadata": {},
   "source": [
    "EJERCICIO PASO COMO REFERENCIA AL SER X UNA LISTA"
   ]
  },
  {
   "cell_type": "code",
   "execution_count": 713,
   "metadata": {},
   "outputs": [],
   "source": [
    "X=[1,2]\n",
    "Y=X\n",
    "Y.append(3)\n"
   ]
  },
  {
   "cell_type": "code",
   "execution_count": 714,
   "metadata": {},
   "outputs": [
    {
     "name": "stdout",
     "output_type": "stream",
     "text": [
      "[1, 2, 3]\n",
      "[1, 2, 3]\n"
     ]
    }
   ],
   "source": [
    "print(X)        #al ser x una LISTA se almacena  como REFERENCIA \n",
    "print(Y)        #en las REFERENCIAS los id se vuelven igual ya que el original se ve modificado"
   ]
  },
  {
   "cell_type": "code",
   "execution_count": 715,
   "metadata": {},
   "outputs": [
    {
     "name": "stdout",
     "output_type": "stream",
     "text": [
      "1494488474304\n",
      "1494488474304\n"
     ]
    }
   ],
   "source": [
    "print(id(X))\n",
    "print(id(Y))"
   ]
  },
  {
   "cell_type": "code",
   "execution_count": 716,
   "metadata": {},
   "outputs": [
    {
     "name": "stdout",
     "output_type": "stream",
     "text": [
      "1494488474304\n",
      "1494488474304\n"
     ]
    }
   ],
   "source": [
    "print(id(X))\n",
    "print(id(Y))\n",
    "      "
   ]
  },
  {
   "cell_type": "markdown",
   "metadata": {},
   "source": [
    "EJERCICIO PASO COMO VALOR AL SER X UN ENTERO"
   ]
  },
  {
   "cell_type": "code",
   "execution_count": 717,
   "metadata": {},
   "outputs": [],
   "source": [
    "x=1         #al x ser entero se pasa como VALOR, se almacena aparte y no se afecta por y\n",
    "y=x         #en los VALOR los ID son diferentes ya que no se modifica el original\n",
    "y=5\n"
   ]
  },
  {
   "cell_type": "code",
   "execution_count": 718,
   "metadata": {},
   "outputs": [
    {
     "name": "stdout",
     "output_type": "stream",
     "text": [
      "1\n",
      "5\n"
     ]
    }
   ],
   "source": [
    "print(x)\n",
    "print(y)"
   ]
  },
  {
   "cell_type": "markdown",
   "metadata": {},
   "source": [
    "EJERCICIO 3\n",
    "def funcion(entrada):\n",
    "    entrada.append(40)\n",
    "    print(id(entrada))\n",
    "funcion(x)"
   ]
  },
  {
   "cell_type": "code",
   "execution_count": 733,
   "metadata": {},
   "outputs": [
    {
     "name": "stdout",
     "output_type": "stream",
     "text": [
      "1494489951232\n"
     ]
    }
   ],
   "source": [
    "X=[10,20,30]                   # REFERENCIA\n",
    "def funcion(entrada):\n",
    "    entrada.append(40)\n",
    "    print(id(entrada))\n",
    "funcion(X)"
   ]
  },
  {
   "cell_type": "code",
   "execution_count": 734,
   "metadata": {},
   "outputs": [
    {
     "name": "stdout",
     "output_type": "stream",
     "text": [
      "1494489951232\n"
     ]
    }
   ],
   "source": [
    "print(id(X))\n"
   ]
  },
  {
   "cell_type": "code",
   "execution_count": 732,
   "metadata": {},
   "outputs": [
    {
     "name": "stdout",
     "output_type": "stream",
     "text": [
      "[10, 20, 30, 40]\n"
     ]
    }
   ],
   "source": [
    "print(X)"
   ]
  },
  {
   "cell_type": "markdown",
   "metadata": {},
   "source": [
    "EJERCICIO 4\n",
    "lambda_producto = lambda x, y: x * y"
   ]
  },
  {
   "cell_type": "code",
   "execution_count": 737,
   "metadata": {},
   "outputs": [],
   "source": [
    "lambda_multiplicame = lambda x,y:x*y"
   ]
  },
  {
   "cell_type": "code",
   "execution_count": 738,
   "metadata": {},
   "outputs": [
    {
     "data": {
      "text/plain": [
       "18"
      ]
     },
     "execution_count": 738,
     "metadata": {},
     "output_type": "execute_result"
    }
   ],
   "source": [
    "lambda_multiplicame (6,3)"
   ]
  },
  {
   "cell_type": "markdown",
   "metadata": {},
   "source": [
    "EJERCICIO 5\n",
    "lambda_producto(3, 4)"
   ]
  },
  {
   "cell_type": "code",
   "execution_count": 739,
   "metadata": {},
   "outputs": [
    {
     "data": {
      "text/plain": [
       "12"
      ]
     },
     "execution_count": 739,
     "metadata": {},
     "output_type": "execute_result"
    }
   ],
   "source": [
    "lambda_multiplicame(3,4)"
   ]
  },
  {
   "cell_type": "code",
   "execution_count": 1,
   "metadata": {},
   "outputs": [
    {
     "name": "stdout",
     "output_type": "stream",
     "text": [
      "['a,1', 'a,2', 'a,3', 'b,1', 'b,2', 'b,3', 'c,1', 'c,2', 'c,3']\n"
     ]
    }
   ],
   "source": [
    "#forma 1 ejercicio para combinar 2 listas\n",
    "\n",
    "# Paso 1: Inicializar una lista vacía para almacenar las combinaciones\n",
    "lista_letras=[\"a\",\"b\",\"c\"]\n",
    "lista_numeros=[1,2,3]\n",
    "\n",
    "nueva_lista = []\n",
    "\n",
    "# Paso 2: Iterar sobre cada letra en la lista de letras\n",
    "for letra in lista_letras:\n",
    "    # Paso 3: Iterar sobre cada número en la lista de números\n",
    "    for numero in lista_numeros:\n",
    "        # Paso 4: Combinar la letra actual con el número actual y agregarlo a la nueva lista\n",
    "        combinacion = f\"{letra},{numero}\"\n",
    "        nueva_lista.append(combinacion)\n",
    "print(nueva_lista)\n",
    "                    \n",
    "                            # Paso 5: Devolver la lista de combinaciones\n"
   ]
  },
  {
   "cell_type": "code",
   "execution_count": 3,
   "metadata": {},
   "outputs": [
    {
     "name": "stdout",
     "output_type": "stream",
     "text": [
      "[('a', 1), ('a', 2), ('a', 3), ('b', 1), ('b', 2), ('b', 3), ('c', 1), ('c', 2), ('c', 3)]\n"
     ]
    }
   ],
   "source": [
    "#forma 2 ejercicio para combinar 2 listas\n",
    "\n",
    "# Paso 1: Inicializar una lista vacía para almacenar las combinaciones\n",
    "lista_letras=[\"a\",\"b\",\"c\"]\n",
    "lista_numeros=[1,2,3]\n",
    "\n",
    "nueva_lista = []\n",
    "\n",
    "# Paso 2: Iterar sobre cada letra en la lista de letras\n",
    "for letra in lista_letras:\n",
    "    # Paso 3: Iterar sobre cada número en la lista de números\n",
    "    for numero in lista_numeros:\n",
    "        # Paso 4: Combinar la letra actual con el número actual y agregarlo a la nueva lista\n",
    "               nueva_lista.append((letra,numero))\n",
    "print(nueva_lista)\n",
    "                    \n",
    "                            # Paso 5: Devolver la lista de combinaciones"
   ]
  }
 ],
 "metadata": {
  "kernelspec": {
   "display_name": "Python 3",
   "language": "python",
   "name": "python3"
  },
  "language_info": {
   "codemirror_mode": {
    "name": "ipython",
    "version": 3
   },
   "file_extension": ".py",
   "mimetype": "text/x-python",
   "name": "python",
   "nbconvert_exporter": "python",
   "pygments_lexer": "ipython3",
   "version": "3.12.2"
  }
 },
 "nbformat": 4,
 "nbformat_minor": 2
}
