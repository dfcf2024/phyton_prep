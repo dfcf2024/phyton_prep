{
 "cells": [
  {
   "cell_type": "markdown",
   "metadata": {},
   "source": [
    "EJERCICIO 1\n",
    "\n",
    "Con la clase creada en el módulo 8, tener en cuenta diferentes casos en que el código pudiera arrojar error. Por ejemplo, en la creación del objeto recibimos una lista de números enteros pero ¿qué pasa si se envía otro tipo de dato?"
   ]
  },
  {
   "cell_type": "code",
   "execution_count": 47,
   "metadata": {},
   "outputs": [],
   "source": [
    "import sys\n",
    "sys.path.append(\"C:\\\\Users\\\\.pc\\\\Desktop\\\\Python-Prep\\\\M09_errorhandling\\\\herramientas.py\")"
   ]
  },
  {
   "cell_type": "code",
   "execution_count": 48,
   "metadata": {},
   "outputs": [],
   "source": [
    "import herramientas   as h "
   ]
  },
  {
   "cell_type": "code",
   "execution_count": 49,
   "metadata": {},
   "outputs": [
    {
     "ename": "ValueError",
     "evalue": "Se ha creado una lista vacía. Se esperaba una lista de núemeros enteros",
     "output_type": "error",
     "traceback": [
      "\u001b[1;31m---------------------------------------------------------------------------\u001b[0m",
      "\u001b[1;31mValueError\u001b[0m                                Traceback (most recent call last)",
      "Cell \u001b[1;32mIn[49], line 1\u001b[0m\n\u001b[1;32m----> 1\u001b[0m h1\u001b[38;5;241m=\u001b[39m\u001b[43mh\u001b[49m\u001b[38;5;241;43m.\u001b[39;49m\u001b[43mHerramientas\u001b[49m\u001b[43m(\u001b[49m\u001b[38;5;124;43m\"\u001b[39;49m\u001b[38;5;124;43mhola\u001b[39;49m\u001b[38;5;124;43m\"\u001b[39;49m\u001b[43m)\u001b[49m   \u001b[38;5;66;03m#arroja error\u001b[39;00m\n",
      "File \u001b[1;32mc:\\Users\\.pc\\Desktop\\Python-Prep\\M09_errorhandling\\herramientas.py:5\u001b[0m, in \u001b[0;36mHerramientas.__init__\u001b[1;34m(self, lista_numeros)\u001b[0m\n\u001b[0;32m      3\u001b[0m \u001b[38;5;28;01mif\u001b[39;00m (\u001b[38;5;28mtype\u001b[39m(lista_numeros) \u001b[38;5;241m!=\u001b[39m \u001b[38;5;28mlist\u001b[39m):\n\u001b[0;32m      4\u001b[0m     \u001b[38;5;28mself\u001b[39m\u001b[38;5;241m.\u001b[39mlista \u001b[38;5;241m=\u001b[39m []\n\u001b[1;32m----> 5\u001b[0m     \u001b[38;5;28;01mraise\u001b[39;00m \u001b[38;5;167;01mValueError\u001b[39;00m(\u001b[38;5;124m'\u001b[39m\u001b[38;5;124mSe ha creado una lista vacía. Se esperaba una lista de núemeros enteros\u001b[39m\u001b[38;5;124m'\u001b[39m)  \n\u001b[0;32m      6\u001b[0m \u001b[38;5;28;01melse\u001b[39;00m:\n\u001b[0;32m      7\u001b[0m     \u001b[38;5;28mself\u001b[39m\u001b[38;5;241m.\u001b[39mlista \u001b[38;5;241m=\u001b[39m lista_numeros\n",
      "\u001b[1;31mValueError\u001b[0m: Se ha creado una lista vacía. Se esperaba una lista de núemeros enteros"
     ]
    }
   ],
   "source": [
    "h1=h.Herramientas(\"hola\")   #arroja error"
   ]
  },
  {
   "cell_type": "code",
   "execution_count": null,
   "metadata": {},
   "outputs": [
    {
     "data": {
      "text/plain": [
       "[True, True]"
      ]
     },
     "execution_count": 351,
     "metadata": {},
     "output_type": "execute_result"
    }
   ],
   "source": [
    "h1.verifica_primo()"
   ]
  },
  {
   "cell_type": "markdown",
   "metadata": {},
   "source": [
    "ejercicio 2\n",
    "En la función que hace la conversión de grados, validar que los parámetros enviados sean los esperados, de no serlo, informar cuáles son los valores esperados."
   ]
  },
  {
   "cell_type": "code",
   "execution_count": null,
   "metadata": {},
   "outputs": [
    {
     "data": {
      "text/plain": [
       "<module 'herramientas' from 'c:\\\\Users\\\\.pc\\\\Desktop\\\\Python-Prep\\\\M09_errorhandling\\\\herramientas.py'>"
      ]
     },
     "execution_count": 21,
     "metadata": {},
     "output_type": "execute_result"
    }
   ],
   "source": [
    "import importlib  #se importa el módulo importlib, el cual proporciona funciones para recargar (reload) módulos previamente importados. \n",
    "importlib.reload(h)  # la función reload() de importlib recargar el módulo herramientas (previamente importado y asignado a un alias h)."
   ]
  },
  {
   "cell_type": "code",
   "execution_count": null,
   "metadata": {},
   "outputs": [],
   "source": [
    "h1=h.Herramientas([50,100])"
   ]
  },
  {
   "cell_type": "code",
   "execution_count": null,
   "metadata": {},
   "outputs": [
    {
     "name": "stdout",
     "output_type": "stream",
     "text": [
      "Los parametros esperados son: ['celsius', 'kelvin', 'farenheit']\n"
     ]
    },
    {
     "data": {
      "text/plain": [
       "[]"
      ]
     },
     "execution_count": 27,
     "metadata": {},
     "output_type": "execute_result"
    }
   ],
   "source": [
    "h1.conversion_grados(\"c\",\"f\")      #sino le doy las parametros requeridos me muestra error y me ayuda a identificar el nombre de los parametros que faltan o que se esperan"
   ]
  },
  {
   "cell_type": "code",
   "execution_count": null,
   "metadata": {},
   "outputs": [
    {
     "data": {
      "text/plain": [
       "[122.0, 212.0]"
      ]
     },
     "execution_count": 14,
     "metadata": {},
     "output_type": "execute_result"
    }
   ],
   "source": [
    "h1.conversion_grados(\"celsius\",\"farenheit\") "
   ]
  },
  {
   "cell_type": "markdown",
   "metadata": {},
   "source": [
    "EJERCICIO 3\n",
    "Importar el modulo \"unittest\" y crear los siguientes casos de pruebas sobre la clase utilizada en el punto 2\n",
    "Creacion del objeto incorrecta\n",
    "Creacion correcta del objeto\n",
    "Metodo valor_modal()"
   ]
  },
  {
   "cell_type": "code",
   "execution_count": null,
   "metadata": {},
   "outputs": [],
   "source": [
    "import unittest"
   ]
  },
  {
   "cell_type": "code",
   "execution_count": null,
   "metadata": {},
   "outputs": [],
   "source": [
    "class Probando1(unittest.TestCase):\n",
    "    def test_objeto1(self):\n",
    "        param=\"hola\"\n",
    "        self.assertRaises(ValueError,h.Herramientas,param)\n",
    "\n",
    "    def test_objeto2(self):\n",
    "        param=[1,2,2,5]\n",
    "        h1=h.Herramientas(param)\n",
    "        self.assertEqual(h1.lista,param)\n",
    "\n",
    "    def test_valor_modal(self):\n",
    "        lis=[1,2,1,3]\n",
    "        h1=h.Herramientas(lis)\n",
    "        moda,veces=h1.valor_modal(False)\n",
    "        moda=[moda]\n",
    "        moda.append(veces)\n",
    "        resultado=[1,2]\n",
    "        self.assertEqual(moda,resultado)"
   ]
  },
  {
   "cell_type": "code",
   "execution_count": null,
   "metadata": {},
   "outputs": [
    {
     "name": "stderr",
     "output_type": "stream",
     "text": [
      "test_objeto1 (__main__.Probando1.test_objeto1) ... ok\n",
      "test_objeto2 (__main__.Probando1.test_objeto2) ... ok\n",
      "test_valor_modal (__main__.Probando1.test_valor_modal) ... ok\n",
      "test_creacion_objeto_correcta (__main__.PruebasHerramientas.test_creacion_objeto_correcta) ... ok\n",
      "test_creacion_objeto_incorrecta (__main__.PruebasHerramientas.test_creacion_objeto_incorrecta) ... ok\n",
      "test_valor_modal_2 (__main__.PruebasHerramientas.test_valor_modal_2) ... ERROR\n",
      "\n",
      "======================================================================\n",
      "ERROR: test_valor_modal_2 (__main__.PruebasHerramientas.test_valor_modal_2)\n",
      "----------------------------------------------------------------------\n",
      "Traceback (most recent call last):\n",
      "  File \"C:\\Users\\.pc\\AppData\\Local\\Temp\\ipykernel_10396\\2013782836.py\", line 19, in test_valor_modal_2\n",
      "    modal = h1.valor_modal()  # Llama al método valor_modal para encontrar la moda de la lista\n",
      "            ^^^^^^^^^^^^^^^^\n",
      "TypeError: Herramientas.valor_modal() missing 1 required positional argument: 'menor'\n",
      "\n",
      "----------------------------------------------------------------------\n",
      "Ran 6 tests in 0.007s\n",
      "\n",
      "FAILED (errors=1)\n"
     ]
    },
    {
     "data": {
      "text/plain": [
       "<unittest.main.TestProgram at 0x1d75565dd90>"
      ]
     },
     "execution_count": 39,
     "metadata": {},
     "output_type": "execute_result"
    }
   ],
   "source": [
    "unittest.main(argv=[''], verbosity=2, exit=False)"
   ]
  },
  {
   "cell_type": "code",
   "execution_count": null,
   "metadata": {},
   "outputs": [],
   "source": [
    "import unittest\n",
    "\n",
    "class PruebasHerramientas(unittest.TestCase):\n",
    "    # Caso de prueba para la creación del objeto de forma incorrecta\n",
    "    def test_creacion_objeto_incorrecta(self):\n",
    "        with self.assertRaises(ValueError):  # Verifica si se lanza una excepción del tipo ValueError\n",
    "            h.Herramientas(None)  # Intenta crear el objeto con un argumento incorrecto\n",
    "\n",
    "    # Caso de prueba para la creación correcta del objeto\n",
    "    def test_creacion_objeto_correcta(self):\n",
    "        lista = [2, 4, 6]\n",
    "        h1 = h.Herramientas(lista)  # Crea el objeto correctamente\n",
    "        self.assertEqual(h1.lista, lista)  # Verifica que la lista del objeto sea la misma que la lista original\n",
    "\n",
    "    # Caso de prueba para el método valor_modal\n",
    "    def test_valor_modal_2(self):\n",
    "        lista = [2, 4, 4, 6, 6, 6]\n",
    "        h1 = h.Herramientas(lista)  # Crea el objeto con una lista con valores repetidos\n",
    "        modal = h1.valor_modal()  # Llama al método valor_modal para encontrar la moda de la lista\n",
    "        self.assertEqual(6, 3)  # Verifica que el valor modal sea 6\n",
    "\n"
   ]
  },
  {
   "cell_type": "code",
   "execution_count": null,
   "metadata": {},
   "outputs": [
    {
     "name": "stderr",
     "output_type": "stream",
     "text": [
      "test_objeto1 (__main__.Probando1.test_objeto1) ... ok\n",
      "test_objeto2 (__main__.Probando1.test_objeto2) ... ok\n",
      "test_valor_modal (__main__.Probando1.test_valor_modal) ... ok\n",
      "test_creacion_objeto_correcta (__main__.PruebasHerramientas.test_creacion_objeto_correcta) ... ok\n",
      "test_creacion_objeto_incorrecta (__main__.PruebasHerramientas.test_creacion_objeto_incorrecta) ... ok\n",
      "test_valor_modal_2 (__main__.PruebasHerramientas.test_valor_modal_2) ... ERROR\n",
      "\n",
      "======================================================================\n",
      "ERROR: test_valor_modal_2 (__main__.PruebasHerramientas.test_valor_modal_2)\n",
      "----------------------------------------------------------------------\n",
      "Traceback (most recent call last):\n",
      "  File \"C:\\Users\\.pc\\AppData\\Local\\Temp\\ipykernel_10396\\2013782836.py\", line 19, in test_valor_modal_2\n",
      "    modal = h1.valor_modal()  # Llama al método valor_modal para encontrar la moda de la lista\n",
      "            ^^^^^^^^^^^^^^^^\n",
      "TypeError: Herramientas.valor_modal() missing 1 required positional argument: 'menor'\n",
      "\n",
      "----------------------------------------------------------------------\n",
      "Ran 6 tests in 0.006s\n",
      "\n",
      "FAILED (errors=1)\n"
     ]
    }
   ],
   "source": [
    "# Ejecutar las pruebas\n",
    "if __name__ == '__main__':\n",
    "    unittest.main(argv=[''], verbosity=2, exit=False)"
   ]
  },
  {
   "cell_type": "markdown",
   "metadata": {},
   "source": [
    "ejercicio 4\n",
    "Probar una creación incorrecta y visualizar la salida del \"raise\""
   ]
  },
  {
   "cell_type": "code",
   "execution_count": 50,
   "metadata": {},
   "outputs": [
    {
     "ename": "ValueError",
     "evalue": "Se ha creado una lista vacía. Se esperaba una lista de núemeros enteros",
     "output_type": "error",
     "traceback": [
      "\u001b[1;31m---------------------------------------------------------------------------\u001b[0m",
      "\u001b[1;31mValueError\u001b[0m                                Traceback (most recent call last)",
      "Cell \u001b[1;32mIn[50], line 1\u001b[0m\n\u001b[1;32m----> 1\u001b[0m h1\u001b[38;5;241m=\u001b[39m\u001b[43mh\u001b[49m\u001b[38;5;241;43m.\u001b[39;49m\u001b[43mHerramientas\u001b[49m\u001b[43m(\u001b[49m\u001b[38;5;124;43m\"\u001b[39;49m\u001b[38;5;124;43mZZZ\u001b[39;49m\u001b[38;5;124;43m\"\u001b[39;49m\u001b[43m)\u001b[49m        \u001b[38;5;66;03m#Se ha creado una lista vacía. Se esperaba una lista de núemeros enteros\u001b[39;00m\n",
      "File \u001b[1;32mc:\\Users\\.pc\\Desktop\\Python-Prep\\M09_errorhandling\\herramientas.py:5\u001b[0m, in \u001b[0;36mHerramientas.__init__\u001b[1;34m(self, lista_numeros)\u001b[0m\n\u001b[0;32m      3\u001b[0m \u001b[38;5;28;01mif\u001b[39;00m (\u001b[38;5;28mtype\u001b[39m(lista_numeros) \u001b[38;5;241m!=\u001b[39m \u001b[38;5;28mlist\u001b[39m):\n\u001b[0;32m      4\u001b[0m     \u001b[38;5;28mself\u001b[39m\u001b[38;5;241m.\u001b[39mlista \u001b[38;5;241m=\u001b[39m []\n\u001b[1;32m----> 5\u001b[0m     \u001b[38;5;28;01mraise\u001b[39;00m \u001b[38;5;167;01mValueError\u001b[39;00m(\u001b[38;5;124m'\u001b[39m\u001b[38;5;124mSe ha creado una lista vacía. Se esperaba una lista de núemeros enteros\u001b[39m\u001b[38;5;124m'\u001b[39m)  \n\u001b[0;32m      6\u001b[0m \u001b[38;5;28;01melse\u001b[39;00m:\n\u001b[0;32m      7\u001b[0m     \u001b[38;5;28mself\u001b[39m\u001b[38;5;241m.\u001b[39mlista \u001b[38;5;241m=\u001b[39m lista_numeros\n",
      "\u001b[1;31mValueError\u001b[0m: Se ha creado una lista vacía. Se esperaba una lista de núemeros enteros"
     ]
    }
   ],
   "source": [
    "h1=h.Herramientas(\"ZZZ\")        #Se ha creado una lista vacía. Se esperaba una lista de núemeros enteros"
   ]
  },
  {
   "cell_type": "code",
   "execution_count": 51,
   "metadata": {},
   "outputs": [
    {
     "name": "stdout",
     "output_type": "stream",
     "text": [
      "Los parametros esperados son: ['celsius', 'kelvin', 'farenheit']\n"
     ]
    },
    {
     "data": {
      "text/plain": [
       "[]"
      ]
     },
     "execution_count": 51,
     "metadata": {},
     "output_type": "execute_result"
    }
   ],
   "source": [
    "h1.conversion_grados(5,10)"
   ]
  },
  {
   "cell_type": "markdown",
   "metadata": {},
   "source": [
    "EJERCICIO 6\n",
    "Agregar casos de pruebas para el método verifica_primos() realizando el cambio en la clase, para que devuelva una lista de True o False en función de que el elemento en la posisicón sea o no primo"
   ]
  },
  {
   "cell_type": "code",
   "execution_count": 52,
   "metadata": {},
   "outputs": [],
   "source": [
    "import unittest\n",
    "\n",
    "class Probando2(unittest.TestCase):\n",
    "\n",
    "    def test_verifica_primos(self):\n",
    "        lis = [2,3,8,10,13]\n",
    "        h1 = h.Herramientas(lis)\n",
    "        primos = h1.verifica_primo()\n",
    "        primos_esperado = [True, True, False, False, True]\n",
    "        self.assertEqual(primos, primos_esperado)"
   ]
  },
  {
   "cell_type": "code",
   "execution_count": 53,
   "metadata": {},
   "outputs": [
    {
     "data": {
      "text/plain": [
       "<module 'herramientas' from 'c:\\\\Users\\\\.pc\\\\Desktop\\\\Python-Prep\\\\M09_errorhandling\\\\herramientas.py'>"
      ]
     },
     "execution_count": 53,
     "metadata": {},
     "output_type": "execute_result"
    }
   ],
   "source": [
    "importlib.reload(h)"
   ]
  },
  {
   "cell_type": "code",
   "execution_count": 54,
   "metadata": {},
   "outputs": [
    {
     "name": "stderr",
     "output_type": "stream",
     "text": [
      "test_objeto1 (__main__.Probando1.test_objeto1) ... ok\n",
      "test_objeto2 (__main__.Probando1.test_objeto2) ... ok\n",
      "test_valor_modal (__main__.Probando1.test_valor_modal) ... ok\n",
      "test_verifica_primos (__main__.Probando2.test_verifica_primos) ... ok\n",
      "test_creacion_objeto_correcta (__main__.PruebasHerramientas.test_creacion_objeto_correcta) ... ok\n",
      "test_creacion_objeto_incorrecta (__main__.PruebasHerramientas.test_creacion_objeto_incorrecta) ... ok\n",
      "test_valor_modal_2 (__main__.PruebasHerramientas.test_valor_modal_2) ... ERROR\n",
      "\n",
      "======================================================================\n",
      "ERROR: test_valor_modal_2 (__main__.PruebasHerramientas.test_valor_modal_2)\n",
      "----------------------------------------------------------------------\n",
      "Traceback (most recent call last):\n",
      "  File \"C:\\Users\\.pc\\AppData\\Local\\Temp\\ipykernel_10396\\2013782836.py\", line 19, in test_valor_modal_2\n",
      "    modal = h1.valor_modal()  # Llama al método valor_modal para encontrar la moda de la lista\n",
      "            ^^^^^^^^^^^^^^^^\n",
      "TypeError: Herramientas.valor_modal() missing 1 required positional argument: 'menor'\n",
      "\n",
      "----------------------------------------------------------------------\n",
      "Ran 7 tests in 0.011s\n",
      "\n",
      "FAILED (errors=1)\n"
     ]
    },
    {
     "data": {
      "text/plain": [
       "<unittest.main.TestProgram at 0x1d755660740>"
      ]
     },
     "execution_count": 54,
     "metadata": {},
     "output_type": "execute_result"
    }
   ],
   "source": [
    "# Ejecutar las pruebas\n",
    "unittest.main(argv=[''], verbosity=2, exit=False)"
   ]
  },
  {
   "cell_type": "markdown",
   "metadata": {},
   "source": [
    "EJERCICIO 7\n",
    "Agregar casos de pruebas para el método conversion_grados()"
   ]
  },
  {
   "cell_type": "code",
   "execution_count": 55,
   "metadata": {},
   "outputs": [],
   "source": [
    "class probando3 (unittest.TestCase):\n",
    "\n",
    "    def test_verifica_conversion_grados(self):\n",
    "        lis=[50,100]\n",
    "        h1=h.Herramientas(lis)\n",
    "        grados=h1.conversion_grados(\"celsius\",\"kelvin\")\n",
    "        grados_esperados=[323.15,373.15]\n",
    "        self.assertEqual(grados,grados_esperados)"
   ]
  },
  {
   "cell_type": "code",
   "execution_count": 56,
   "metadata": {},
   "outputs": [
    {
     "data": {
      "text/plain": [
       "<module 'herramientas' from 'c:\\\\Users\\\\.pc\\\\Desktop\\\\Python-Prep\\\\M09_errorhandling\\\\herramientas.py'>"
      ]
     },
     "execution_count": 56,
     "metadata": {},
     "output_type": "execute_result"
    }
   ],
   "source": [
    "importlib.reload(h)"
   ]
  },
  {
   "cell_type": "code",
   "execution_count": 57,
   "metadata": {},
   "outputs": [
    {
     "name": "stderr",
     "output_type": "stream",
     "text": [
      "test_objeto1 (__main__.Probando1.test_objeto1) ... ok\n",
      "test_objeto2 (__main__.Probando1.test_objeto2) ... ok\n",
      "test_valor_modal (__main__.Probando1.test_valor_modal) ... ok\n",
      "test_verifica_primos (__main__.Probando2.test_verifica_primos) ... ok\n",
      "test_creacion_objeto_correcta (__main__.PruebasHerramientas.test_creacion_objeto_correcta) ... ok\n",
      "test_creacion_objeto_incorrecta (__main__.PruebasHerramientas.test_creacion_objeto_incorrecta) ... ok\n",
      "test_valor_modal_2 (__main__.PruebasHerramientas.test_valor_modal_2) ... ERROR\n",
      "test_verifica_conversion_grados (__main__.probando3.test_verifica_conversion_grados) ... ok\n",
      "\n",
      "======================================================================\n",
      "ERROR: test_valor_modal_2 (__main__.PruebasHerramientas.test_valor_modal_2)\n",
      "----------------------------------------------------------------------\n",
      "Traceback (most recent call last):\n",
      "  File \"C:\\Users\\.pc\\AppData\\Local\\Temp\\ipykernel_10396\\2013782836.py\", line 19, in test_valor_modal_2\n",
      "    modal = h1.valor_modal()  # Llama al método valor_modal para encontrar la moda de la lista\n",
      "            ^^^^^^^^^^^^^^^^\n",
      "TypeError: Herramientas.valor_modal() missing 1 required positional argument: 'menor'\n",
      "\n",
      "----------------------------------------------------------------------\n",
      "Ran 8 tests in 0.013s\n",
      "\n",
      "FAILED (errors=1)\n"
     ]
    },
    {
     "data": {
      "text/plain": [
       "<unittest.main.TestProgram at 0x1d75565fbc0>"
      ]
     },
     "execution_count": 57,
     "metadata": {},
     "output_type": "execute_result"
    }
   ],
   "source": [
    "unittest.main(argv=[\"\"], verbosity=2, exit=False)\n"
   ]
  },
  {
   "cell_type": "markdown",
   "metadata": {},
   "source": [
    "ejercicio 8\n",
    "Agregar casos de pruebas para el método factorial()"
   ]
  },
  {
   "cell_type": "markdown",
   "metadata": {},
   "source": [
    "EJERCICIO 8\n",
    "Agregar casos de pruebas para el método factorial()"
   ]
  },
  {
   "cell_type": "code",
   "execution_count": null,
   "metadata": {},
   "outputs": [
    {
     "data": {
      "text/plain": [
       "<module 'herramientas' from 'c:\\\\Users\\\\.pc\\\\Desktop\\\\Python-Prep\\\\M09_errorhandling\\\\herramientas.py'>"
      ]
     },
     "execution_count": 287,
     "metadata": {},
     "output_type": "execute_result"
    }
   ],
   "source": [
    "import importlib  #se importa el módulo importlib, el cual proporciona funciones para recargar (reload) módulos previamente importados. \n",
    "importlib.reload(h)  # la función reload() de importlib recargar el módulo herramientas (previamente importado y asignado a un alias h)."
   ]
  },
  {
   "cell_type": "code",
   "execution_count": null,
   "metadata": {},
   "outputs": [],
   "source": [
    "class ProbandoMiClase4(unittest.TestCase):\n",
    "\n",
    "    def test_factorial(self):\n",
    "        lis = [2,3,8,10,13]\n",
    "        h1 = h.Herramientas(lis)\n",
    "        factorial = h1.factorial()\n",
    "        factorial_esperado = [2, 6, 40320, 3628800, 6227020800]\n",
    "        self.assertEqual(factorial, factorial_esperado)"
   ]
  },
  {
   "cell_type": "code",
   "execution_count": 58,
   "metadata": {},
   "outputs": [
    {
     "name": "stderr",
     "output_type": "stream",
     "text": [
      "test_objeto1 (__main__.Probando1.test_objeto1) ... ok\n",
      "test_objeto2 (__main__.Probando1.test_objeto2) ... ok\n",
      "test_valor_modal (__main__.Probando1.test_valor_modal) ... ok\n",
      "test_verifica_primos (__main__.Probando2.test_verifica_primos) ... ok\n",
      "test_creacion_objeto_correcta (__main__.PruebasHerramientas.test_creacion_objeto_correcta) ... ok\n",
      "test_creacion_objeto_incorrecta (__main__.PruebasHerramientas.test_creacion_objeto_incorrecta) ... ok\n",
      "test_valor_modal_2 (__main__.PruebasHerramientas.test_valor_modal_2) ... ERROR\n",
      "test_verifica_conversion_grados (__main__.probando3.test_verifica_conversion_grados) ... ok\n",
      "\n",
      "======================================================================\n",
      "ERROR: test_valor_modal_2 (__main__.PruebasHerramientas.test_valor_modal_2)\n",
      "----------------------------------------------------------------------\n",
      "Traceback (most recent call last):\n",
      "  File \"C:\\Users\\.pc\\AppData\\Local\\Temp\\ipykernel_10396\\2013782836.py\", line 19, in test_valor_modal_2\n",
      "    modal = h1.valor_modal()  # Llama al método valor_modal para encontrar la moda de la lista\n",
      "            ^^^^^^^^^^^^^^^^\n",
      "TypeError: Herramientas.valor_modal() missing 1 required positional argument: 'menor'\n",
      "\n",
      "----------------------------------------------------------------------\n",
      "Ran 8 tests in 0.013s\n",
      "\n",
      "FAILED (errors=1)\n"
     ]
    },
    {
     "data": {
      "text/plain": [
       "<unittest.main.TestProgram at 0x1d7556abf80>"
      ]
     },
     "execution_count": 58,
     "metadata": {},
     "output_type": "execute_result"
    }
   ],
   "source": [
    "unittest.main(argv=[''], verbosity=2, exit=False)"
   ]
  }
 ],
 "metadata": {
  "kernelspec": {
   "display_name": "Python 3",
   "language": "python",
   "name": "python3"
  },
  "language_info": {
   "codemirror_mode": {
    "name": "ipython",
    "version": 3
   },
   "file_extension": ".py",
   "mimetype": "text/x-python",
   "name": "python",
   "nbconvert_exporter": "python",
   "pygments_lexer": "ipython3",
   "version": "3.12.2"
  }
 },
 "nbformat": 4,
 "nbformat_minor": 2
}
