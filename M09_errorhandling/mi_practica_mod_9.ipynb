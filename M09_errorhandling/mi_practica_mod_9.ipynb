{
 "cells": [
  {
   "cell_type": "markdown",
   "metadata": {},
   "source": [
    "    MANEJO DE ERRORES\n",
    "\n",
    "\n",
    "PRUEBA DE CAJA NEGRA\n",
    "Las pruebas de caja negra son un enfoque de pruebas en el que se evalúa el funcionamiento de un sistema sin conocer su implementación interna. En otras palabras, se prueba el sistema desde una perspectiva externa, centrándose únicamente en las entradas y salidas esperadas, sin tener conocimiento detallado de cómo se procesan los datos o cómo se realizan las operaciones internas.\n",
    "\n",
    "En Python existe la posibilidad de realizar estas pruebas gracias a la librería unittest. La librería unittest de Python es una herramienta que se utiliza para realizar pruebas unitarias, donde el enfoque está en evaluar el comportamiento de unidades de código de forma aislada, como funciones o métodos, para verificar que funcionan correctamente.\n",
    "¡Puedes volver a ver el video para recordar el procedimiento!"
   ]
  },
  {
   "cell_type": "markdown",
   "metadata": {},
   "source": [
    "EJERCICIO 1\n",
    "class CajaNegraTest(unittest.TestCase):\n",
    "\n",
    "    def test_suma_dos_positivos(self):\n",
    "        num_1 = 10\n",
    "        num_2 = 5\n",
    "\n",
    "        resultado = suma(num_1, num_2)\n",
    "\n",
    "        self.assertEqual(resultado, 15)\n",
    "\n",
    "    def test_suma_dos_negativos(self):\n",
    "        num_1 = -10\n",
    "        num_2 = -7\n",
    "\n",
    "        resultado = suma(num_1, num_2)\n",
    "\n",
    "        self.assertEqual(resultado, -17)"
   ]
  },
  {
   "cell_type": "code",
   "execution_count": 31,
   "metadata": {},
   "outputs": [],
   "source": [
    "import unittest"
   ]
  },
  {
   "cell_type": "code",
   "execution_count": 32,
   "metadata": {},
   "outputs": [],
   "source": [
    "def suma(num_1,num_2):\n",
    "    return num_1+num_2"
   ]
  },
  {
   "cell_type": "code",
   "execution_count": 38,
   "metadata": {},
   "outputs": [],
   "source": [
    "class CajaNegraTest(unittest.TestCase):\n",
    "    def test_suma_dos_positivos(self):\n",
    "        num_1=10\n",
    "        num_2= 5\n",
    "\n",
    "        resultado=suma(num_1,num_2)\n",
    "        self.assertEqual(resultado,15)\n",
    "\n",
    "    def test_suma_dos_negativos(self):\n",
    "        num_1=-10\n",
    "        num_2=-7\n",
    "\n",
    "        resultado=suma(num_1,num_2)\n",
    "        self.assertEqual(resultado,-17)\n"
   ]
  },
  {
   "cell_type": "markdown",
   "metadata": {},
   "source": [
    "PRUEBAS DE CAJA DE CRISTAL\n",
    "Las pruebas de caja de cristal están diseñadas para probar todas las posibles vías de ejecución de un programa, incluyendo todas las ramas de decisión, bucles, recursiones, y cualquier otra estructura que pueda influir en el flujo del programa.\n",
    "\n",
    "Para realizar estas pruebas, se asume que se comprende el funcionamiento del programa en detalle, lo que permite una cobertura exhaustiva de todas las partes del código.\n",
    "\n",
    "Las pruebas de caja de cristal son especialmente útiles cuando se ha detectado un error en el programa, ya que su enfoque exhaustivo puede ayudar a identificar la causa subyacente del error."
   ]
  },
  {
   "cell_type": "markdown",
   "metadata": {},
   "source": [
    "EJERCICIO 1\n",
    "lass PruebaDeCristalTest(unittest.TestCase):\n",
    "\n",
    "    def test_es_mayor_de_edad(self):\n",
    "        edad = 20\n",
    "\n",
    "        resultado = es_mayor_de_edad(edad)\n",
    "\n",
    "        self.assertEqual(resultado, True)\n",
    "\n",
    "    def test_es_menor_de_edad(self):\n",
    "        edad = 15\n",
    "\n",
    "        resultado = es_mayor_de_edad(edad)\n",
    "\n",
    "        self.assertEqual(resultado, False"
   ]
  },
  {
   "cell_type": "code",
   "execution_count": null,
   "metadata": {},
   "outputs": [],
   "source": [
    "import unittest"
   ]
  },
  {
   "cell_type": "code",
   "execution_count": null,
   "metadata": {},
   "outputs": [],
   "source": [
    "def es_mayor_de_edad(edad):\n",
    "    if edad>=18:\n",
    "        return True\n",
    "    else:\n",
    "        return False"
   ]
  },
  {
   "cell_type": "code",
   "execution_count": null,
   "metadata": {},
   "outputs": [],
   "source": [
    "class PruebaDeCristalTest(unittest.TestCase):\n",
    "\n",
    "    def test_es_mayor_de_edad(self):\n",
    "        edad = 20\n",
    "\n",
    "        resultado = es_mayor_de_edad(20)\n",
    "\n",
    "        self.assertEqual(resultado, True)\n",
    "\n",
    "    def test_es_menor_de_edad(self):\n",
    "        edad = 15\n",
    "\n",
    "        resultado = es_mayor_de_edad(edad)\n",
    "\n",
    "        self.assertEqual(resultado, False)\n"
   ]
  },
  {
   "cell_type": "code",
   "execution_count": null,
   "metadata": {},
   "outputs": [
    {
     "name": "stderr",
     "output_type": "stream",
     "text": [
      "test_es_mayor_de_edad (__main__.PruebaDeCristalTest.test_es_mayor_de_edad) ... ok\n",
      "test_es_menor_de_edad (__main__.PruebaDeCristalTest.test_es_menor_de_edad) ... ok\n",
      "\n",
      "----------------------------------------------------------------------\n",
      "Ran 2 tests in 0.002s\n",
      "\n",
      "OK\n"
     ]
    },
    {
     "data": {
      "text/plain": [
       "<unittest.main.TestProgram at 0x1ebaa385970>"
      ]
     },
     "execution_count": 75,
     "metadata": {},
     "output_type": "execute_result"
    }
   ],
   "source": [
    "unittest.main(argv=[\"\"],verbosity=2, exit=False)"
   ]
  },
  {
   "cell_type": "markdown",
   "metadata": {},
   "source": [
    "DEBUGGING\n",
    "La palabra \"debugging\" se refiere al proceso de encontrar y corregir errores en el código de programación. La palabra \"debug\" en inglés significa \"depurar\" o \"eliminar errores\".\n",
    "\n",
    "Debugging es una palabra curiosa, te cuento de donde proviene: en el año 1947 Grace Hopper, una pionera en la informática tenía un error en un enorme computador llamado Mark ll, y encontró que el problema estaba causado por una polilla, un “bicho”, en inglés, \"bug\", que había quedado atrapada en un relé, que es un dispositivo eléctrico que se utiliza para controlar la apertura y cierre de circuitos eléctricos. Desde entonces, el término \"debugging\" ha sido utilizado para referirse a la eliminación de errores en el código de programación.\n",
    "\n",
    "\n",
    "Manejo de excepciones\n",
    "\n",
    ". Las excepciones de Python normalmente se relacionan con errores de semántica. Nosotros también podemos crear nuestras propias excepciones, ya que cuando una excepción no se maneja (unhandled exception), el programa termina en error.\n",
    "\n",
    "Las excepciones se manejan con los keywords: try, except, finally . Se pueden utilizar también para ramificar programas."
   ]
  },
  {
   "cell_type": "markdown",
   "metadata": {},
   "source": [
    "EJERCICIO 1\n",
    "def multiplica_por_dos(lista):\n",
    "    lista_multiplicada= []\n",
    "    for num in lista:\n",
    "        lista_multiplicada.append(num * 2)\n",
    "    return lista_multiplicada"
   ]
  },
  {
   "cell_type": "code",
   "execution_count": null,
   "metadata": {},
   "outputs": [],
   "source": [
    "def multiplica_por_dos(lista):\n",
    "    leista_multiplicada=[]\n",
    "    for num in lista:\n",
    "        lista_multiplicada.append(num*2)\n",
    "    return lista_multiplicada\n"
   ]
  },
  {
   "cell_type": "code",
   "execution_count": null,
   "metadata": {},
   "outputs": [
    {
     "name": "stdout",
     "output_type": "stream",
     "text": [
      "[2, 4, 6, 8, 10, 12, 14, 16, 18, 38]\n"
     ]
    }
   ],
   "source": [
    "numeros=[1,2,3,4,5,6,7,8,9,19]\n",
    "resultado=multiplica_por_dos(numeros)\n",
    "print(resultado)"
   ]
  },
  {
   "cell_type": "code",
   "execution_count": null,
   "metadata": {},
   "outputs": [
    {
     "name": "stdout",
     "output_type": "stream",
     "text": [
      "[2, 4, 6, 8, 10, 12, 14, 16, 18, 20]\n"
     ]
    }
   ],
   "source": [
    "#LA FUNCION ANTERIOR EXPLICADA PASO A PASO\n",
    "\n",
    "def multiplica_por_dos(lista):\n",
    "    # Creamos una lista vacía para almacenar los elementos multiplicados por dos\n",
    "    lista_multiplicada = []\n",
    "    \n",
    "    # Recorremos cada elemento de la lista que se pasa como argumento a la función\n",
    "    for num in lista:\n",
    "        # Multiplicamos cada elemento por dos y lo agregamos a la lista lista_multiplicada\n",
    "        lista_multiplicada.append(num * 2)\n",
    "    \n",
    "    # Devolvemos la lista que contiene los elementos multiplicados por dos\n",
    "    return lista_multiplicada\n",
    "\n",
    "# Creamos una lista de números\n",
    "numeros = [1, 2, 3, 4, 5, 6, 7, 8, 9, 10]\n",
    "\n",
    "# Llamamos a la función multiplica_por_dos con la lista de números como argumento\n",
    "resultado = multiplica_por_dos(numeros)\n",
    "\n",
    "# Imprimimos el resultado de la función, que es la lista de números multiplicados por dos\n",
    "print(resultado)"
   ]
  },
  {
   "cell_type": "markdown",
   "metadata": {},
   "source": [
    "EJERCICIO 2\n",
    "def divide_elementos_de_lista(lista, divisor):\n",
    "    '''\n",
    "    Cada elemento de una lista es dividida por un divisor definido.\n",
    "    En caso de error de tipo ZeroDivisionError que\n",
    "    significa error al dividir en cero\n",
    "    la función devuelve la lista inicial\n",
    "    '''\n",
    "\n",
    "    try:\n",
    "        return [i / divisor for i in lista]\n",
    "\n",
    "    except ZeroDivisionError as e:\n",
    "        print(e)\n",
    "        return lista"
   ]
  },
  {
   "cell_type": "code",
   "execution_count": null,
   "metadata": {},
   "outputs": [],
   "source": [
    "def divide_elementos_de_la_lista(lista,divisor):\n",
    "    '''\n",
    "    Cada elemento de una lista es dividida por un divisor definido.\n",
    "    En caso de error de tipo ZeroDivisionError que\n",
    "    significa error al dividir en cero\n",
    "    la función devuelve la lista inicial\n",
    "    ''' \n",
    "    try:\n",
    "        return [i/divisor for i in lista]\n",
    "    except ZeroDivisionError as e:\n",
    "        print(e)\n",
    "        return lista"
   ]
  },
  {
   "cell_type": "code",
   "execution_count": null,
   "metadata": {},
   "outputs": [
    {
     "name": "stdout",
     "output_type": "stream",
     "text": [
      "division by zero\n",
      "[0, 1, 2, 3, 4, 5, 6, 7, 8, 9]\n"
     ]
    }
   ],
   "source": [
    "lista=list(range(10))\n",
    "divisor=0\n",
    "print (divide_elementos_de_la_lista(lista,divisor))"
   ]
  },
  {
   "cell_type": "markdown",
   "metadata": {},
   "source": [
    "EXEPCIONES, CONTROL DE FLUJO Y AFIRMACIONES\n",
    "\n",
    "en Python, las excepciones son eventos que ocurren durante la ejecución de un programa y que interrumpen su flujo normal. Cuando una situación excepcional se produce, se lanza una excepción, lo que permite al programador manejar y controlar el error de manera adecuada.\n",
    "\n",
    "Las excepciones pueden ser causadas por diferentes factores, como errores de sintaxis, intentos de acceder a elementos inexistentes, divisiones entre cero o cualquier otra condición imprevista. Cuando se produce una excepción, el programa se detiene y busca un bloque de código que pueda manejarla.\n",
    "\n",
    "\n"
   ]
  },
  {
   "cell_type": "markdown",
   "metadata": {},
   "source": [
    "EJERCICIO 1\n",
    "def dividir(num1, num2):\n",
    "    try:\n",
    "        resultado = num1 / num2\n",
    "        return resultado\n",
    "    except ZeroDivisionError:\n",
    "        print(\"No se puede dividir por cero.\")\n",
    "        return None"
   ]
  },
  {
   "cell_type": "code",
   "execution_count": null,
   "metadata": {},
   "outputs": [],
   "source": [
    "# Definimos una función llamada dividir que toma dos números como argumentos: num1 y num2\n",
    "def dividir(num1, num2):\n",
    "    # Comenzamos un bloque try-except para manejar posibles errores durante la división\n",
    "    try:\n",
    "        # Intentamos realizar la división de num1 entre num2 y almacenamos el resultado en la variable resultado\n",
    "        resultado = num1 / num2\n",
    "        # Devolvemos el resultado de la división\n",
    "        return resultado\n",
    "    # Si se produce un error de división por cero (ZeroDivisionError), se ejecutará este bloque de código\n",
    "    except ZeroDivisionError:\n",
    "        # Imprimimos un mensaje indicando que no se puede dividir por cero\n",
    "        print(\"No se puede dividir por cero\")\n",
    "        # Devolvemos None para indicar que no se pudo realizar la operación de división\n",
    "        return None"
   ]
  },
  {
   "cell_type": "code",
   "execution_count": null,
   "metadata": {},
   "outputs": [
    {
     "name": "stdout",
     "output_type": "stream",
     "text": [
      "no se puede dividir por cero\n"
     ]
    }
   ],
   "source": [
    "dividir (7,0)\n"
   ]
  },
  {
   "cell_type": "markdown",
   "metadata": {},
   "source": [
    "ejercicio 2\n",
    "try:\n",
    "    with open(\"archivo.txt\", \"r\") as f:\n",
    "        contenido = f.read()\n",
    "except FileNotFoundError:\n",
    "    print(\"El archivo no existe.\")"
   ]
  },
  {
   "cell_type": "code",
   "execution_count": null,
   "metadata": {},
   "outputs": [
    {
     "name": "stdout",
     "output_type": "stream",
     "text": [
      "El archivo no existe\n"
     ]
    }
   ],
   "source": [
    "# Intentamos abrir un archivo llamado \"archivo.txt\" en modo de lectura (\"r\")\n",
    "try:\n",
    "    # Usamos la declaración 'with' para abrir el archivo de manera segura\n",
    "    # El archivo se abrirá y se asignará a la variable 'f'\n",
    "    with open(\"archivo.txt\", \"r\") as f:\n",
    "        # Leemos el contenido del archivo y lo asignamos a la variable 'contenido'\n",
    "        contenido = f.read()\n",
    "# Si se produce un error de tipo FileNotFoundError (archivo no encontrado), se ejecutará este bloque de código\n",
    "except FileNotFoundError:\n",
    "    # Imprimimos un mensaje indicando que el archivo no existe\n",
    "    print(\"El archivo no existe\")"
   ]
  },
  {
   "cell_type": "markdown",
   "metadata": {},
   "source": [
    "ejercici0 3\n",
    "def primera_letra(lista_de_palabras):\n",
    "  primeras_letras = []\n",
    "\n",
    "  for palabra in lista_de_palabras:\n",
    "    assert type(palabra) == str, f'{palabra} no es str'\n",
    "    assert len(palabra) > 0, 'No se permiten str vacíos'\n",
    "\n",
    "    primeras_letras.append(palabra[0])\n",
    "  return primeras_letras"
   ]
  },
  {
   "cell_type": "code",
   "execution_count": null,
   "metadata": {},
   "outputs": [],
   "source": [
    "def primera_letra(lista_de_palabras):\n",
    "    primeras_letras=[]\n",
    "\n",
    "    for palabra in lista:\n",
    "        assert type(palabra)==str, f'{palabra} no es str'\n",
    "        assert len(palabra)>0, \"no se permiten vacios\"\n",
    "\n",
    "        primeras_letras.append(palabra[0])\n",
    "    return primeras_letras\n"
   ]
  },
  {
   "cell_type": "code",
   "execution_count": null,
   "metadata": {},
   "outputs": [
    {
     "ename": "AssertionError",
     "evalue": "['hola', 'mundo', 30] no es str",
     "output_type": "error",
     "traceback": [
      "\u001b[1;31m---------------------------------------------------------------------------\u001b[0m",
      "\u001b[1;31mAssertionError\u001b[0m                            Traceback (most recent call last)",
      "Cell \u001b[1;32mIn[94], line 2\u001b[0m\n\u001b[0;32m      1\u001b[0m palabras\u001b[38;5;241m=\u001b[39m[\u001b[38;5;124m\"\u001b[39m\u001b[38;5;124mhola\u001b[39m\u001b[38;5;124m\"\u001b[39m, \u001b[38;5;124m\"\u001b[39m\u001b[38;5;124mmundo\u001b[39m\u001b[38;5;124m\"\u001b[39m, \u001b[38;5;241m30\u001b[39m]\n\u001b[1;32m----> 2\u001b[0m \u001b[43mprimera_letra\u001b[49m\u001b[43m(\u001b[49m\u001b[43mpalabras\u001b[49m\u001b[43m)\u001b[49m\n",
      "Cell \u001b[1;32mIn[92], line 5\u001b[0m, in \u001b[0;36mprimera_letra\u001b[1;34m(lista_de_palabras)\u001b[0m\n\u001b[0;32m      2\u001b[0m primera_letra\u001b[38;5;241m=\u001b[39m[]\n\u001b[0;32m      4\u001b[0m \u001b[38;5;28;01mfor\u001b[39;00m palabra \u001b[38;5;129;01min\u001b[39;00m lista:\n\u001b[1;32m----> 5\u001b[0m     \u001b[38;5;28;01massert\u001b[39;00m \u001b[38;5;28mtype\u001b[39m(palabra)\u001b[38;5;241m==\u001b[39m\u001b[38;5;28mstr\u001b[39m, \u001b[38;5;124mf\u001b[39m\u001b[38;5;124m'\u001b[39m\u001b[38;5;132;01m{\u001b[39;00mpalabras\u001b[38;5;132;01m}\u001b[39;00m\u001b[38;5;124m no es str\u001b[39m\u001b[38;5;124m'\u001b[39m\n\u001b[0;32m      6\u001b[0m     \u001b[38;5;28;01massert\u001b[39;00m \u001b[38;5;28mlen\u001b[39m(palabra)\u001b[38;5;241m>\u001b[39m\u001b[38;5;241m0\u001b[39m, \u001b[38;5;124m\"\u001b[39m\u001b[38;5;124mno se permiten vacios\u001b[39m\u001b[38;5;124m\"\u001b[39m\n\u001b[0;32m      8\u001b[0m     primera_letra\u001b[38;5;241m.\u001b[39mappend(palabra[\u001b[38;5;241m0\u001b[39m])\n",
      "\u001b[1;31mAssertionError\u001b[0m: ['hola', 'mundo', 30] no es str"
     ]
    }
   ],
   "source": [
    "palabras=[\"hola\", \"mundo\", 30]\n",
    "primera_letra(palabras)"
   ]
  }
 ],
 "metadata": {
  "kernelspec": {
   "display_name": "Python 3",
   "language": "python",
   "name": "python3"
  },
  "language_info": {
   "codemirror_mode": {
    "name": "ipython",
    "version": 3
   },
   "file_extension": ".py",
   "mimetype": "text/x-python",
   "name": "python",
   "nbconvert_exporter": "python",
   "pygments_lexer": "ipython3",
   "version": "3.12.2"
  }
 },
 "nbformat": 4,
 "nbformat_minor": 2
}
