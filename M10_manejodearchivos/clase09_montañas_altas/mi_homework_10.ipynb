{
 "cells": [
  {
   "cell_type": "markdown",
   "metadata": {},
   "source": [
    "ejercicio 1\n",
    "Crear un script con el nombre \"clase09_ej1.py\" que reciba 3 parametros a elección, verificando que sean exactamente esa cantidad, y muestre como salida los parámetros recibidos"
   ]
  },
  {
   "cell_type": "code",
   "execution_count": 73,
   "metadata": {},
   "outputs": [],
   "source": [
    "import sys\n",
    "\n",
    "def main():                               \n",
    "    if len(sys.argv) !=4:             \n",
    "            return  \n",
    "\n",
    "\n",
    "    parametro1=sys.argv[1]\n",
    "    parametro2=sys.argv[2]\n",
    "    parametro3=sys.argv[3]             \n",
    "\n",
    "\n",
    "    \n",
    "    print(\"Parámetro 1:\", parametro1)\n",
    "    print(\"Parámetro 2:\", parametro2)\n",
    "    print(\"Parámetro 3:\", parametro3)"
   ]
  },
  {
   "cell_type": "markdown",
   "metadata": {},
   "source": [
    "ejercicio 2\n",
    "Crear un script con el nombre \"clase09_ej2.py2\" que reciba como un valor de temperatura en grados centígrados, un valor de humedad y por último si llovio (Con True o False). Y que cada vez que sea invocado, cargue en el archivo provisto \"clase09_ej2.csv\" una marca de tiempo y esa información.\n",
    "Para trabajar con tipos de datos relacionados con la medición del tiempo, como ser fechas, horarios o marcas de tiempo se puede utilizar la clase datetime"
   ]
  },
  {
   "cell_type": "code",
   "execution_count": 105,
   "metadata": {},
   "outputs": [],
   "source": [
    "import sys\n",
    "registrar_datos(333, 333, True)\n",
    "\n"
   ]
  },
  {
   "cell_type": "code",
   "execution_count": 102,
   "metadata": {},
   "outputs": [],
   "source": [
    "# Ejemplo de uso del script\n",
    "temperatura = 0 # Valor de temperatura en grados centígrados\n",
    "humedad = 0  # Valor de humedad\n",
    "llovio = True  # Valor booleano que indica si llovió (True) o no (False)\n",
    "\n",
    "# Llamamos a la función para registrar los datos en el archivo CSV\n",
    "registrar_datos(temperatura, humedad, llovio)"
   ]
  },
  {
   "cell_type": "code",
   "execution_count": null,
   "metadata": {},
   "outputs": [],
   "source": [
    "import datetime\n",
    "x = datetime.datetime.now()\n",
    "print(\"Ahora =\",x)\n",
    "x = datetime.datetime(2020, 5, 10)\n",
    "print(\"Fecha fija =\",x)\n",
    "Ahora = 2022-02-04 16:37:10.072897\n",
    "Fecha fija = 2020-05-10 00:00:00\n",
    "fecha_hora = '2022-05-10 12:30:00'\n",
    "objeto_datetime = datetime.datetime.strptime(fecha_hora, '%Y-%m-%d %H:%M:%S')\n",
    "print(\"objeto datetime =\", objeto_datetime)\n",
    "marca_de_tiempo = datetime.datetime.timestamp(objeto_datetime)\n",
    "print(\"timestamp =\", marca_de_tiempo)\n",
    "fecha_hora2 = datetime.datetime.fromtimestamp(marca_de_tiempo)\n",
    "print(\"fecha hora =\", fecha_hora2)"
   ]
  },
  {
   "cell_type": "markdown",
   "metadata": {},
   "source": [
    "ejercicio 3\n",
    "Crear un archivo a partir de los datos presentes en el diccionario provisto. El cual debe contener en la primera fila el nombre de las claves y luego cada línea los elementos i-ésimos de las listas de valores contiguos y separados por coma ','. Este archivo debe llamarse clase09_ej3.csv"
   ]
  },
  {
   "cell_type": "markdown",
   "metadata": {},
   "source": [
    "montañas = {'nombre':[  'Everest','K2','Kanchenjunga','Lhotse','Makalu',\n",
    "                        'Cho Oyu','Dhaulagiri','Manaslu','Nanga Parbat','Annapurna I'],\n",
    "            'orden':[1,2,3,4,5,6,7,8,9,10],\n",
    "            'cordillera':['Himalaya','Karakórum','Himalaya','Himalaya','Himalaya'\n",
    "                        ,'Himalaya','Himalaya','Himalaya','Karakórum','Himalaya'],\n",
    "            'pais': ['Nepal','Pakistán','Nepal','Nepal','Nepal','Nepal','Nepal','Nepal',\n",
    "                    'Pakistán','Nepal'],\n",
    "            'altura':[8849,8611,8586,8516,8485,8188,8167,8163,8125,8091]}"
   ]
  },
  {
   "cell_type": "code",
   "execution_count": 106,
   "metadata": {},
   "outputs": [],
   "source": [
    "#Aquí creamos un diccionario llamado montañas\n",
    "montañas={\"nombre\":[\"everest\",\"k2\",\"kanchenjunga\",\"lhotse\",\"makalu\",\"cho oyu\",\"dhaulagiri\",\"manaslu\",\"nanga parbat\",\"annapurna I\"],\n",
    "\"orden\":[1,2,3,4,5,6,7,8,9,10],\n",
    "\"cordillera\":[\"himalaya\",\"karakorum\",\"Himalaya\",'Himalaya','Himalaya'\n",
    "                        ,'Himalaya','Himalaya','Himalaya','Karakórum','Himalaya'],\n",
    "'pais': ['Nepal','Pakistán','Nepal','Nepal','Nepal','Nepal','Nepal','Nepal',\n",
    "                        'Pakistán','Nepal'], \n",
    "'altura':[8849,8611,8586,8516,8485,8188,8167,8163,8125,8091]}    \n"
   ]
  },
  {
   "cell_type": "code",
   "execution_count": 107,
   "metadata": {},
   "outputs": [],
   "source": [
    "#Abrimos un archivo llamado clase09_ej3.csv en modo de escritura ('w').\n",
    "#Este archivo se utilizará para almacenar los datos de las montañas en formato CSV.\n",
    "import os\n",
    "arhivo=open(\"clase09_ej3.csv\",\"w\")\n"
   ]
  },
  {
   "cell_type": "code",
   "execution_count": 108,
   "metadata": {},
   "outputs": [],
   "source": [
    "#Este bucle itera sobre las claves del diccionario montañas. \n",
    "#Si la clave es 'altura', escribimos la clave seguida de un salto de línea en el archivo.\n",
    "#De lo contrario, escribimos la clave seguida de una coma en el archivo.\n",
    "\n",
    "\n",
    "for clave in montañas.keys():\n",
    "    if (clave == 'altura'):\n",
    "        arhivo.write(clave+\"\\n\")\n",
    "    else:\n",
    "        arhivo.write(clave+\",\")  "
   ]
  },
  {
   "cell_type": "code",
   "execution_count": null,
   "metadata": {},
   "outputs": [],
   "source": [
    "#Este bucle while recorre los primeros 10 elementos de cada lista en el diccionario montañas y escribe cada elemento en el archivo\n",
    "#separado por comas. Después de escribir todos los elementos de una fila, agregamos un salto de línea para pasar a la siguiente fila.\n",
    "\n",
    "ind = 0      #creamos una variable llamada ind y le asignamos el valor inicial de 0. Esta variable se utilizará como un contador para recorrer los elementos de las listas en el diccionario montañas.\n",
    "while (ind < 10):        #Este es un bucle while que se ejecutará mientras el valor de ind sea menor que 10. Esto significa que el bucle se ejecutará exactamente 10 veces                               \n",
    "    arhivo.write(montañas['nombre'][ind]+',')   #Aquí escribimos en el archivo CSV el elemento en la posición ind de la lista 'nombre' del diccionario montañas. \n",
    "    arhivo.write(str(montañas['orden'][ind])+',')   #...y Luego agregamos una coma , para separar este elemento del siguiente en la misma fila   \n",
    "    arhivo.write(montañas['cordillera'][ind]+',')\n",
    "    arhivo.write(montañas['pais'][ind]+',')\n",
    "    arhivo.write(str(montañas['altura'][ind])+'\\n')\n",
    "    ind += 1  #Incrementamos el valor de ind en 1 en cada iteración del bucle, para pasar al siguiente elemento de las listas en el diccionario montañas. Esto asegura que el bucle avance hasta que hayamos escrito los primeros 10 elementos de cada lista en el archivo CSV."
   ]
  },
  {
   "cell_type": "code",
   "execution_count": null,
   "metadata": {},
   "outputs": [],
   "source": [
    "#Finalmente, cerramos el archivo después de terminar de escribir los datos. \n",
    "#Es importante cerrar el archivo después de usarlo para liberar los recursos del sistema operativo.\n",
    "arhivo.close()"
   ]
  },
  {
   "cell_type": "markdown",
   "metadata": {},
   "source": [
    "ejercicio 4\n",
    "Mostrar el tamaño en MB del archivo generado en el punto 3\n"
   ]
  },
  {
   "cell_type": "code",
   "execution_count": null,
   "metadata": {},
   "outputs": [
    {
     "name": "stdout",
     "output_type": "stream",
     "text": [
      "el tamaño del archivo clase09_ej3.csv es de 0.36MB\n"
     ]
    }
   ],
   "source": [
    "import os\n",
    "nombre_archivo='clase09_ej3.csv'        # Nombre del archivo CSV generado\n",
    "tamaño_bytes=os.path.getsize(nombre_archivo)  # Obtener el tamaño del archivo en bytes Utilizando os.path.getsize() para obtener el tamaño del archivo en bytes.\n",
    "tamaño_mb= tamaño_bytes/(1024)      # Convertir bytes a megabytes\n",
    "print(f\"el tamaño del archivo {nombre_archivo} es de {tamaño_mb:.2f}MB\")    # Imprimir el tamaño en MB"
   ]
  },
  {
   "cell_type": "markdown",
   "metadata": {},
   "source": [
    "ejercicio 5\n",
    "Crear una carpeta llamada clase09_montañas_altas"
   ]
  },
  {
   "cell_type": "code",
   "execution_count": null,
   "metadata": {},
   "outputs": [],
   "source": [
    "os.makedirs('clase09_montañas_altas')"
   ]
  },
  {
   "cell_type": "markdown",
   "metadata": {},
   "source": [
    "ejercicio 6\n",
    "Copiar el archivo clase09_ej3.scv en la carpeta clase09_montañas_altas usando la sentencia os.system"
   ]
  },
  {
   "cell_type": "code",
   "execution_count": null,
   "metadata": {},
   "outputs": [
    {
     "data": {
      "text/plain": [
       "0"
      ]
     },
     "execution_count": 5,
     "metadata": {},
     "output_type": "execute_result"
    }
   ],
   "source": [
    "#FORMA 1\n",
    "import os\n",
    "os.system('copy clase09_ej3.csv clase09_montañas_altas')"
   ]
  },
  {
   "cell_type": "code",
   "execution_count": 109,
   "metadata": {},
   "outputs": [
    {
     "data": {
      "text/plain": [
       "0"
      ]
     },
     "execution_count": 109,
     "metadata": {},
     "output_type": "execute_result"
    }
   ],
   "source": [
    "#FORMA 2\n",
    "import os\n",
    "\n",
    "# Comando para copiar el archivo usando copy en sistemas Windows\n",
    "comando = 'copy clase09_ej3.csv clase09_montañas_altas\\\\'\n",
    "\n",
    "# Ejecutar el comando\n",
    "os.system(comando)"
   ]
  },
  {
   "cell_type": "markdown",
   "metadata": {},
   "source": [
    "EJERCICIO 7\n",
    "Listar el contenido de la carpeta clase09_montañas_altas"
   ]
  },
  {
   "cell_type": "code",
   "execution_count": null,
   "metadata": {},
   "outputs": [
    {
     "data": {
      "text/plain": [
       "['clase09_ej3.csv']"
      ]
     },
     "execution_count": 6,
     "metadata": {},
     "output_type": "execute_result"
    }
   ],
   "source": [
    "os.listdir('./clase09_montañas_altas')"
   ]
  }
 ],
 "metadata": {
  "kernelspec": {
   "display_name": "Python 3",
   "language": "python",
   "name": "python3"
  },
  "language_info": {
   "codemirror_mode": {
    "name": "ipython",
    "version": 3
   },
   "file_extension": ".py",
   "mimetype": "text/x-python",
   "name": "python",
   "nbconvert_exporter": "python",
   "pygments_lexer": "ipython3",
   "version": "3.12.2"
  }
 },
 "nbformat": 4,
 "nbformat_minor": 2
}
