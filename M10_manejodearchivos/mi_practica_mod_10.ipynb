{
 "cells": [
  {
   "cell_type": "markdown",
   "metadata": {},
   "source": [
    "entrada y salida\n",
    "\n",
    "¡Bienvenidos al módulo de manejo de archivos en Python! En esta video clase, exploraremos el mundo de la entrada y salida de datos en nuestros programas. Aprenderemos cómo interactuar con archivos externos, leer y escribir datos, y cómo utilizar diferentes modos de apertura para adaptarnos a nuestras necesidades. \n",
    "\n",
    "\n",
    "Recordemos la información clave de la video clase...\n",
    "1\n",
    "print : Es una función en Python que nos permite mostrar información en la consola. Podemos utilizarla para imprimir mensajes, valores de variables u otros datos que queramos visualizar durante la ejecución del programa.\n",
    "\n",
    "2\n",
    "input : Es una función en Python que nos permite recibir datos de entrada desde el usuario. Al utilizarla, el programa se detiene y espera a que el usuario ingrese un valor. Luego, ese valor puede ser almacenado en una variable para su posterior uso en el programa.\n",
    "\n",
    "3\n",
    "Librería : En Python, una librería es un conjunto de funciones, clases y variables predefinidas que se agrupan para realizar tareas específicas. Estas librerías amplían las capacidades del lenguaje y nos permiten utilizar funcionalidades adicionales sin tener que implementarlas desde cero. Podemos importar una librería en nuestro programa para acceder a sus funcionalidades y utilizarlas en nuestro código.\n",
    "\n",
    "4\n",
    "Extensión .py : En Python, la extensión de archivo .py se utiliza para identificar los archivos de código fuente escritos en Python. Estos archivos contienen el código que será interpretado y ejecutado por el intérprete de Python. Al guardar nuestros programas en archivos con extensión .py, podemos ejecutarlos y compartirlos con otros desarrolladores"
   ]
  },
  {
   "cell_type": "markdown",
   "metadata": {},
   "source": [
    "INTERACTUAR CON EL SISTEMA DE ARCHIVOS\n",
    "\n",
    "En general, vamos a interactuar con el sistema de archivos mediante la librería del sistema operativo, que posibilita operaciones dependientes del sistema operativo.\n",
    "\n",
    "Algunas de las tantas operaciones que podemos realizar con esta librería son:\n",
    "\n",
    "1\n",
    "Crear una carpeta nueva:\n",
    "Para crear una carpeta nueva en Python, utilizamos el método makedirs() de la librería del sistema operativo. Simplemente especificamos la ruta de la carpeta que queremos crear y este método se encarga de crearla en el sistema de archivos.\n",
    "os.makedirs('clase09_montañas_altas')\n",
    "\n",
    "2\n",
    "Listar el contenido de una carpeta:\n",
    "Para listar el contenido de una carpeta en Python, utilizamos el método listdir() de la librería del sistema operativo. Este método nos devuelve una lista con los nombres de los archivos y subdirectorios que se encuentran en la carpeta especificada.\n",
    "os.listdir('./clase09_montañas_altas')\n",
    "\n",
    "3\n",
    "Mostrar el directorio de trabajo:\n",
    "Para mostrar el directorio de trabajo actual en Python, utilizamos el método getcwd() de la librería del sistema operativo. Este método devuelve una cadena de texto que representa la ruta absoluta del directorio actual.\n",
    "\n",
    "4\n",
    "Mostrar el tamaño en bytes de un archivo pasado como parámetro:\n",
    "Para obtener el tamaño en bytes de un archivo en Python, utilizamos el método getsize() de la librería os.path. Simplemente especificamos la ruta del archivo y este método nos devuelve el tamaño en bytes.\n",
    "import os\n",
    "nombre_archivo='clase09_ej3.csv'        # Nombre del archivo CSV generado\n",
    "tamaño_bytes=os.path.getsize(nombre_archivo)  # Obtener el tamaño del archivo en bytes Utilizando os.path.getsize() para obtener el tamaño del archivo en bytes.\n",
    "tamaño_mb= tamaño_bytes/(1024)      # Convertir bytes a megabytes\n",
    "print(f\"el tamaño del archivo {nombre_archivo} es de {tamaño_mb:.2f}MB\")    # Imprimir el tamaño en MB\n",
    "\n",
    "5\n",
    "Verificar si el parámetro pasado a la función es un archivo:\n",
    "  Para verificar si un parámetro es un archivo en Python, utilizamos el método isfile() de la librería os.path. Este método devuelve un valor booleano (True o False) que indica si el parámetro es un archivo válido.\n",
    "\n",
    "6\n",
    "Verificar si el parámetro pasado a la función es una carpeta:\n",
    "Para verificar si un parámetro es una carpeta en Python, utilizamos el método isdir() de la librería os.path. Este método devuelve un valor booleano que indica si el parámetro es una carpeta válida.\n",
    "\n",
    "7\n",
    "Cambiar directorio/carpeta:\n",
    "Para cambiar el directorio o carpeta actual en Python, utilizamos el método chdir() de la librería del sistema operativo. Simplemente especificamos la ruta de la nueva carpeta a la que queremos cambiar y este método actualiza el directorio actual.\n",
    "\n",
    "8\n",
    "Renombrar un archivo:\n",
    "Para renombrar un archivo en Python, utilizamos el método rename() de la librería del sistema operativo. Especificamos la ruta y el nombre actual del archivo, junto con el nuevo nombre que queremos asignarle.\n",
    "\n",
    "9\n",
    "Eliminar un archivo:\n",
    "Para eliminar un archivo en Python, utilizamos el método remove() de la librería del sistema operativo. Simplemente especificamos la ruta del archivo que queremos eliminar y este método se encarga de borrarlo del sistema de archivos.\n",
    "\n",
    "10\n",
    "Eliminar una carpeta:\n",
    "Para eliminar una carpeta en Python, utilizamos el método rmdir() de la librería del sistema operativo. Especificamos la ruta de la carpeta que queremos eliminar y este método se encarga de borrarla, siempre y cuando esté vacía.\n",
    "\n",
    "Recuerde importar la librería os al comienzo de su programa utilizando import os para poder utilizar estas funciones. Si tienes alguna otra pregunta, no dudes en hacerla"
   ]
  },
  {
   "cell_type": "markdown",
   "metadata": {},
   "source": [
    "Manejo de archivos y Web Scrapping \n",
    "\n",
    "Bienvenidos a la video clase de Manejo de archivos y Web Scrapping ! En esta lección, exploraremos dos aspectos fundamentales de la programación: cómo interactuar con archivos en Python y cómo extraer datos de páginas web.\n",
    "El manejo de archivos y el Web Scrapping son habilidades esenciales en el ámbito de la programación, ya que nos permiten acceder y procesar información de diferentes fuentes. ¡Así que prepárense para sumergirse en el fascinante mundo de los archivos y la extracción de datos web!\n",
    "\n",
    "\n",
    "Recordemos la información clave de la video clase...\n",
    "La función open() tiene una sintaxis sencilla:\n",
    "\n",
    "abrir(<archivo>,<modo>)\n",
    "\n",
    "Donde <archivo> es la ubicación del archivo con el que queremos trabajar y <modo> es uno de los siguientes modos de trabajo con ese archivo:\n",
    "\n",
    "\n",
    "Hermosa sopa\n",
    "Beautiful Soup es una biblioteca de Python utilizada para extraer datos de documentos HTML y XML. Permite analizar el código fuente de una página web y extraer información específica de manera sencilla y eficiente. Beautiful Soup proporciona métodos y funciones para buscar, navegar y manipular la estructura del documento, facilitando la extracción de datos de manera programática.\n",
    "\n",
    "Con Beautiful Soup, podemos buscar elementos HTML por etiquetas, clases, identificadores, atributos y más. También podemos acceder al contenido de los elementos, extraer atributos, realizar búsquedas más complejas y recorrer la estructura del documento de manera intuitiva. Es una herramienta muy útil para realizar tareas de Web Scraping, ya que nos permite obtener los datos que necesitamos de forma precisa y flexible."
   ]
  },
  {
   "cell_type": "markdown",
   "metadata": {},
   "source": [
    "ejercicio 1\n",
    "importar sistema operativo\n",
    "\n",
    "\n",
    "ingredientes = [\"Cebolla\",\"Tomate\", \"Aceite\"]"
   ]
  },
  {
   "cell_type": "code",
   "execution_count": 14,
   "metadata": {},
   "outputs": [],
   "source": [
    "import os\n",
    "\n",
    "ingredientes=[\"cebolla\",\"tomate\",\"aceite\"]"
   ]
  },
  {
   "cell_type": "markdown",
   "metadata": {},
   "source": [
    "ejercicio 2\n",
    "\n",
    "archivo = open('datos.txt','w')\n",
    "\n",
    "\n",
    "para elemento en ingredientes:\n",
    "    archivo.write(elemento+'\\n')\n",
    "\n",
    "\n",
    "archivo.cerrar()"
   ]
  },
  {
   "cell_type": "code",
   "execution_count": 19,
   "metadata": {},
   "outputs": [],
   "source": [
    "import os\n",
    "archivo=open(\"datos.txt\",\"w\")"
   ]
  },
  {
   "cell_type": "code",
   "execution_count": 20,
   "metadata": {},
   "outputs": [],
   "source": [
    "for elemento in ingredientes:\n",
    "    archivo.write(elemento+'\\n')   "
   ]
  },
  {
   "cell_type": "code",
   "execution_count": 17,
   "metadata": {},
   "outputs": [],
   "source": [
    "archivo.close()"
   ]
  },
  {
   "cell_type": "markdown",
   "metadata": {},
   "source": [
    "ejercicio 3\n",
    "importar sistema operativo\n",
    "\n",
    "\n",
    "archivo = open('datos.txt','r')\n",
    "\n",
    "\n",
    "para linea en archivo:\n",
    "    imprimir (línea)\n",
    "\n",
    "\n",
    "archivo.cerrar()\n",
    "\n",
    "\n",
    "→ cebolla\n",
    "→ Tomate\n",
    "→ Aceite\n"
   ]
  },
  {
   "cell_type": "code",
   "execution_count": 23,
   "metadata": {},
   "outputs": [
    {
     "name": "stdout",
     "output_type": "stream",
     "text": [
      "cebolla\n",
      "\n",
      "tomate\n",
      "\n",
      "aceite\n",
      "\n"
     ]
    }
   ],
   "source": [
    "import os\n",
    "\n",
    "archivo=open(\"datos.txt\",\"r\")\n",
    "\n",
    "for linea in archivo:\n",
    "    print(linea) \n",
    "\n",
    "archivo.close()  "
   ]
  },
  {
   "cell_type": "markdown",
   "metadata": {},
   "source": [
    "Para trabajar con tipos de datos relacionados con la medición del tiempo, como ser fechas, horarios o marcas de tiempo se puede utilizar la clase datetime"
   ]
  },
  {
   "cell_type": "code",
   "execution_count": null,
   "metadata": {},
   "outputs": [],
   "source": [
    "import datetime\n",
    "x= datetime.datetime.now()  #determinamos la variable x como la fecha actual\n",
    "print(\"AHORA\",x)     #imprimimos la fecha actual\n",
    "x=datetime.datetime(2022,5,10,16,00)\n",
    "print(\"FECHA FIJA \",x)"
   ]
  },
  {
   "cell_type": "code",
   "execution_count": null,
   "metadata": {},
   "outputs": [],
   "source": [
    "fecha_hora = '2022-05-10 12:30:00'\n",
    "objeto_datetime = datetime.datetime.strptime(fecha_hora, '%Y-%m-%d %H:%M:%S')\n",
    "print(\"objeto datetime =\", objeto_datetime)\n",
    "marca_de_tiempo = datetime.datetime.timestamp(objeto_datetime)\n",
    "print(\"timestamp =\", marca_de_tiempo)\n",
    "fecha_hora2 = datetime.datetime.fromtimestamp(marca_de_tiempo)\n",
    "print(\"fecha hora =\", fecha_hora2)"
   ]
  },
  {
   "cell_type": "markdown",
   "metadata": {},
   "source": [
    "---------------EXPLICAME PARA QUE SIRVE EL ANTERIOR  ALGORITMO EN SU CONJUNTO, EXPLICAMELO COMO A UN NIÑO\n",
    "\n",
    "\n",
    "Importamos la biblioteca datetime: Imagina que estamos trayendo una caja de herramientas a nuestro taller. La biblioteca datetime contiene herramientas que nos permiten trabajar con fechas y horas en Python.\n",
    "\n",
    "Obtenemos la fecha y hora actual: Tomamos un reloj y anotamos la fecha y la hora exactas en este momento. Luego, guardamos esa información en una caja llamada \"x\". Ahora, si alguien nos pregunta qué hora es, solo tenemos que mirar dentro de la caja \"x\".\n",
    "\n",
    "Mostramos la fecha y hora actual: Queremos saber qué hora es, así que abrimos nuestra caja \"x\" y mostramos la fecha y la hora que anotamos antes.\n",
    "\n",
    "Fijamos una fecha y hora específicas: Ahora, en lugar de depender del reloj, decidimos fingir que estamos en una fecha y hora específicas. Entonces, creamos una nueva caja llamada \"x\" y la llenamos con la fecha y la hora que queremos, en este caso, el 10 de mayo de 2020 a las 4:00 PM.\n",
    "\n",
    "Convertimos una cadena de texto a un objeto de fecha y hora: Imagina que alguien nos da una nota escrita con una fecha y hora específicas, pero está escrita de una manera que no entendemos muy bien. Utilizamos nuestras habilidades especiales para entender lo que está escrito y lo convertimos en algo que podamos guardar en nuestra caja de herramientas.\n",
    "\n",
    "Mostramos el objeto de fecha y hora convertido: Después de entender la fecha y hora de la nota, la guardamos en una nueva caja llamada \"objeto_datetime\". Ahora, si alguien nos pregunta qué hora es según la nota, solo tenemos que abrir la caja \"objeto_datetime\".\n",
    "\n",
    "Convertimos el objeto de fecha y hora a una marca de tiempo: A veces, necesitamos usar una forma diferente de decir la fecha y hora, algo que otras personas puedan entender más fácilmente. Así que convertimos nuestra fecha y hora en algo llamado \"marca de tiempo\", que es como una forma especial de contar los segundos desde un momento muy importante.\n",
    "\n",
    "Mostramos la marca de tiempo: Después de hacer la conversión, miramos nuestra calculadora especial y vemos cuántos segundos han pasado desde ese momento importante hasta la fecha y hora que nos dieron. Eso es lo que llamamos la \"marca de tiempo\".\n",
    "\n",
    "Convertimos la marca de tiempo de regreso a fecha y hora: Ahora, alguien nos pregunta qué hora es, pero en lugar de darles la hora como una marca de tiempo, queremos decirles la hora real que conocemos. Así que tomamos la marca de tiempo y la convertimos de nuevo a una fecha y hora \"normal\" que todos puedan entender.\n",
    "\n",
    "Mostramos la fecha y hora convertida: Finalmente, abrimos nuestra caja de herramientas y mostramos la fecha y hora que calculamos a partir de la marca de tiempo. Ahora, todos saben qué hora es, ¡y hemos completado nuestro trabajo!"
   ]
  }
 ],
 "metadata": {
  "kernelspec": {
   "display_name": "Python 3",
   "language": "python",
   "name": "python3"
  },
  "language_info": {
   "codemirror_mode": {
    "name": "ipython",
    "version": 3
   },
   "file_extension": ".py",
   "mimetype": "text/x-python",
   "name": "python",
   "nbconvert_exporter": "python",
   "pygments_lexer": "ipython3",
   "version": "3.12.2"
  }
 },
 "nbformat": 4,
 "nbformat_minor": 2
}
