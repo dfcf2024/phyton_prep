{
 "cells": [
  {
   "cell_type": "markdown",
   "metadata": {},
   "source": [
    "MODULO 1 - ITERABLES\n",
    "Clases iterables\n",
    "\n",
    "En Python, un iterable es cualquier objeto que se puede recorrer o atravesar en un bucle for. Esto significa que, si un objeto es iterable, se puede usar un bucle for para acceder a sus elementos uno por uno.\n",
    "\n",
    "Los tipos de datos más comunes que son iterables en Python son: listas, tuplas, diccionarios, conjuntos, cadenas de caracteres (strings) y archivos. Además, hay varios módulos de Python que proporcionan tipos de datos adicionales que también son iterables, como por ejemplo el módulo range.\n",
    "\n",
    "Es importante destacar que, aunque algunos objetos pueden parecer iterables, no todos lo son. Para ser iterable, un objeto debe implementar el método __iter__() que devuelve un objeto iterador que es responsable de producir los elementos del objeto iterable en el bucle for.\n",
    "\n",
    "Como ya habíamos visto, si tenemos una clase iterable, podemos usarla a la derecha del for de la siguiente manera.\n",
    "\n",
    "for elemento in [clase_iterable]:\n",
    "\n",
    "El bucle for en Python permite iterar sobre una secuencia de elementos como una lista, tupla o cadena de caracteres. \n",
    "\n",
    "enumerate()\n",
    "\n",
    "\n",
    "enumerate() es una función incorporada en Python que toma un iterable (como una lista o una cadena) y devuelve un objeto enumerado, que contiene pares de índices y valores correspondientes a cada elemento del iterable.\n",
    "Es decir, enumerate() permite recorrer un iterable mientras se tiene acceso tanto al valor como al índice de cada elemento.\n",
    "\n",
    " isinstance()\n",
    "\n",
    "El método isinstance() es una función incorporada en Python que se utiliza para comprobar si un objeto es una instancia de una clase o de una subclase de dicha clase. Recibe dos argumentos: el objeto que se quiere comprobar y la clase que se quiere verificar si es su superclase o no. Si el objeto es una instancia de la clase, devuelve True, de lo contrario devuelve False. Es comúnmente utilizado para asegurarse de que un objeto es del tipo de datos correcto antes de procesarlo o manipularlo en alguna forma.\n",
    "\n",
    "Otros métodos aprendidos...\n",
    "\n",
    "1\n",
    "list: es una función incorporada en Python que se utiliza para crear una lista a partir de un iterable, como una tupla o una cadena de caracteres. Se puede llamar sin argumentos, lo que devuelve una lista vacía, o con un iterable como argumento, lo que devuelve una lista que contiene los elementos del iterable. \n",
    "\n",
    "2\n",
    "sum: es una función incorporada en Python que se utiliza para sumar todos los elementos de una lista o de un iterable. Toma un iterable como argumento y devuelve la suma de los elementos.\n",
    "\n",
    "3\n",
    "join: es un método de cadena en Python que se utiliza para unir una secuencia de cadenas en una sola cadena, utilizando un separador específico. Toma una lista o una tupla de cadenas como argumento y devuelve una cadena que consiste en las cadenas de entrada unidas por el separador especificado."
   ]
  },
  {
   "cell_type": "code",
   "execution_count": 80,
   "metadata": {},
   "outputs": [
    {
     "name": "stdout",
     "output_type": "stream",
     "text": [
      "5\n",
      "4\n",
      "9\n",
      "2\n"
     ]
    }
   ],
   "source": [
    "LISTA=[5,4,9,2]\n",
    "for elemento in LISTA:\n",
    "    print(elemento)"
   ]
  },
  {
   "cell_type": "code",
   "execution_count": 81,
   "metadata": {},
   "outputs": [
    {
     "name": "stdout",
     "output_type": "stream",
     "text": [
      "h\n",
      "e\n",
      "n\n",
      "r\n",
      "r\n",
      "y\n"
     ]
    }
   ],
   "source": [
    "cadena=\"henrry\"\n",
    "for c in cadena:\n",
    "    print(c)"
   ]
  },
  {
   "cell_type": "code",
   "execution_count": 82,
   "metadata": {},
   "outputs": [
    {
     "name": "stdout",
     "output_type": "stream",
     "text": [
      "(0, 'h')\n",
      "(1, 'e')\n",
      "(2, 'n')\n",
      "(3, 'r')\n",
      "(4, 'r')\n",
      "(5, 'y')\n"
     ]
    },
    {
     "data": {
      "text/plain": [
       "tuple"
      ]
     },
     "execution_count": 82,
     "metadata": {},
     "output_type": "execute_result"
    }
   ],
   "source": [
    "cadena=\"henrry\"\n",
    "for c in enumerate(cadena):\n",
    "    print(c)  \n",
    "type(c)                  #se imprime una tupla en cada pareja que contiene el indice y cada parte de la cadena"
   ]
  },
  {
   "cell_type": "markdown",
   "metadata": {},
   "source": [
    "COMO SABER SI UN OBJETO ES O NO ES ITERABLE"
   ]
  },
  {
   "cell_type": "code",
   "execution_count": 83,
   "metadata": {},
   "outputs": [],
   "source": [
    "from collections.abc import Iterable\n",
    "cadena=\"henrry\"\n",
    "numero=9"
   ]
  },
  {
   "cell_type": "code",
   "execution_count": 84,
   "metadata": {},
   "outputs": [
    {
     "data": {
      "text/plain": [
       "True"
      ]
     },
     "execution_count": 84,
     "metadata": {},
     "output_type": "execute_result"
    }
   ],
   "source": [
    "isinstance(cadena,Iterable)         #para saber si un objeto es iterable"
   ]
  },
  {
   "cell_type": "code",
   "execution_count": 85,
   "metadata": {},
   "outputs": [
    {
     "name": "stdout",
     "output_type": "stream",
     "text": [
      "h_e_n_r_r_y\n"
     ]
    }
   ],
   "source": [
    "print(\"_\".join(\"henrry\"))       #para concatenar los elementos de un iterable"
   ]
  },
  {
   "cell_type": "code",
   "execution_count": 86,
   "metadata": {},
   "outputs": [
    {
     "name": "stdout",
     "output_type": "stream",
     "text": [
      "6\n"
     ]
    }
   ],
   "source": [
    "print(sum([1,2,3]))"
   ]
  },
  {
   "cell_type": "code",
   "execution_count": 87,
   "metadata": {},
   "outputs": [
    {
     "name": "stdout",
     "output_type": "stream",
     "text": [
      "a\n",
      "b\n",
      "c\n"
     ]
    }
   ],
   "source": [
    "mi_dict={\"a\":1,\"b\":2,\"c\":3}\n",
    "for i in mi_dict:\n",
    "    print(i)"
   ]
  },
  {
   "cell_type": "markdown",
   "metadata": {},
   "source": [
    "ejercicio 1\n",
    "lista = [5, 4, 9, 2]\n",
    "i = 0\n",
    "while i < len(lista):\n",
    "    elemento = lista[i]\n",
    "    print(elemento)\n",
    "    i += 1"
   ]
  },
  {
   "cell_type": "code",
   "execution_count": 105,
   "metadata": {},
   "outputs": [
    {
     "name": "stdout",
     "output_type": "stream",
     "text": [
      "5\n",
      "4\n",
      "9\n",
      "2\n"
     ]
    }
   ],
   "source": [
    "lista=[5,4,9,2]\n",
    "i=0\n",
    "while i<len(lista):\n",
    "    elemento=lista[i]\n",
    "    print(elemento)\n",
    "    i+=1"
   ]
  },
  {
   "cell_type": "markdown",
   "metadata": {},
   "source": [
    "ejercicio #2\n",
    "lista = [5, 4, 9, 2]\n",
    "\n",
    "for elemento in lista:\n",
    "    print(elemento)"
   ]
  },
  {
   "cell_type": "code",
   "execution_count": 89,
   "metadata": {},
   "outputs": [
    {
     "name": "stdout",
     "output_type": "stream",
     "text": [
      "5\n",
      "4\n",
      "9\n",
      "2\n"
     ]
    }
   ],
   "source": [
    "lista=[5,4,9,2]\n",
    "for elemento in lista:\n",
    "  print (elemento)"
   ]
  },
  {
   "cell_type": "markdown",
   "metadata": {},
   "source": [
    "ejercicio #3\n",
    "cadena = \"Henry\"\n",
    "for c in cadena:\n",
    "    print(c)"
   ]
  },
  {
   "cell_type": "code",
   "execution_count": 90,
   "metadata": {},
   "outputs": [
    {
     "name": "stdout",
     "output_type": "stream",
     "text": [
      "h\n",
      "e\n",
      "n\n",
      "r\n",
      "r\n",
      "y\n"
     ]
    }
   ],
   "source": [
    "cadena=\"henrry\"\n",
    "for c in cadena:\n",
    "    print (c)"
   ]
  },
  {
   "cell_type": "markdown",
   "metadata": {},
   "source": [
    "ejercicio #4\n",
    "cadena = \"Henry\"\n",
    "for c in enumerate(cadena):\n",
    "    print(c)"
   ]
  },
  {
   "cell_type": "code",
   "execution_count": 2,
   "metadata": {},
   "outputs": [
    {
     "name": "stdout",
     "output_type": "stream",
     "text": [
      "(0, 'H')\n",
      "(1, 'e')\n",
      "(2, 'n')\n",
      "(3, 'r')\n",
      "(4, 'y')\n"
     ]
    }
   ],
   "source": [
    "cadena = \"Henry\"\n",
    "for c in enumerate(cadena):\n",
    "    print(c)"
   ]
  },
  {
   "cell_type": "markdown",
   "metadata": {},
   "source": [
    "ejercicio #5\n",
    "from collections.abc import Iterable\n",
    "cadena = \"Henry\"\n",
    "numero = 9"
   ]
  },
  {
   "cell_type": "code",
   "execution_count": 92,
   "metadata": {},
   "outputs": [],
   "source": [
    "from collections.abc import Iterable\n",
    "cadena=\"henrry\"\n",
    "numero=9"
   ]
  },
  {
   "cell_type": "code",
   "execution_count": 93,
   "metadata": {},
   "outputs": [
    {
     "data": {
      "text/plain": [
       "True"
      ]
     },
     "execution_count": 93,
     "metadata": {},
     "output_type": "execute_result"
    }
   ],
   "source": [
    "isinstance(cadena,Iterable)"
   ]
  },
  {
   "cell_type": "code",
   "execution_count": 94,
   "metadata": {},
   "outputs": [
    {
     "data": {
      "text/plain": [
       "False"
      ]
     },
     "execution_count": 94,
     "metadata": {},
     "output_type": "execute_result"
    }
   ],
   "source": [
    "isinstance(numero,Iterable)"
   ]
  },
  {
   "cell_type": "markdown",
   "metadata": {},
   "source": [
    "ejercicio #6\n",
    "mi_dict = {'a':1, 'b':2, 'c':3}\n",
    "for i in mi_dict:\n",
    "    print(i)"
   ]
  },
  {
   "cell_type": "code",
   "execution_count": 95,
   "metadata": {},
   "outputs": [
    {
     "name": "stdout",
     "output_type": "stream",
     "text": [
      "a\n",
      "b\n",
      "c\n"
     ]
    }
   ],
   "source": [
    "mi_dict={\"a\":1,\"b\":2,\"c\":3}\n",
    "for i in mi_dict:\n",
    "    print(i)"
   ]
  },
  {
   "cell_type": "markdown",
   "metadata": {},
   "source": [
    "MODULO 2- ITERADORES\n",
    "La función iter() es una función integrada en Python que devuelve un objeto iterador a partir de un objeto iterable. Un objeto iterable es cualquier objeto en Python que se puede iterar uno a uno. Algunos ejemplos de objetos iterables son listas, tuplas, cadenas y diccionarios.\n",
    "\n",
    "La función iter() toma un objeto iterable como argumento y devuelve un objeto iterador. El objeto iterador se utiliza para acceder a los elementos del objeto iterable de uno en uno. Esto se hace mediante el método next(), que devuelve el siguiente elemento del objeto iterable en cada llamada.\n",
    "\n",
    "Es importante tener en cuenta que la función iter() se utiliza principalmente para crear iteradores personalizados en Python, lo que nos permite iterar sobre objetos personalizados de forma eficiente.\n",
    "\n",
    "¿Qué son las excepciones?\n",
    "\n",
    "Una excepción es un evento que ocurre durante la ejecución de un programa que interrumpe el flujo normal de instrucciones del programa. Las excepciones se utilizan para manejar errores y otros eventos excepcionales que pueden ocurrir durante la ejecución del programa.\n",
    "\n",
    "Cuando una excepción es lanzada, el programa detiene su ejecución normal y se busca un bloque de código que pueda manejar la excepción lanzada. Si no se encuentra un bloque de código que pueda manejar la excepción, el programa termina su ejecución y muestra un mensaje de error."
   ]
  },
  {
   "cell_type": "markdown",
   "metadata": {},
   "source": [
    "EJERCICIO #1\n",
    "libro = ['página1', 'página2', 'página3', 'página4']\n",
    "marcapaginas = iter(libro)"
   ]
  },
  {
   "cell_type": "code",
   "execution_count": 96,
   "metadata": {},
   "outputs": [
    {
     "name": "stdout",
     "output_type": "stream",
     "text": [
      "pagina1\n",
      "pagina2\n",
      "pagina3\n",
      "pagina4\n"
     ]
    }
   ],
   "source": [
    "libro=[\"pagina1\",\"pagina2\",\"pagina3\",\"pagina4\"]\n",
    "marcador= iter(libro)\n",
    "print(next(marcador))\n",
    "print(next(marcador))\n",
    "print(next(marcador))\n",
    "print(next(marcador))"
   ]
  },
  {
   "cell_type": "markdown",
   "metadata": {},
   "source": [
    "MODULO 3.  SENTENCIA ZIP\n",
    "\n",
    "La sentencia zip es una función integrada de Python que toma dos o más iterables y los combina en una sola estructura. Esta estructura se puede utilizar para iterar simultáneamente a través de los elementos de los iterables originales. Por ejemplo, si tienes dos listas, puedes utilizar la sentencia zip para combinarlas en una sola lista de tuplas.\n",
    "\n",
    "En la sentencia zip, se pueden pasar dos o más iterables como argumentos y se creará un iterador que agrega los elementos correspondientes de cada iterable. El iterador se detiene cuando se agotan los elementos del iterable más corto.\n",
    "\n",
    "\n",
    "La sintaxis es:\n",
    "zip(iterable1, iterable2, iterable3,...)\n",
    "\n",
    "Donde iterable1, iterable2, iterable3,... son los iterables que se van a agrupar.\n",
    "\n",
    "A tener en cuenta...\n",
    "\n",
    "1\n",
    " zip() es una función incorporada de Python que toma dos o más secuencias y las combina en una secuencia de tuplas de elementos correspondientes.\n",
    "\n",
    "2\n",
    "zip() devuelve un objeto de tipo zip, que es una secuencia de tuplas de elementos de los iterables proporcionados.\n",
    "\n",
    "3\n",
    "zip() es una herramienta útil para combinar datos de múltiples fuentes, como columnas de una tabla o datos de diferentes archivos.\n",
    "\n",
    "4\n",
    "También es posible usar zip() con más de dos iterables a la vez.\n",
    "\n",
    "5\n",
    "Es importante tener en cuenta que la secuencia resultante va a contener tantos elementos como la secuencia más corta proporcionada."
   ]
  },
  {
   "cell_type": "markdown",
   "metadata": {},
   "source": [
    "EJERCICIO #1\n",
    "lista_1 = [1, 2, 3]\n",
    "lista_2 = ['a', 'b', 'c']\n",
    "combinacion = zip(lista_1, lista_2)"
   ]
  },
  {
   "cell_type": "code",
   "execution_count": 97,
   "metadata": {},
   "outputs": [
    {
     "data": {
      "text/plain": [
       "zip"
      ]
     },
     "execution_count": 97,
     "metadata": {},
     "output_type": "execute_result"
    }
   ],
   "source": [
    "LISTA_1= [1,2,3]\n",
    "LISTA_2=[\"A\",\"B\",\"C\"]\n",
    "combinacion_de_listas=zip(LISTA_1,LISTA_2)\n",
    "type(combinacion_de_listas)"
   ]
  },
  {
   "cell_type": "code",
   "execution_count": 98,
   "metadata": {},
   "outputs": [
    {
     "name": "stdout",
     "output_type": "stream",
     "text": [
      "(1, 'A')\n",
      "(2, 'B')\n",
      "(3, 'C')\n"
     ]
    }
   ],
   "source": [
    "for elementos in combinacion_de_listas:             #combino ambas lista en una tupla   \n",
    "    print(elementos)"
   ]
  },
  {
   "cell_type": "markdown",
   "metadata": {},
   "source": [
    "AÑADIENDO CONDICIONALES\n",
    "\n",
    "La  \"comprensión de lista\"  es una forma concisa de crear una nueva lista basada en otra lista o iterable existente. La sintaxis general de la comprensión de lista es [expresión for elemento in iterable], donde \"expresión\" es el valor que se asignará a la nueva lista y \"elemento\" es cada elemento en el iterable.\n",
    "\n",
    "En este caso, se agrega una condición adicional usando \"if\", que especifica qué elementos deben ser incluidos en la nueva lista. La condición se evalúa para cada elemento en el iterable, y solo los elementos que cumplen la condición se agregan a la nueva lista.\n",
    "\n",
    "Retomemos la sintaxis aprendida...\n",
    "\n",
    "lista = [expresión for elemento in iterable if condición]\n",
    "\n",
    "1\n",
    "lista: el nombre de la lista que se creará a partir de la comprensión de listas.\n",
    "\n",
    "2\n",
    "expresión: la operación que se realizará en cada elemento del iterable para crear el elemento de la nueva lista. Esta expresión puede ser una operación matemática, una llamada a una función, una concatenación de cadenas, entre otras.\n",
    "\n",
    "3\n",
    "elemento: la variable que representa cada elemento del iterable original. Esta variable se utiliza dentro de la expresión.\n",
    "\n",
    "4\n",
    "iterable: la secuencia original de la que se creará la nueva lista. Puede ser una lista, una tupla, un rango, un conjunto, entre otros.\n",
    "\n",
    "5\n",
    "condición if: una expresión booleana que se evalúa en cada elemento del iterable. Solo se aplicará la expresión a aquellos elementos que cumplan la condición. Si no se especifica una condición, la expresión se aplicará a todos los elementos del iterable."
   ]
  },
  {
   "cell_type": "markdown",
   "metadata": {},
   "source": [
    "EJERCICIO 1\n",
    "numeros = [1, 2, 3, 4, 5, 6]\n",
    "pares_por_dos = [x * 2 for x in numeros if x % 2 == 0]\n",
    "print(pares_por_dos)"
   ]
  },
  {
   "cell_type": "code",
   "execution_count": 99,
   "metadata": {},
   "outputs": [
    {
     "name": "stdout",
     "output_type": "stream",
     "text": [
      "[4, 8, 12]\n"
     ]
    },
    {
     "data": {
      "text/plain": [
       "list"
      ]
     },
     "execution_count": 99,
     "metadata": {},
     "output_type": "execute_result"
    }
   ],
   "source": [
    "numeros=[1,2,3,4,5,6]\n",
    "pares_por_dos=[x*2 for x in numeros if x%2==0]\n",
    "print(pares_por_dos)\n",
    "len(pares_por_dos)\n",
    "type(pares_por_dos)"
   ]
  },
  {
   "cell_type": "markdown",
   "metadata": {},
   "source": [
    "ejercicio 2\n",
    "frase = \"El perro de san roque no tiene rabo\"\n",
    "erres = [i for i in frase if i == 'r']\n",
    "print(erres)"
   ]
  },
  {
   "cell_type": "code",
   "execution_count": 104,
   "metadata": {},
   "outputs": [
    {
     "name": "stdout",
     "output_type": "stream",
     "text": [
      "['r', 'r', 'r', 'r']\n"
     ]
    },
    {
     "data": {
      "text/plain": [
       "4"
      ]
     },
     "execution_count": 104,
     "metadata": {},
     "output_type": "execute_result"
    }
   ],
   "source": [
    "frase=\"el perro de san roque no tiene rabo\"\n",
    "erres=[i for i in frase if i==\"r\"]\n",
    "print(erres)\n",
    "len(erres)\n"
   ]
  },
  {
   "cell_type": "markdown",
   "metadata": {},
   "source": [
    "EJERCICIO PARA NIÑOS"
   ]
  },
  {
   "cell_type": "code",
   "execution_count": null,
   "metadata": {},
   "outputs": [],
   "source": [
    "#Supongamos que tenemos una lista de números del 1 al 5:\n",
    "\n",
    "numeros = [1, 2, 3, 4, 5]\n",
    "#Ahora, queremos crear una nueva lista que contenga el cuadrado de cada número \n",
    "#de la lista original, pero solo si el número es par.\n",
    "\n",
    "#Usaremos una comprensión de lista para lograr esto. \n",
    "#Aquí está la comprensión de lista con cada parte explicada para niños:\n",
    "\n",
    "cuadrados_pares = [numero ** 2 for numero in numeros if numero % 2 == 0]\n",
    "\n",
    "#cuadrados_pares: Este es el nombre de la nueva lista que vamos a crear. \n",
    "#Va a contener los cuadrados de los números pares.\n",
    "\n",
    "#numero ** 2: Esta es la operación que vamos a realizar en cada número de la lista original. \n",
    "#** significa \"elevar a la potencia\", así que esto nos da el cuadrado de cada número.\n",
    "\n",
    "#for numero: Esta es la variable que representa cada número de la lista original.\n",
    "#La llamamos numero para que sea fácil entender que estamos trabajando con números.\n",
    "\n",
    "#in numeros: Esta es la lista original de la que vamos a tomar los números. \n",
    "#Cada número de esta lista será asignado a la variable numero para que podamos trabajar con él.\n",
    "\n",
    "#if numero % 2 == 0: Esta es la condición que debe cumplir cada número para que se incluya \n",
    "#en la nueva lista. % es el operador módulo, que nos da el resto de una división. Si el resto de dividir numero entre 2 es 0, significa que numero es par, así que incluimos su cuadrado en la nueva lista.\n",
    "\n",
    "#Entonces, la nueva lista cuadrados_pares contendrá los cuadrados de los números pares de la lista original\n",
    "#[2, 4], que son [4, 16]. ¡Y eso es todo!"
   ]
  }
 ],
 "metadata": {
  "kernelspec": {
   "display_name": "Python 3",
   "language": "python",
   "name": "python3"
  },
  "language_info": {
   "codemirror_mode": {
    "name": "ipython",
    "version": 3
   },
   "file_extension": ".py",
   "mimetype": "text/x-python",
   "name": "python",
   "nbconvert_exporter": "python",
   "pygments_lexer": "ipython3",
   "version": "3.12.2"
  }
 },
 "nbformat": 4,
 "nbformat_minor": 2
}
