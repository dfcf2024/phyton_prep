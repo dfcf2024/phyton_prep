{
 "cells": [
  {
   "cell_type": "markdown",
   "metadata": {},
   "source": [
    "EJERCICIO #1\n",
    "tupla_dias= ('lunes', 'martes', 'miércoles','jueves','viernes','sábado', 'domingo')\n",
    "\n",
    "print(tupla_dias[1])"
   ]
  },
  {
   "cell_type": "code",
   "execution_count": 8,
   "metadata": {},
   "outputs": [
    {
     "name": "stdout",
     "output_type": "stream",
     "text": [
      "martes\n",
      "('lunes', 'martes', 'miercoles', 'jueves', 'viernes', 'sábado', 'domingo')\n",
      "True\n",
      "False\n",
      "2\n",
      "lunes\n",
      "('lunes', 'martes')\n",
      "lunes martes miercoles\n",
      "domingo lunes\n"
     ]
    }
   ],
   "source": [
    "tupla_dias= ('lunes', 'martes', 'miercoles','jueves','viernes','sábado', 'domingo',\"lunes\")\n",
    "\n",
    "print(tupla_dias[1])        #desempaquetamos el elemento en la posicion o index 1\n",
    "print(tupla_dias[0:7])      #desempaquetamos los elementos desde la posicion 0 hasta la 7\n",
    "print(\"lunes\"in(tupla_dias))   #con in:esta lunes en tupla_dias? R// true\n",
    "print(\"julio\"in (tupla_dias))   #con in : esta julio en tupla_dias?  R// false\n",
    "print(tupla_dias.count(\"lunes\"))    #con count: cuantas veces esta lunes  en tupla_dias?  R// 2\n",
    "print(tupla_dias[0])        #imprime lo que esta en la posicion 0  R//lunes\n",
    "print(tupla_dias[0:2])      #imprime lo que hay en un rango  R//lunes.martes  nota:no permite imprimir dias salteados\n",
    "\n",
    "primer_dia=tupla_dias[0]        #ahora desempaquetamos los 3 primeros dias y probamos imprimiendo. R//lunes,martes,miercoles\n",
    "segundo_dia=tupla_dias[1]\n",
    "tercer_dia=tupla_dias[2]\n",
    "print(primer_dia,segundo_dia,tercer_dia)\n",
    "\n",
    "[_,_,_,_,_,_,dia_siete,dia_ocho]=tupla_dias #podemos desempaquetar los elementos que queramos usando guion bajo para cada elemento q no necesitamos desempaquetar\n",
    "print(dia_siete,dia_ocho)          # R//domingo y lunes\n"
   ]
  },
  {
   "cell_type": "markdown",
   "metadata": {},
   "source": [
    "EJERCICIO #2\n",
    "x=11\n",
    "y=22\n",
    "z=’Henry’\n",
    "mi_tupla= x,y,z"
   ]
  },
  {
   "cell_type": "code",
   "execution_count": 115,
   "metadata": {},
   "outputs": [
    {
     "name": "stdout",
     "output_type": "stream",
     "text": [
      "(11, 22, 'Henrry')\n"
     ]
    },
    {
     "data": {
      "text/plain": [
       "tuple"
      ]
     },
     "execution_count": 115,
     "metadata": {},
     "output_type": "execute_result"
    }
   ],
   "source": [
    "x=11\n",
    "y=22\n",
    "z= \"Henrry\"\n",
    "mi_tupla= x,y,z             #EMPAQUETAMOS los datos usando comas\n",
    "print(mi_tupla)\n",
    "type(mi_tupla)              #comprobamos usando type  R// tuple"
   ]
  },
  {
   "cell_type": "markdown",
   "metadata": {},
   "source": [
    "EJERCICIO #3\n",
    "primero = tupla_impares[0]\n",
    "cuarto = tupla_impares[3]\n",
    "quinto = tupla_impares[4]"
   ]
  },
  {
   "cell_type": "code",
   "execution_count": 7,
   "metadata": {},
   "outputs": [
    {
     "name": "stdout",
     "output_type": "stream",
     "text": [
      "primero cuarto quinto\n",
      "segundo\n"
     ]
    }
   ],
   "source": [
    "tupla_impares=(\"primero\",\"segundo\",\"tercero\",\"cuarto\",\"quinto\")     #empaquetamos \n",
    "\n",
    "prim = tupla_impares[0]                     \n",
    "cuar = tupla_impares[3]\n",
    "quin = tupla_impares[4]\n",
    "\n",
    "\n",
    "print(prim,cuar,quin)\n",
    "[_,sdo,_,_,_]=tupla_impares             #desempaquetamos usando guion bajo y comillas\n",
    "print(sdo)"
   ]
  },
  {
   "cell_type": "markdown",
   "metadata": {},
   "source": [
    "#4 ejercicio\n",
    "\n",
    "lista_impares= list(tupla_impares)"
   ]
  },
  {
   "cell_type": "code",
   "execution_count": 13,
   "metadata": {},
   "outputs": [
    {
     "name": "stdout",
     "output_type": "stream",
     "text": [
      "('primero', 'segundo', 'tercero', 'cuarto', 'quinto')\n",
      "['primero', 'segundo', 'tercero', 'cuarto', 'quinto']\n"
     ]
    },
    {
     "data": {
      "text/plain": [
       "list"
      ]
     },
     "execution_count": 13,
     "metadata": {},
     "output_type": "execute_result"
    }
   ],
   "source": [
    "print(tupla_impares)\n",
    "lista_impares=list(tupla_impares)       #podemos convertir una tupla en lista con el comando list\n",
    "print(lista_impares)\n",
    "type(lista_impares)\n"
   ]
  },
  {
   "cell_type": "markdown",
   "metadata": {},
   "source": [
    "#5\n",
    "nueva_tupla=tuple(lista impares)"
   ]
  },
  {
   "cell_type": "code",
   "execution_count": 16,
   "metadata": {},
   "outputs": [
    {
     "name": "stdout",
     "output_type": "stream",
     "text": [
      "['primero', 'segundo', 'tercero', 'cuarto', 'quinto']\n",
      "('primero', 'segundo', 'tercero', 'cuarto', 'quinto')\n"
     ]
    },
    {
     "data": {
      "text/plain": [
       "tuple"
      ]
     },
     "execution_count": 16,
     "metadata": {},
     "output_type": "execute_result"
    }
   ],
   "source": [
    "print(lista_impares)\n",
    "tupla_impares=tuple(lista_impares)\n",
    "print(tupla_impares)\n",
    "type(tupla_impares)\n",
    "\n",
    "\n",
    "\n"
   ]
  },
  {
   "cell_type": "markdown",
   "metadata": {},
   "source": [
    "ejemplo sencillo en el contexto empresarial:\n",
    "\n",
    "Supongamos que tienes una lista de datos de ventas mensuales de un producto, donde cada elemento de la lista representa las ventas de un mes específico. Para analizar estos datos, necesitas calcular el total de ventas y también determinar el mes con las ventas más altas."
   ]
  },
  {
   "cell_type": "code",
   "execution_count": 2,
   "metadata": {},
   "outputs": [
    {
     "name": "stdout",
     "output_type": "stream",
     "text": [
      "730\n",
      "(300, 'febrero')\n"
     ]
    }
   ],
   "source": [
    "ventas_mensuales=[100,300,200,50,80]\n",
    "total_ventas=sum(ventas_mensuales)\n",
    "print(total_ventas)\n",
    "\n",
    "meses=[\"enero\",\"febrero\",\"marzo\",\"abril\",\"mayo\"]\n",
    "mes_con_mas_ventas=max(zip(ventas_mensuales,meses))\n",
    "print(mes_con_mas_ventas)"
   ]
  },
  {
   "cell_type": "code",
   "execution_count": null,
   "metadata": {},
   "outputs": [],
   "source": [
    "DICCIONARIOS"
   ]
  },
  {
   "cell_type": "markdown",
   "metadata": {},
   "source": [
    "EJERCICIO #1\n",
    "primer_diccionario['primero'] = 'uno'\n",
    "{'primero': 'uno'}"
   ]
  },
  {
   "cell_type": "code",
   "execution_count": 19,
   "metadata": {},
   "outputs": [
    {
     "name": "stdout",
     "output_type": "stream",
     "text": [
      "{'primero': 'uno', 'segundo': 'dos', 'tercero': 'tres'}\n"
     ]
    }
   ],
   "source": [
    "primer_diccionario={}\n",
    "primer_diccionario[\"primero\"]=\"uno\"\n",
    "primer_diccionario[\"segundo\"]=\"dos\" \n",
    "primer_diccionario[\"tercero\"]=\"tres\"\n",
    "print(primer_diccionario)"
   ]
  },
  {
   "cell_type": "markdown",
   "metadata": {},
   "source": [
    "EJERCICIO #2\n",
    "mi_diccionario = {  'Colores Primarios': ['Rojo','Azul','Amarillo'], \n",
    "                    'Colores secundarios': ['Naranja','Violeta','Verde'], \n",
    "                    'Clave3': 10,\n",
    "                    'Clave4': False}"
   ]
  },
  {
   "cell_type": "code",
   "execution_count": 23,
   "metadata": {},
   "outputs": [
    {
     "name": "stdout",
     "output_type": "stream",
     "text": [
      "{'colores primarios': ['rojo', 'azul', 'amarillo'], 'colores secundarios': ['naranja', 'violeta', 'verde'], 'clave3': 10, 'clave4': False}\n"
     ]
    }
   ],
   "source": [
    "mi_diccionario={\"colores primarios\":[\"rojo\",\"azul\",\"amarillo\"],\n",
    "                \"colores secundarios\":[\"naranja\",\"violeta\",\"verde\"],\n",
    "                \"clave3\":10,\n",
    "                \"clave4\":False}\n",
    "print(mi_diccionario)\n"
   ]
  }
 ],
 "metadata": {
  "kernelspec": {
   "display_name": "Python 3",
   "language": "python",
   "name": "python3"
  },
  "language_info": {
   "codemirror_mode": {
    "name": "ipython",
    "version": 3
   },
   "file_extension": ".py",
   "mimetype": "text/x-python",
   "name": "python",
   "nbconvert_exporter": "python",
   "pygments_lexer": "ipython3",
   "version": "3.12.2"
  }
 },
 "nbformat": 4,
 "nbformat_minor": 2
}
