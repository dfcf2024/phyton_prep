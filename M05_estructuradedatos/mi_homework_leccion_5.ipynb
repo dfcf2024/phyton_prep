{
 "cells": [
  {
   "cell_type": "markdown",
   "metadata": {},
   "source": [
    "EJERCICIO 1\n",
    "Crear una lista que contenga nombres de ciudades del mundo que contenga más de 5 elementos e imprimir por pantalla"
   ]
  },
  {
   "cell_type": "code",
   "execution_count": 386,
   "metadata": {},
   "outputs": [
    {
     "name": "stdout",
     "output_type": "stream",
     "text": [
      "['bogota', 'madrid', 'la paz', 'roma', 'moscu', 'londres']\n"
     ]
    }
   ],
   "source": [
    "ciudades_del_mundo=[\"bogota\",\"madrid\",\"la paz\",\"roma\",\"moscu\",\"londres\"]  #1. Crear una lista que contenga nombres de ciudades del mundo que contenga más de 5 elementos e imprimir por pantalla\n",
    "print(ciudades_del_mundo)\n"
   ]
  },
  {
   "cell_type": "code",
   "execution_count": 387,
   "metadata": {},
   "outputs": [
    {
     "name": "stdout",
     "output_type": "stream",
     "text": [
      "madrid\n"
     ]
    }
   ],
   "source": [
    "print(ciudades_del_mundo[1])        #2. Imprimir por pantalla el segundo elemento de la lista"
   ]
  },
  {
   "cell_type": "code",
   "execution_count": 388,
   "metadata": {},
   "outputs": [
    {
     "name": "stdout",
     "output_type": "stream",
     "text": [
      "['madrid', 'la paz', 'roma']\n"
     ]
    }
   ],
   "source": [
    "print(ciudades_del_mundo[1:4])      #3. Imprimir por pantalla del segundo al cuarto elemento"
   ]
  },
  {
   "cell_type": "code",
   "execution_count": 389,
   "metadata": {},
   "outputs": [
    {
     "data": {
      "text/plain": [
       "list"
      ]
     },
     "execution_count": 389,
     "metadata": {},
     "output_type": "execute_result"
    }
   ],
   "source": [
    "type(ciudades_del_mundo)            #4. Visualizar el tipo de dato de la lista"
   ]
  },
  {
   "cell_type": "code",
   "execution_count": 390,
   "metadata": {},
   "outputs": [
    {
     "name": "stdout",
     "output_type": "stream",
     "text": [
      "['la paz', 'roma', 'moscu', 'londres']\n"
     ]
    }
   ],
   "source": [
    "print(ciudades_del_mundo[2:])       #5. Visualizar todos los elementos de la lista a partir del tercero de manera genérica, es decir, sin explicitar la posición del último elemento"
   ]
  },
  {
   "cell_type": "code",
   "execution_count": 391,
   "metadata": {},
   "outputs": [
    {
     "name": "stdout",
     "output_type": "stream",
     "text": [
      "['bogota', 'madrid', 'la paz', 'roma']\n"
     ]
    }
   ],
   "source": [
    "print(ciudades_del_mundo[:4])       #6. Visualizar los primeros 4 elementos de la lista"
   ]
  },
  {
   "cell_type": "code",
   "execution_count": 392,
   "metadata": {},
   "outputs": [
    {
     "name": "stdout",
     "output_type": "stream",
     "text": [
      "['paris', 'bogota', 'madrid', 'la paz', 'roma', 'moscu', 'londres']\n"
     ]
    }
   ],
   "source": [
    "ciudades_del_mundo.insert(0,\"paris\")   #7. Agregar una ciudad más a la lista que ya exista \n",
    "print(ciudades_del_mundo)"
   ]
  },
  {
   "cell_type": "code",
   "execution_count": 393,
   "metadata": {},
   "outputs": [
    {
     "name": "stdout",
     "output_type": "stream",
     "text": [
      "['paris', 'bogota', 'madrid', 'la paz', 'roma', 'moscu', 'londres', 'madrid']\n"
     ]
    }
   ],
   "source": [
    "ciudades_del_mundo.append(\"madrid\")     #7b. y otra que no ¿Arroja algún tipo de error? R//no, se pueden repetir elementos en las listas\n",
    "print(ciudades_del_mundo)       "
   ]
  },
  {
   "cell_type": "code",
   "execution_count": 394,
   "metadata": {},
   "outputs": [
    {
     "name": "stdout",
     "output_type": "stream",
     "text": [
      "['paris', 'bogota', 'madrid', 'munich', 'la paz', 'roma', 'moscu', 'londres', 'madrid']\n"
     ]
    }
   ],
   "source": [
    "ciudades_del_mundo.insert(3,\"munich\")     #8. #Agregar otra ciudad, pero en la cuarta posición\n",
    "print(ciudades_del_mundo)  "
   ]
  },
  {
   "cell_type": "code",
   "execution_count": 395,
   "metadata": {},
   "outputs": [
    {
     "name": "stdout",
     "output_type": "stream",
     "text": [
      "['paris', 'bogota', 'madrid', 'munich', 'la paz', 'roma', 'moscu', 'londres', 'madrid', 1, 2, 3]\n"
     ]
    }
   ],
   "source": [
    "lista_nueva=[1,2,3]                      #9.Concatenar otra lista a la ya creada\n",
    "ciudades_del_mundo += lista_nueva\n",
    "print(ciudades_del_mundo)"
   ]
  },
  {
   "cell_type": "code",
   "execution_count": 396,
   "metadata": {},
   "outputs": [
    {
     "data": {
      "text/plain": [
       "2"
      ]
     },
     "execution_count": 396,
     "metadata": {},
     "output_type": "execute_result"
    }
   ],
   "source": [
    "ciudades_del_mundo.index(\"madrid\")      #10. Encontrar el índice de la ciudad que en el punto 7 agregamos duplicada. ¿Se nota alguna particularidad?\n",
    "                                         #me muestra el indice de la original, pero cada una tiene su indice"
   ]
  },
  {
   "cell_type": "code",
   "execution_count": 397,
   "metadata": {},
   "outputs": [
    {
     "ename": "ValueError",
     "evalue": "'berlin' is not in list",
     "output_type": "error",
     "traceback": [
      "\u001b[1;31m---------------------------------------------------------------------------\u001b[0m",
      "\u001b[1;31mValueError\u001b[0m                                Traceback (most recent call last)",
      "Cell \u001b[1;32mIn[397], line 1\u001b[0m\n\u001b[1;32m----> 1\u001b[0m \u001b[43mciudades_del_mundo\u001b[49m\u001b[38;5;241;43m.\u001b[39;49m\u001b[43mindex\u001b[49m\u001b[43m(\u001b[49m\u001b[38;5;124;43m\"\u001b[39;49m\u001b[38;5;124;43mberlin\u001b[39;49m\u001b[38;5;124;43m\"\u001b[39;49m\u001b[43m)\u001b[49m   \u001b[38;5;66;03m#11.¿Qué pasa si se busca un elemento que no existe? R//marca que no existe\u001b[39;00m\n\u001b[0;32m      2\u001b[0m \u001b[38;5;28mprint\u001b[39m([\u001b[38;5;124m\"\u001b[39m\u001b[38;5;124mroma\u001b[39m\u001b[38;5;124m\"\u001b[39m \u001b[38;5;129;01min\u001b[39;00m ciudades_del_mundo])\n",
      "\u001b[1;31mValueError\u001b[0m: 'berlin' is not in list"
     ]
    }
   ],
   "source": [
    "ciudades_del_mundo.index(\"berlin\")   #11.¿Qué pasa si se busca un elemento que no existe? R//marca que no existe\n",
    "print([\"roma\" in ciudades_del_mundo])"
   ]
  },
  {
   "cell_type": "code",
   "execution_count": null,
   "metadata": {},
   "outputs": [
    {
     "name": "stdout",
     "output_type": "stream",
     "text": [
      "['madrid', 'munich', 'munich', 'la paz', 'roma', 'moscu', 'londres', 'madrid', 1, 2, 'madrid', 1, 2, 3]\n"
     ]
    }
   ],
   "source": [
    "ciudades_del_mundo.remove(\"bogota\")   #12. Eliminar un elemento de la lista\n",
    "print(ciudades_del_mundo)"
   ]
  },
  {
   "cell_type": "code",
   "execution_count": null,
   "metadata": {},
   "outputs": [
    {
     "ename": "ValueError",
     "evalue": "list.remove(x): x not in list",
     "output_type": "error",
     "traceback": [
      "\u001b[1;31m---------------------------------------------------------------------------\u001b[0m",
      "\u001b[1;31mValueError\u001b[0m                                Traceback (most recent call last)",
      "Cell \u001b[1;32mIn[128], line 1\u001b[0m\n\u001b[1;32m----> 1\u001b[0m \u001b[43mciudades_del_mundo\u001b[49m\u001b[38;5;241;43m.\u001b[39;49m\u001b[43mremove\u001b[49m\u001b[43m(\u001b[49m\u001b[38;5;124;43m\"\u001b[39;49m\u001b[38;5;124;43mestambul\u001b[39;49m\u001b[38;5;124;43m\"\u001b[39;49m\u001b[43m)\u001b[49m \u001b[38;5;66;03m#13. ¿Qué pasa si el elemento a eliminar no existe? R//marca que elemento no existe\u001b[39;00m\n",
      "\u001b[1;31mValueError\u001b[0m: list.remove(x): x not in list"
     ]
    }
   ],
   "source": [
    "ciudades_del_mundo.remove(\"estambul\") #13. ¿Qué pasa si el elemento a eliminar no existe? R//marca que elemento no existe"
   ]
  },
  {
   "cell_type": "code",
   "execution_count": null,
   "metadata": {},
   "outputs": [
    {
     "name": "stdout",
     "output_type": "stream",
     "text": [
      "3\n",
      "['bogota', 'madrid', 'munich', 'la paz', 'roma', 'moscu', 'londres', 'madrid', 1, 2]\n"
     ]
    }
   ],
   "source": [
    "#14. Extraer el úlimo elemento de la lista, guardarlo en una variable e imprimirlo\n",
    "ultimo_elemento_lista=ciudades_del_mundo.pop(10)\n",
    "print(ultimo_elemento_lista)\n",
    "print(ciudades_del_mundo)"
   ]
  },
  {
   "cell_type": "code",
   "execution_count": null,
   "metadata": {},
   "outputs": [
    {
     "name": "stdout",
     "output_type": "stream",
     "text": [
      "['bogota', 'madrid', 'munich', 'munich', 'la paz', 'roma', 'moscu', 'londres', 'madrid', 1, 2, 'madrid', 1, 2, 3, 'bogota', 'madrid', 'munich', 'munich', 'la paz', 'roma', 'moscu', 'londres', 'madrid', 1, 2, 'madrid', 1, 2, 3, 'bogota', 'madrid', 'munich', 'munich', 'la paz', 'roma', 'moscu', 'londres', 'madrid', 1, 2, 'madrid', 1, 2, 3, 'bogota', 'madrid', 'munich', 'munich', 'la paz', 'roma', 'moscu', 'londres', 'madrid', 1, 2, 'madrid', 1, 2, 3]\n"
     ]
    }
   ],
   "source": [
    "#15 Mostrar la lista multiplicada por 4\n",
    "print(ciudades_del_mundo*4)"
   ]
  },
  {
   "cell_type": "code",
   "execution_count": null,
   "metadata": {},
   "outputs": [
    {
     "name": "stdout",
     "output_type": "stream",
     "text": [
      "(1, 2, 3, 4, 5, 6, 7, 8, 9, 10, 11, 12, 13, 14, 15, 16, 17, 18, 19, 20)\n"
     ]
    }
   ],
   "source": [
    "#16. Crear una tupla que contenga los números enteros del 1 al 20\n",
    "mi_tupla=(1,2,3,4,5,6,7,8,9,10,11,12,13,14,15,16,17,18,19,20)       #forma 1\n",
    "type(mi_tupla)\n",
    "mi_tupla2=tuple(range(1,21))                                           #forma 2\n",
    "print(mi_tupla2)"
   ]
  },
  {
   "cell_type": "code",
   "execution_count": null,
   "metadata": {},
   "outputs": [
    {
     "name": "stdout",
     "output_type": "stream",
     "text": [
      "(11, 12, 13, 14, 15, 16)\n"
     ]
    }
   ],
   "source": [
    "#17. Imprimir desde el índice 10 al 15 de la tupla\n",
    "print(mi_tupla[10:16])"
   ]
  },
  {
   "cell_type": "code",
   "execution_count": 409,
   "metadata": {},
   "outputs": [
    {
     "name": "stdout",
     "output_type": "stream",
     "text": [
      "True\n",
      "False\n",
      "(1, 2, 3, 4, 5, 6, 7, 8, 9, 10, 11, 12, 13, 14, 15, 16, 17, 18, 19, 20)\n"
     ]
    }
   ],
   "source": [
    "#18-Evaluar si los números 20 y 30 están dentro de la tupla\n",
    "\n",
    "print(20 in mi_tupla)\n",
    "print(30 in mi_tupla)\n",
    "print(mi_tupla)"
   ]
  },
  {
   "cell_type": "code",
   "execution_count": null,
   "metadata": {},
   "outputs": [
    {
     "name": "stdout",
     "output_type": "stream",
     "text": [
      "[True]\n",
      "['paris', 'paris', 'bogota', 'madrid', 'munich', 'la paz', 'roma', 'moscu', 'londres', 'madrid', 1, 2, 3]\n"
     ]
    }
   ],
   "source": [
    "#19-Con la lista creada en el punto 1, validar la existencia del elemento 'París' y si no existe,\n",
    "# agregarlo. Utilizar una variable e informar lo sucedido.\n",
    "\n",
    "print([\"paris\" in ciudades_del_mundo])\n",
    "ciudades_del_mundo.insert(0,\"paris\")\n",
    "print(ciudades_del_mundo)"
   ]
  },
  {
   "cell_type": "code",
   "execution_count": 399,
   "metadata": {},
   "outputs": [
    {
     "name": "stdout",
     "output_type": "stream",
     "text": [
      "El elemento París ya existía\n",
      "['París', 'paris', 'bogota', 'madrid', 'munich', 'la paz', 'roma', 'moscu', 'londres', 'madrid', 1, 2, 3]\n"
     ]
    }
   ],
   "source": [
    "#solucion No, 2\n",
    "elemento = 'París'\n",
    "if (not(elemento in ciudades_del_mundo)):\n",
    "    ciudades_del_mundo.insert(0,elemento)\n",
    "    print('Se insertó el elemento', elemento)\n",
    "else:\n",
    "    print('El elemento', elemento, 'ya existía')\n",
    "\n",
    "print(ciudades_del_mundo)"
   ]
  },
  {
   "cell_type": "code",
   "execution_count": 420,
   "metadata": {},
   "outputs": [
    {
     "name": "stdout",
     "output_type": "stream",
     "text": [
      "1\n",
      "2\n"
     ]
    }
   ],
   "source": [
    "#20. Mostrar la cantidad de veces que se encuentra un elemento específico dentro de la tupla y de la lista\n",
    "print(mi_tupla.count(20))\n",
    "print(ciudades_del_mundo.count(\"madrid\"))"
   ]
  },
  {
   "cell_type": "code",
   "execution_count": 425,
   "metadata": {},
   "outputs": [
    {
     "name": "stdout",
     "output_type": "stream",
     "text": [
      "[1, 2, 3, 4, 5, 6, 7, 8, 9, 10, 11, 12, 13, 14, 15, 16, 17, 18, 19, 20]\n"
     ]
    }
   ],
   "source": [
    "#21-Convertir la tupla en una lista\n",
    "mi_tupla_hecha_lista=list(mi_tupla)\n",
    "print(mi_tupla_hecha_lista)"
   ]
  },
  {
   "cell_type": "code",
   "execution_count": 429,
   "metadata": {},
   "outputs": [
    {
     "name": "stdout",
     "output_type": "stream",
     "text": [
      "1 2 3\n"
     ]
    }
   ],
   "source": [
    "#22-Desempaquetar solo los primeros 3 elementos de la tupla en 3 variables\n",
    "\n",
    "[prim,sdo,terc,_,_,_,_,_,_,_,_,_,_,_,_,_,_,_,_,_]=mi_tupla\n",
    "print(prim,sdo,terc)"
   ]
  },
  {
   "cell_type": "code",
   "execution_count": 439,
   "metadata": {},
   "outputs": [
    {
     "name": "stdout",
     "output_type": "stream",
     "text": [
      "['París', 'paris', 'bogota', 'madrid', 'munich', 'la paz', 'roma', 'moscu', 'londres', 'madrid', 1, 2, 3]\n",
      "{'ciudad': ['París', 'paris', 'bogota', 'madrid', 'munich', 'la paz', 'roma', 'moscu', 'londres', 'madrid', 1, 2, 3], 'pais': ['francia', 'francia', 'colombia', 'españa', 'alemania', 'bolivia', 'italia', 'rusia', 'inglaterra', 'españa', 'no aplica', 'no aplica', 'no aplica'], 'continente': ['europa', 'europa', 'sudamerica', 'europa', 'europa', 'sudamerica', 'europa', 'asia', 'europa', 'no aplica', 'no aplica']}\n"
     ]
    }
   ],
   "source": [
    "#23-Crear un diccionario utilizando la lista creada en el punto 1, asignandole la clave \"ciudad\".\n",
    "# Agregar tambien otras claves, como puede ser \"Pais\" y \"Continente\".\n",
    "print(ciudades_del_mundo)\n",
    "mi_dicc={\"ciudad\":ciudades_del_mundo,\"pais\":[\"francia\",\"francia\",\"colombia\",\"españa\",\"alemania\",\"bolivia\",\"italia\",\"rusia\",\n",
    "                                             \"inglaterra\",\"españa\",\"no aplica\",\"no aplica\",\"no aplica\"],\n",
    "                                             \"continente\":[\"europa\",\"europa\",\"sudamerica\",\"europa\",\"europa\",\n",
    "                                                           \"sudamerica\",\"europa\",\"asia\",\"europa\",\"no aplica\",\"no aplica\"]}\n",
    "print(mi_dicc)\n",
    "\n"
   ]
  },
  {
   "cell_type": "code",
   "execution_count": 447,
   "metadata": {},
   "outputs": [
    {
     "name": "stdout",
     "output_type": "stream",
     "text": [
      "dict_keys(['ciudad', 'pais', 'continente'])\n"
     ]
    }
   ],
   "source": [
    "#24-Imprimir las claves del diccionario  \n",
    "print(mi_dicc.keys())\n"
   ]
  },
  {
   "cell_type": "code",
   "execution_count": 452,
   "metadata": {},
   "outputs": [
    {
     "name": "stdout",
     "output_type": "stream",
     "text": [
      "['París', 'paris', 'bogota', 'madrid', 'munich', 'la paz', 'roma', 'moscu', 'londres', 'madrid', 1, 2, 3]\n"
     ]
    }
   ],
   "source": [
    "#Imprimir las ciudades a través de su clave\n",
    "print(mi_dicc[\"ciudad\"])"
   ]
  }
 ],
 "metadata": {
  "kernelspec": {
   "display_name": "Python 3",
   "language": "python",
   "name": "python3"
  },
  "language_info": {
   "codemirror_mode": {
    "name": "ipython",
    "version": 3
   },
   "file_extension": ".py",
   "mimetype": "text/x-python",
   "name": "python",
   "nbconvert_exporter": "python",
   "pygments_lexer": "ipython3",
   "version": "3.12.2"
  }
 },
 "nbformat": 4,
 "nbformat_minor": 2
}
